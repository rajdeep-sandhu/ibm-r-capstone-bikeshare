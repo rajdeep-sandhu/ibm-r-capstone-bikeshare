{
 "cells": [
  {
   "cell_type": "markdown",
   "metadata": {},
   "source": [
    "# Exploratory Data Analysis with SQL"
   ]
  },
  {
   "cell_type": "markdown",
   "metadata": {},
   "source": [
    "Exploratory data analysis is performed using SQL queries with the RSQLite R package."
   ]
  },
  {
   "cell_type": "markdown",
   "metadata": {},
   "source": [
    "## Establish an SQLite connection with R"
   ]
  },
  {
   "cell_type": "markdown",
   "metadata": {
    "vscode": {
     "languageId": "python"
    }
   },
   "source": [
    "Load the 'RSQLite' library."
   ]
  },
  {
   "cell_type": "code",
   "execution_count": 1,
   "metadata": {
    "vscode": {
     "languageId": "r"
    }
   },
   "outputs": [
    {
     "name": "stderr",
     "output_type": "stream",
     "text": [
      "Using libcurl 7.64.1 with Schannel\n",
      "\n",
      "-- \u001b[1mAttaching packages\u001b[22m --------------------------------------- tidyverse 1.3.2 --\n",
      "\u001b[32mv\u001b[39m \u001b[34mggplot2\u001b[39m 3.4.0     \u001b[32mv\u001b[39m \u001b[34mpurrr  \u001b[39m 1.0.1\n",
      "\u001b[32mv\u001b[39m \u001b[34mtibble \u001b[39m 3.1.8     \u001b[32mv\u001b[39m \u001b[34mdplyr  \u001b[39m 1.1.0\n",
      "\u001b[32mv\u001b[39m \u001b[34mtidyr  \u001b[39m 1.3.0     \u001b[32mv\u001b[39m \u001b[34mstringr\u001b[39m 1.5.0\n",
      "\u001b[32mv\u001b[39m \u001b[34mreadr  \u001b[39m 2.1.3     \u001b[32mv\u001b[39m \u001b[34mforcats\u001b[39m 1.0.0\n",
      "-- \u001b[1mConflicts\u001b[22m ------------------------------------------ tidyverse_conflicts() --\n",
      "\u001b[31mx\u001b[39m \u001b[34mdplyr\u001b[39m::\u001b[32mfilter()\u001b[39m     masks \u001b[34mstats\u001b[39m::filter()\n",
      "\u001b[31mx\u001b[39m \u001b[34mdplyr\u001b[39m::\u001b[32mlag()\u001b[39m        masks \u001b[34mstats\u001b[39m::lag()\n",
      "\u001b[31mx\u001b[39m \u001b[34mreadr\u001b[39m::\u001b[32mparse_date()\u001b[39m masks \u001b[34mcurl\u001b[39m::parse_date()\n"
     ]
    }
   ],
   "source": [
    "# provide your solution here\n",
    "\n",
    "# install.packages(\"RSQLite\")\n",
    "# install.packages(\"tidyverse\")\n",
    "\n",
    "library(RSQLite)\n",
    "library(curl)\n",
    "library(tidyverse)"
   ]
  },
  {
   "cell_type": "markdown",
   "metadata": {},
   "source": [
    "Use 'dbConnect( )' to establish a connection to the SQLite database."
   ]
  },
  {
   "cell_type": "code",
   "execution_count": 2,
   "metadata": {
    "vscode": {
     "languageId": "r"
    }
   },
   "outputs": [
    {
     "data": {
      "text/plain": [
       "<SQLiteConnection>\n",
       "  Path: C:\\Users\\djtal\\OneDrive\\Jupyter Notebooks\\bike_shareDB.sqlite\n",
       "  Extensions: TRUE"
      ]
     },
     "metadata": {},
     "output_type": "display_data"
    },
    {
     "data": {
      "text/plain": [
       "$ptr\n",
       "<pointer: 0x000000001358c4b0>\n",
       "\n",
       "$dbname\n",
       "[1] \"C:\\\\Users\\\\djtal\\\\OneDrive\\\\Jupyter Notebooks\\\\bike_shareDB.sqlite\"\n",
       "\n",
       "$loadable.extensions\n",
       "[1] TRUE\n",
       "\n",
       "$flags\n",
       "[1] 70\n",
       "\n",
       "$vfs\n",
       "[1] \"\"\n",
       "\n",
       "$ref\n",
       "<environment: 0x000000003aa60558>\n",
       "\n",
       "$bigint\n",
       "[1] \"integer64\"\n",
       "\n",
       "$extended_types\n",
       "[1] FALSE\n",
       "\n",
       "$class\n",
       "[1] \"SQLiteConnection\"\n",
       "attr(,\"package\")\n",
       "[1] \"RSQLite\"\n"
      ]
     },
     "metadata": {},
     "output_type": "display_data"
    },
    {
     "data": {
      "text/html": [
       "<dl>\n",
       "\t<dt>$db.version</dt>\n",
       "\t\t<dd>'3.40.0'</dd>\n",
       "\t<dt>$dbname</dt>\n",
       "\t\t<dd>'C:\\\\Users\\\\djtal\\\\OneDrive\\\\Jupyter Notebooks\\\\bike_shareDB.sqlite'</dd>\n",
       "\t<dt>$username</dt>\n",
       "\t\t<dd>&lt;NA&gt;</dd>\n",
       "\t<dt>$host</dt>\n",
       "\t\t<dd>&lt;NA&gt;</dd>\n",
       "\t<dt>$port</dt>\n",
       "\t\t<dd>&lt;NA&gt;</dd>\n",
       "</dl>\n"
      ],
      "text/latex": [
       "\\begin{description}\n",
       "\\item[\\$db.version] '3.40.0'\n",
       "\\item[\\$dbname] 'C:\\textbackslash{}\\textbackslash{}Users\\textbackslash{}\\textbackslash{}djtal\\textbackslash{}\\textbackslash{}OneDrive\\textbackslash{}\\textbackslash{}Jupyter Notebooks\\textbackslash{}\\textbackslash{}bike\\_shareDB.sqlite'\n",
       "\\item[\\$username] <NA>\n",
       "\\item[\\$host] <NA>\n",
       "\\item[\\$port] <NA>\n",
       "\\end{description}\n"
      ],
      "text/markdown": [
       "$db.version\n",
       ":   '3.40.0'\n",
       "$dbname\n",
       ":   'C:\\\\Users\\\\djtal\\\\OneDrive\\\\Jupyter Notebooks\\\\bike_shareDB.sqlite'\n",
       "$username\n",
       ":   &lt;NA&gt;\n",
       "$host\n",
       ":   &lt;NA&gt;\n",
       "$port\n",
       ":   &lt;NA&gt;\n",
       "\n",
       "\n"
      ],
      "text/plain": [
       "$db.version\n",
       "[1] \"3.40.0\"\n",
       "\n",
       "$dbname\n",
       "[1] \"C:\\\\Users\\\\djtal\\\\OneDrive\\\\Jupyter Notebooks\\\\bike_shareDB.sqlite\"\n",
       "\n",
       "$username\n",
       "[1] NA\n",
       "\n",
       "$host\n",
       "[1] NA\n",
       "\n",
       "$port\n",
       "[1] NA\n"
      ]
     },
     "metadata": {},
     "output_type": "display_data"
    },
    {
     "name": "stdout",
     "output_type": "stream",
     "text": [
      "$db.version\n",
      "[1] \"3.40.0\"\n",
      "\n",
      "$dbname\n",
      "[1] \"C:\\\\Users\\\\djtal\\\\OneDrive\\\\Jupyter Notebooks\\\\bike_shareDB.sqlite\"\n",
      "\n"
     ]
    }
   ],
   "source": [
    "# Create a connection to a local database file. NB Check if file is created if it does not exist\n",
    "conn <- dbConnect(RSQLite::SQLite(),\"bike_shareDB.sqlite\") \n",
    "conn\n",
    "\n",
    "# Get connection attributes\n",
    "attributes(conn)\n",
    "\n",
    "# Get connection information\n",
    "conn.info <- dbGetInfo(conn) \n",
    "conn.info\n",
    "print(conn.info[\"db.version\"])\n",
    "print(conn.info[\"dbname\"])"
   ]
  },
  {
   "cell_type": "markdown",
   "metadata": {},
   "source": [
    "Use `curl()` to download the following csv files:\n",
    "\n",
    "*   [WORLD_CITIES](https://cf-courses-data.s3.us.cloud-object-storage.appdomain.cloud/IBMDeveloperSkillsNetwork-RP0321EN-SkillsNetwork/labs/datasets/world_cities.csv)\n",
    "\n",
    "*   [BIKE_SHARING_SYSTEMS](https://cf-courses-data.s3.us.cloud-object-storage.appdomain.cloud/IBMDeveloperSkillsNetwork-RP0321EN-SkillsNetwork/labs/datasets/bike_sharing_systems.csv)\n",
    "\n",
    "*   [CITIES_WEATHER_FORECAST](https://cf-courses-data.s3.us.cloud-object-storage.appdomain.cloud/IBMDeveloperSkillsNetwork-RP0321EN-SkillsNetwork/labs/datasets/cities_weather_forecast.csv)\n",
    "\n",
    "*   [SEOUL_BIKE_SHARING](https://cf-courses-data.s3.us.cloud-object-storage.appdomain.cloud/IBMDeveloperSkillsNetwork-RP0321EN-SkillsNetwork/labs/datasets/seoul_bike_sharing.csv)\n",
    "\n",
    "Load the csv's  into 4 tables using `read_csv()` and `dbWriteTable()`:\n",
    "* SEOUL_BIKE_SHARING\n",
    "\n",
    "* CITIES_WEATHER_FORECAST\n",
    "\n",
    "* BIKE_SHARING_SYSTEMS \n",
    "\n",
    "*  WORLD_CITIES"
   ]
  },
  {
   "cell_type": "code",
   "execution_count": 3,
   "metadata": {
    "vscode": {
     "languageId": "r"
    }
   },
   "outputs": [],
   "source": [
    "library(curl)"
   ]
  },
  {
   "cell_type": "code",
   "execution_count": 4,
   "metadata": {
    "vscode": {
     "languageId": "r"
    }
   },
   "outputs": [],
   "source": [
    "# Download files with curl\n",
    "curl_download(\"https://cf-courses-data.s3.us.cloud-object-storage.appdomain.cloud/IBMDeveloperSkillsNetwork-RP0321EN-SkillsNetwork/labs/datasets/world_cities.csv\", \"world_cities.csv\")\n",
    "\n",
    "curl_download(\"https://cf-courses-data.s3.us.cloud-object-storage.appdomain.cloud/IBMDeveloperSkillsNetwork-RP0321EN-SkillsNetwork/labs/datasets/bike_sharing_systems.csv\", \"bike_sharing_systems.csv\")\n",
    "\n",
    "curl_download(\"https://cf-courses-data.s3.us.cloud-object-storage.appdomain.cloud/IBMDeveloperSkillsNetwork-RP0321EN-SkillsNetwork/labs/datasets/cities_weather_forecast.csv\", \"cities_weather_forecast.csv\")\n",
    "\n",
    "curl_download(\"https://cf-courses-data.s3.us.cloud-object-storage.appdomain.cloud/IBMDeveloperSkillsNetwork-RP0321EN-SkillsNetwork/labs/datasets/seoul_bike_sharing.csv\", \"seoul_bike_sharing.csv\")"
   ]
  },
  {
   "cell_type": "markdown",
   "metadata": {},
   "source": [
    "List database tables."
   ]
  },
  {
   "cell_type": "code",
   "execution_count": 5,
   "metadata": {
    "vscode": {
     "languageId": "r"
    }
   },
   "outputs": [
    {
     "data": {
      "text/html": [
       "<style>\n",
       ".list-inline {list-style: none; margin:0; padding: 0}\n",
       ".list-inline>li {display: inline-block}\n",
       ".list-inline>li:not(:last-child)::after {content: \"\\00b7\"; padding: 0 .5ex}\n",
       "</style>\n",
       "<ol class=list-inline><li>'bike_sharing_systems'</li><li>'cities_weather_forecast'</li><li>'seoul_bike_sharing'</li><li>'world_cities'</li></ol>\n"
      ],
      "text/latex": [
       "\\begin{enumerate*}\n",
       "\\item 'bike\\_sharing\\_systems'\n",
       "\\item 'cities\\_weather\\_forecast'\n",
       "\\item 'seoul\\_bike\\_sharing'\n",
       "\\item 'world\\_cities'\n",
       "\\end{enumerate*}\n"
      ],
      "text/markdown": [
       "1. 'bike_sharing_systems'\n",
       "2. 'cities_weather_forecast'\n",
       "3. 'seoul_bike_sharing'\n",
       "4. 'world_cities'\n",
       "\n",
       "\n"
      ],
      "text/plain": [
       "[1] \"bike_sharing_systems\"    \"cities_weather_forecast\"\n",
       "[3] \"seoul_bike_sharing\"      \"world_cities\"           "
      ]
     },
     "metadata": {},
     "output_type": "display_data"
    }
   ],
   "source": [
    "# List tables in database\n",
    "dbListTables(conn)\n",
    "\n"
   ]
  },
  {
   "cell_type": "markdown",
   "metadata": {},
   "source": [
    "Read the datasets from the `.csv` files and write them to the SQLite database."
   ]
  },
  {
   "cell_type": "code",
   "execution_count": 6,
   "metadata": {
    "vscode": {
     "languageId": "r"
    }
   },
   "outputs": [
    {
     "name": "stderr",
     "output_type": "stream",
     "text": [
      "\u001b[1mRows: \u001b[22m\u001b[34m8465\u001b[39m \u001b[1mColumns: \u001b[22m\u001b[34m14\u001b[39m\n",
      "\u001b[36m--\u001b[39m \u001b[1mColumn specification\u001b[22m \u001b[36m--------------------------------------------------------\u001b[39m\n",
      "\u001b[1mDelimiter:\u001b[22m \",\"\n",
      "\u001b[31mchr\u001b[39m  (4): DATE, SEASONS, HOLIDAY, FUNCTIONING_DAY\n",
      "\u001b[32mdbl\u001b[39m (10): RENTED_BIKE_COUNT, HOUR, TEMPERATURE, HUMIDITY, WIND_SPEED, VISIBI...\n",
      "\n",
      "\u001b[36mi\u001b[39m Use `spec()` to retrieve the full column specification for this data.\n",
      "\u001b[36mi\u001b[39m Specify the column types or set `show_col_types = FALSE` to quiet this message.\n"
     ]
    },
    {
     "name": "stdout",
     "output_type": "stream",
     "text": [
      "[1] \"Writing seoul_bike_sharing to database.\"\n"
     ]
    },
    {
     "name": "stderr",
     "output_type": "stream",
     "text": [
      "\u001b[1mRows: \u001b[22m\u001b[34m160\u001b[39m \u001b[1mColumns: \u001b[22m\u001b[34m12\u001b[39m\n",
      "\u001b[36m--\u001b[39m \u001b[1mColumn specification\u001b[22m \u001b[36m--------------------------------------------------------\u001b[39m\n",
      "\u001b[1mDelimiter:\u001b[22m \",\"\n",
      "\u001b[31mchr\u001b[39m  (3): CITY, WEATHER, SEASON\n",
      "\u001b[32mdbl\u001b[39m  (8): VISIBILITY, TEMP, TEMP_MIN, TEMP_MAX, PRESSURE, HUMIDITY, WIND_SPE...\n",
      "\u001b[34mdttm\u001b[39m (1): FORECAST_DATETIME\n",
      "\n",
      "\u001b[36mi\u001b[39m Use `spec()` to retrieve the full column specification for this data.\n",
      "\u001b[36mi\u001b[39m Specify the column types or set `show_col_types = FALSE` to quiet this message.\n"
     ]
    },
    {
     "name": "stdout",
     "output_type": "stream",
     "text": [
      "[1] \"Writing cities_weather_forecast to database.\"\n"
     ]
    },
    {
     "name": "stderr",
     "output_type": "stream",
     "text": [
      "\u001b[1mRows: \u001b[22m\u001b[34m480\u001b[39m \u001b[1mColumns: \u001b[22m\u001b[34m4\u001b[39m\n",
      "\u001b[36m--\u001b[39m \u001b[1mColumn specification\u001b[22m \u001b[36m--------------------------------------------------------\u001b[39m\n",
      "\u001b[1mDelimiter:\u001b[22m \",\"\n",
      "\u001b[31mchr\u001b[39m (3): COUNTRY, CITY, SYSTEM\n",
      "\u001b[32mdbl\u001b[39m (1): BICYCLES\n",
      "\n",
      "\u001b[36mi\u001b[39m Use `spec()` to retrieve the full column specification for this data.\n",
      "\u001b[36mi\u001b[39m Specify the column types or set `show_col_types = FALSE` to quiet this message.\n"
     ]
    },
    {
     "name": "stdout",
     "output_type": "stream",
     "text": [
      "[1] \"Writing bike_sharing_systems to database.\"\n"
     ]
    },
    {
     "name": "stderr",
     "output_type": "stream",
     "text": [
      "\u001b[1mRows: \u001b[22m\u001b[34m26569\u001b[39m \u001b[1mColumns: \u001b[22m\u001b[34m11\u001b[39m\n",
      "\u001b[36m--\u001b[39m \u001b[1mColumn specification\u001b[22m \u001b[36m--------------------------------------------------------\u001b[39m\n",
      "\u001b[1mDelimiter:\u001b[22m \",\"\n",
      "\u001b[31mchr\u001b[39m (7): CITY, CITY_ASCII, COUNTRY, ISO2, ISO3, ADMIN_NAME, CAPITAL\n",
      "\u001b[32mdbl\u001b[39m (4): LAT, LNG, POPULATION, ID\n",
      "\n",
      "\u001b[36mi\u001b[39m Use `spec()` to retrieve the full column specification for this data.\n",
      "\u001b[36mi\u001b[39m Specify the column types or set `show_col_types = FALSE` to quiet this message.\n"
     ]
    },
    {
     "name": "stdout",
     "output_type": "stream",
     "text": [
      "[1] \"Writing world_cities to database.\"\n"
     ]
    }
   ],
   "source": [
    "# Define dataset names\n",
    "datasets <- c(\"seoul_bike_sharing\", \"cities_weather_forecast\", \"bike_sharing_systems\", \"world_cities\")\n",
    "\n",
    "# Read datasets from CSV and write to database\n",
    "for (dataset in datasets)\n",
    "{\n",
    "    data_df <- read_csv(paste(dataset, \".csv\", sep=\"\"))\n",
    "    # print(head(data_df))\n",
    "    dbWriteTable(conn, dataset, data_df, overwrite=TRUE, header = TRUE)\n",
    "    print(paste(\"Writing\", dataset, \"to database.\"))\n",
    "}"
   ]
  },
  {
   "cell_type": "markdown",
   "metadata": {},
   "source": [
    "Get colums for each table."
   ]
  },
  {
   "cell_type": "code",
   "execution_count": 7,
   "metadata": {
    "vscode": {
     "languageId": "r"
    }
   },
   "outputs": [
    {
     "data": {
      "text/html": [
       "<style>\n",
       ".list-inline {list-style: none; margin:0; padding: 0}\n",
       ".list-inline>li {display: inline-block}\n",
       ".list-inline>li:not(:last-child)::after {content: \"\\00b7\"; padding: 0 .5ex}\n",
       "</style>\n",
       "<ol class=list-inline><li>'bike_sharing_systems'</li><li>'cities_weather_forecast'</li><li>'seoul_bike_sharing'</li><li>'world_cities'</li></ol>\n"
      ],
      "text/latex": [
       "\\begin{enumerate*}\n",
       "\\item 'bike\\_sharing\\_systems'\n",
       "\\item 'cities\\_weather\\_forecast'\n",
       "\\item 'seoul\\_bike\\_sharing'\n",
       "\\item 'world\\_cities'\n",
       "\\end{enumerate*}\n"
      ],
      "text/markdown": [
       "1. 'bike_sharing_systems'\n",
       "2. 'cities_weather_forecast'\n",
       "3. 'seoul_bike_sharing'\n",
       "4. 'world_cities'\n",
       "\n",
       "\n"
      ],
      "text/plain": [
       "[1] \"bike_sharing_systems\"    \"cities_weather_forecast\"\n",
       "[3] \"seoul_bike_sharing\"      \"world_cities\"           "
      ]
     },
     "metadata": {},
     "output_type": "display_data"
    },
    {
     "name": "stdout",
     "output_type": "stream",
     "text": [
      "\n",
      "Column info for table seoul_bike_sharing :\n",
      "                    name      type\n",
      "1                   DATE character\n",
      "2      RENTED_BIKE_COUNT    double\n",
      "3                   HOUR    double\n",
      "4            TEMPERATURE    double\n",
      "5               HUMIDITY    double\n",
      "6             WIND_SPEED    double\n",
      "7             VISIBILITY    double\n",
      "8  DEW_POINT_TEMPERATURE    double\n",
      "9        SOLAR_RADIATION    double\n",
      "10              RAINFALL    double\n",
      "11              SNOWFALL    double\n",
      "12               SEASONS character\n",
      "13               HOLIDAY character\n",
      "14       FUNCTIONING_DAY character\n",
      "\n",
      "Column info for table cities_weather_forecast :\n"
     ]
    },
    {
     "name": "stderr",
     "output_type": "stream",
     "text": [
      "Warning message:\n",
      "\"Closing open result set, pending rows\"\n"
     ]
    },
    {
     "name": "stdout",
     "output_type": "stream",
     "text": [
      "                name      type\n",
      "1               CITY character\n",
      "2            WEATHER character\n",
      "3         VISIBILITY    double\n",
      "4               TEMP    double\n",
      "5           TEMP_MIN    double\n",
      "6           TEMP_MAX    double\n",
      "7           PRESSURE    double\n",
      "8           HUMIDITY    double\n",
      "9         WIND_SPEED    double\n",
      "10          WIND_DEG    double\n",
      "11            SEASON character\n",
      "12 FORECAST_DATETIME    double\n",
      "\n",
      "Column info for table bike_sharing_systems :\n"
     ]
    },
    {
     "name": "stderr",
     "output_type": "stream",
     "text": [
      "Warning message:\n",
      "\"Closing open result set, pending rows\"\n"
     ]
    },
    {
     "name": "stdout",
     "output_type": "stream",
     "text": [
      "      name      type\n",
      "1  COUNTRY character\n",
      "2     CITY character\n",
      "3   SYSTEM character\n",
      "4 BICYCLES    double\n",
      "\n",
      "Column info for table world_cities :\n"
     ]
    },
    {
     "name": "stderr",
     "output_type": "stream",
     "text": [
      "Warning message:\n",
      "\"Closing open result set, pending rows\"\n"
     ]
    },
    {
     "name": "stdout",
     "output_type": "stream",
     "text": [
      "         name      type\n",
      "1        CITY character\n",
      "2  CITY_ASCII character\n",
      "3         LAT    double\n",
      "4         LNG    double\n",
      "5     COUNTRY character\n",
      "6        ISO2 character\n",
      "7        ISO3 character\n",
      "8  ADMIN_NAME character\n",
      "9     CAPITAL character\n",
      "10 POPULATION    double\n",
      "11         ID    double\n"
     ]
    }
   ],
   "source": [
    "# List tables in database\n",
    "dbListTables(conn)\n",
    "\n",
    "\n",
    "# Get column details for each table\n",
    "for (table in datasets)\n",
    "{\n",
    "    cat (\"\\nColumn info for table\", table, \":\\n\")\n",
    "    col.detail <- dbColumnInfo(dbSendQuery(conn, paste( \"select * from\", table)))\n",
    "    print(col.detail)\n",
    "}"
   ]
  },
  {
   "cell_type": "markdown",
   "metadata": {},
   "source": [
    "Review the heads of each table."
   ]
  },
  {
   "cell_type": "code",
   "execution_count": 8,
   "metadata": {
    "vscode": {
     "languageId": "r"
    }
   },
   "outputs": [
    {
     "name": "stdout",
     "output_type": "stream",
     "text": [
      "[1] \"seoul_bike_sharing\"\n"
     ]
    },
    {
     "name": "stderr",
     "output_type": "stream",
     "text": [
      "Warning message:\n",
      "\"Closing open result set, pending rows\"\n"
     ]
    },
    {
     "name": "stdout",
     "output_type": "stream",
     "text": [
      "        DATE RENTED_BIKE_COUNT HOUR TEMPERATURE HUMIDITY WIND_SPEED VISIBILITY\n",
      "1 01/12/2017               254    0        -5.2       37        2.2       2000\n",
      "2 01/12/2017               204    1        -5.5       38        0.8       2000\n",
      "3 01/12/2017               173    2        -6.0       39        1.0       2000\n",
      "4 01/12/2017               107    3        -6.2       40        0.9       2000\n",
      "5 01/12/2017                78    4        -6.0       36        2.3       2000\n",
      "  DEW_POINT_TEMPERATURE SOLAR_RADIATION RAINFALL SNOWFALL SEASONS    HOLIDAY\n",
      "1                 -17.6               0        0        0  Winter No Holiday\n",
      "2                 -17.6               0        0        0  Winter No Holiday\n",
      "3                 -17.7               0        0        0  Winter No Holiday\n",
      "4                 -17.6               0        0        0  Winter No Holiday\n",
      "5                 -18.6               0        0        0  Winter No Holiday\n",
      "  FUNCTIONING_DAY\n",
      "1             Yes\n",
      "2             Yes\n",
      "3             Yes\n",
      "4             Yes\n",
      "5             Yes\n",
      "[1] \"cities_weather_forecast\"\n",
      "   CITY WEATHER VISIBILITY  TEMP TEMP_MIN TEMP_MAX PRESSURE HUMIDITY WIND_SPEED\n",
      "1 Seoul   Clear      10000 12.32    10.91    12.32     1015       50       2.18\n",
      "2 Seoul   Clear      10000 11.48     9.81    11.48     1016       48       1.25\n",
      "3 Seoul  Clouds      10000  9.99     8.82     9.99     1015       46       0.94\n",
      "4 Seoul  Clouds      10000  7.87     7.87     7.87     1014       46       0.83\n",
      "5 Seoul  Clouds      10000 10.09    10.09    10.09     1014       37       1.96\n",
      "  WIND_DEG SEASON FORECAST_DATETIME\n",
      "1      248 Spring        1618574400\n",
      "2      142 Spring        1618585200\n",
      "3      130 Spring        1618596000\n",
      "4       31 Spring        1618606800\n",
      "5      309 Spring        1618617600\n",
      "[1] \"bike_sharing_systems\"\n",
      "    COUNTRY                  CITY         SYSTEM BICYCLES\n",
      "1   Albania                Tirana           <NA>      200\n",
      "2 Argentina               Mendoza           <NA>       40\n",
      "3 Argentina San Lorenzo, Santa Fe       Biciudad       80\n",
      "4 Argentina          Buenos Aires Serttel Brasil     4000\n",
      "5 Argentina               Rosario           <NA>      480\n",
      "[1] \"world_cities\"\n",
      "     CITY CITY_ASCII     LAT      LNG     COUNTRY ISO2 ISO3  ADMIN_NAME CAPITAL\n",
      "1   Tokyo      Tokyo 35.6897 139.6922       Japan   JP  JPN       Tokyo primary\n",
      "2 Jakarta    Jakarta -6.2146 106.8451   Indonesia   ID  IDN     Jakarta primary\n",
      "3   Delhi      Delhi 28.6600  77.2300       India   IN  IND       Delhi   admin\n",
      "4  Mumbai     Mumbai 18.9667  72.8333       India   IN  IND Maharashtra   admin\n",
      "5  Manila     Manila 14.5958 120.9772 Philippines   PH  PHL      Manila primary\n",
      "  POPULATION         ID\n",
      "1   37977000 1392685764\n",
      "2   34540000 1360771077\n",
      "3   29617000 1356872604\n",
      "4   23355000 1356226629\n",
      "5   23088000 1608618140\n"
     ]
    }
   ],
   "source": [
    "# Get first 5 records from each table\n",
    "\n",
    "for (table in datasets)\n",
    "{\n",
    "    print(table)\n",
    "    query <- paste('select * from', table, 'limit 5')\n",
    "    result <- dbGetQuery(conn, query)\n",
    "    print(result)\n",
    "}"
   ]
  },
  {
   "cell_type": "markdown",
   "metadata": {},
   "source": [
    "## Use SQL in R for EDA"
   ]
  },
  {
   "cell_type": "markdown",
   "metadata": {},
   "source": [
    "### Initial exploration"
   ]
  },
  {
   "cell_type": "markdown",
   "metadata": {},
   "source": [
    "#### 1. Record Count"
   ]
  },
  {
   "cell_type": "markdown",
   "metadata": {},
   "source": [
    "Determine the number of records in the `seoul_bike_sharing` dataset."
   ]
  },
  {
   "cell_type": "code",
   "execution_count": 9,
   "metadata": {
    "vscode": {
     "languageId": "r"
    }
   },
   "outputs": [
    {
     "data": {
      "text/html": [
       "<table class=\"dataframe\">\n",
       "<caption>A data.frame: 1 × 1</caption>\n",
       "<thead>\n",
       "\t<tr><th scope=col>count(*)</th></tr>\n",
       "\t<tr><th scope=col>&lt;int&gt;</th></tr>\n",
       "</thead>\n",
       "<tbody>\n",
       "\t<tr><td>8465</td></tr>\n",
       "</tbody>\n",
       "</table>\n"
      ],
      "text/latex": [
       "A data.frame: 1 × 1\n",
       "\\begin{tabular}{l}\n",
       " count(*)\\\\\n",
       " <int>\\\\\n",
       "\\hline\n",
       "\t 8465\\\\\n",
       "\\end{tabular}\n"
      ],
      "text/markdown": [
       "\n",
       "A data.frame: 1 × 1\n",
       "\n",
       "| count(*) &lt;int&gt; |\n",
       "|---|\n",
       "| 8465 |\n",
       "\n"
      ],
      "text/plain": [
       "  count(*)\n",
       "1 8465    "
      ]
     },
     "metadata": {},
     "output_type": "display_data"
    }
   ],
   "source": [
    "query <- 'select count(*) from seoul_bike_sharing'\n",
    "dbGetQuery(conn, query)"
   ]
  },
  {
   "cell_type": "markdown",
   "metadata": {},
   "source": [
    "#### 2. Operational Hours"
   ]
  },
  {
   "cell_type": "markdown",
   "metadata": {},
   "source": [
    "Determine the number of hours with a non-zero rented bike count."
   ]
  },
  {
   "cell_type": "code",
   "execution_count": 10,
   "metadata": {
    "vscode": {
     "languageId": "r"
    }
   },
   "outputs": [
    {
     "data": {
      "text/html": [
       "<table class=\"dataframe\">\n",
       "<caption>A data.frame: 1 × 1</caption>\n",
       "<thead>\n",
       "\t<tr><th scope=col>count(*)</th></tr>\n",
       "\t<tr><th scope=col>&lt;int&gt;</th></tr>\n",
       "</thead>\n",
       "<tbody>\n",
       "\t<tr><td>8465</td></tr>\n",
       "</tbody>\n",
       "</table>\n"
      ],
      "text/latex": [
       "A data.frame: 1 × 1\n",
       "\\begin{tabular}{l}\n",
       " count(*)\\\\\n",
       " <int>\\\\\n",
       "\\hline\n",
       "\t 8465\\\\\n",
       "\\end{tabular}\n"
      ],
      "text/markdown": [
       "\n",
       "A data.frame: 1 × 1\n",
       "\n",
       "| count(*) &lt;int&gt; |\n",
       "|---|\n",
       "| 8465 |\n",
       "\n"
      ],
      "text/plain": [
       "  count(*)\n",
       "1 8465    "
      ]
     },
     "metadata": {},
     "output_type": "display_data"
    }
   ],
   "source": [
    "query <- 'select count(*) from seoul_bike_sharing\n",
    "    where rented_bike_count <> 0;'\n",
    "dbGetQuery(conn, query)"
   ]
  },
  {
   "cell_type": "markdown",
   "metadata": {},
   "source": [
    "#### 3. Weather Outlook"
   ]
  },
  {
   "cell_type": "markdown",
   "metadata": {},
   "source": [
    "Query the the weather forecast for Seoul over the next 3 hours.\n",
    "The records in the `CITIES_WEATHER_FORECAST` dataset are 3 hours apart. Therefor, only the first record from the query."
   ]
  },
  {
   "cell_type": "code",
   "execution_count": 11,
   "metadata": {
    "vscode": {
     "languageId": "r"
    }
   },
   "outputs": [
    {
     "data": {
      "text/html": [
       "<table class=\"dataframe\">\n",
       "<caption>A data.frame: 1 × 12</caption>\n",
       "<thead>\n",
       "\t<tr><th scope=col>CITY</th><th scope=col>WEATHER</th><th scope=col>VISIBILITY</th><th scope=col>TEMP</th><th scope=col>TEMP_MIN</th><th scope=col>TEMP_MAX</th><th scope=col>PRESSURE</th><th scope=col>HUMIDITY</th><th scope=col>WIND_SPEED</th><th scope=col>WIND_DEG</th><th scope=col>SEASON</th><th scope=col>FORECAST_DATETIME</th></tr>\n",
       "\t<tr><th scope=col>&lt;chr&gt;</th><th scope=col>&lt;chr&gt;</th><th scope=col>&lt;dbl&gt;</th><th scope=col>&lt;dbl&gt;</th><th scope=col>&lt;dbl&gt;</th><th scope=col>&lt;dbl&gt;</th><th scope=col>&lt;dbl&gt;</th><th scope=col>&lt;dbl&gt;</th><th scope=col>&lt;dbl&gt;</th><th scope=col>&lt;dbl&gt;</th><th scope=col>&lt;chr&gt;</th><th scope=col>&lt;dbl&gt;</th></tr>\n",
       "</thead>\n",
       "<tbody>\n",
       "\t<tr><td>Seoul</td><td>Clear</td><td>10000</td><td>12.32</td><td>10.91</td><td>12.32</td><td>1015</td><td>50</td><td>2.18</td><td>248</td><td>Spring</td><td>1618574400</td></tr>\n",
       "</tbody>\n",
       "</table>\n"
      ],
      "text/latex": [
       "A data.frame: 1 × 12\n",
       "\\begin{tabular}{llllllllllll}\n",
       " CITY & WEATHER & VISIBILITY & TEMP & TEMP\\_MIN & TEMP\\_MAX & PRESSURE & HUMIDITY & WIND\\_SPEED & WIND\\_DEG & SEASON & FORECAST\\_DATETIME\\\\\n",
       " <chr> & <chr> & <dbl> & <dbl> & <dbl> & <dbl> & <dbl> & <dbl> & <dbl> & <dbl> & <chr> & <dbl>\\\\\n",
       "\\hline\n",
       "\t Seoul & Clear & 10000 & 12.32 & 10.91 & 12.32 & 1015 & 50 & 2.18 & 248 & Spring & 1618574400\\\\\n",
       "\\end{tabular}\n"
      ],
      "text/markdown": [
       "\n",
       "A data.frame: 1 × 12\n",
       "\n",
       "| CITY &lt;chr&gt; | WEATHER &lt;chr&gt; | VISIBILITY &lt;dbl&gt; | TEMP &lt;dbl&gt; | TEMP_MIN &lt;dbl&gt; | TEMP_MAX &lt;dbl&gt; | PRESSURE &lt;dbl&gt; | HUMIDITY &lt;dbl&gt; | WIND_SPEED &lt;dbl&gt; | WIND_DEG &lt;dbl&gt; | SEASON &lt;chr&gt; | FORECAST_DATETIME &lt;dbl&gt; |\n",
       "|---|---|---|---|---|---|---|---|---|---|---|---|\n",
       "| Seoul | Clear | 10000 | 12.32 | 10.91 | 12.32 | 1015 | 50 | 2.18 | 248 | Spring | 1618574400 |\n",
       "\n"
      ],
      "text/plain": [
       "  CITY  WEATHER VISIBILITY TEMP  TEMP_MIN TEMP_MAX PRESSURE HUMIDITY WIND_SPEED\n",
       "1 Seoul Clear   10000      12.32 10.91    12.32    1015     50       2.18      \n",
       "  WIND_DEG SEASON FORECAST_DATETIME\n",
       "1 248      Spring 1618574400       "
      ]
     },
     "metadata": {},
     "output_type": "display_data"
    }
   ],
   "source": [
    "query <- 'select * from cities_weather_forecast\n",
    "    where lower(city) = \"seoul\"\n",
    "    limit 1;'\n",
    "dbGetQuery(conn, query)"
   ]
  },
  {
   "cell_type": "markdown",
   "metadata": {},
   "source": [
    "#### 4. Seasons"
   ]
  },
  {
   "cell_type": "markdown",
   "metadata": {},
   "source": [
    "Determine which seasons are included in the seoul bike sharing dataset."
   ]
  },
  {
   "cell_type": "code",
   "execution_count": 12,
   "metadata": {
    "vscode": {
     "languageId": "r"
    }
   },
   "outputs": [
    {
     "data": {
      "text/html": [
       "<table class=\"dataframe\">\n",
       "<caption>A data.frame: 4 × 1</caption>\n",
       "<thead>\n",
       "\t<tr><th scope=col>SEASONS</th></tr>\n",
       "\t<tr><th scope=col>&lt;chr&gt;</th></tr>\n",
       "</thead>\n",
       "<tbody>\n",
       "\t<tr><td>Winter</td></tr>\n",
       "\t<tr><td>Spring</td></tr>\n",
       "\t<tr><td>Summer</td></tr>\n",
       "\t<tr><td>Autumn</td></tr>\n",
       "</tbody>\n",
       "</table>\n"
      ],
      "text/latex": [
       "A data.frame: 4 × 1\n",
       "\\begin{tabular}{l}\n",
       " SEASONS\\\\\n",
       " <chr>\\\\\n",
       "\\hline\n",
       "\t Winter\\\\\n",
       "\t Spring\\\\\n",
       "\t Summer\\\\\n",
       "\t Autumn\\\\\n",
       "\\end{tabular}\n"
      ],
      "text/markdown": [
       "\n",
       "A data.frame: 4 × 1\n",
       "\n",
       "| SEASONS &lt;chr&gt; |\n",
       "|---|\n",
       "| Winter |\n",
       "| Spring |\n",
       "| Summer |\n",
       "| Autumn |\n",
       "\n"
      ],
      "text/plain": [
       "  SEASONS\n",
       "1 Winter \n",
       "2 Spring \n",
       "3 Summer \n",
       "4 Autumn "
      ]
     },
     "metadata": {},
     "output_type": "display_data"
    }
   ],
   "source": [
    "query <- 'select distinct seasons from seoul_bike_sharing;'\n",
    "dbGetQuery(conn, query)"
   ]
  },
  {
   "cell_type": "markdown",
   "metadata": {},
   "source": [
    "#### 5. Date Range"
   ]
  },
  {
   "cell_type": "markdown",
   "metadata": {},
   "source": [
    "Find the first and last dates in the Seoul Bike Sharing dataset."
   ]
  },
  {
   "cell_type": "code",
   "execution_count": 13,
   "metadata": {
    "vscode": {
     "languageId": "r"
    }
   },
   "outputs": [
    {
     "data": {
      "text/html": [
       "<table class=\"dataframe\">\n",
       "<caption>A data.frame: 1 × 2</caption>\n",
       "<thead>\n",
       "\t<tr><th scope=col>first_date</th><th scope=col>last_date</th></tr>\n",
       "\t<tr><th scope=col>&lt;chr&gt;</th><th scope=col>&lt;chr&gt;</th></tr>\n",
       "</thead>\n",
       "<tbody>\n",
       "\t<tr><td>2017-12-01</td><td>2018-11-30</td></tr>\n",
       "</tbody>\n",
       "</table>\n"
      ],
      "text/latex": [
       "A data.frame: 1 × 2\n",
       "\\begin{tabular}{ll}\n",
       " first\\_date & last\\_date\\\\\n",
       " <chr> & <chr>\\\\\n",
       "\\hline\n",
       "\t 2017-12-01 & 2018-11-30\\\\\n",
       "\\end{tabular}\n"
      ],
      "text/markdown": [
       "\n",
       "A data.frame: 1 × 2\n",
       "\n",
       "| first_date &lt;chr&gt; | last_date &lt;chr&gt; |\n",
       "|---|---|\n",
       "| 2017-12-01 | 2018-11-30 |\n",
       "\n"
      ],
      "text/plain": [
       "  first_date last_date \n",
       "1 2017-12-01 2018-11-30"
      ]
     },
     "metadata": {},
     "output_type": "display_data"
    }
   ],
   "source": [
    "# Reverse and format date string by extracting substrings and rearranging them\n",
    "# query <- 'select date(substr(date,7)||\"-\"||substr(date,4,2)||\"-\"||substr(date,1,2)) as date from seoul_bike_sharing limit 5;'\n",
    "\n",
    "# Use reversed date string to select first and last dates\n",
    "query <- 'select min(date(substr(date,7)||\"-\"||substr(date,4,2)||\"-\"||substr(date,1,2))) as first_date,\n",
    "    max(date(substr(date,7)||\"-\"||substr(date,4,2)||\"-\"||substr(date,1,2))) as last_date from seoul_bike_sharing;'\n",
    "\n",
    "dbGetQuery(conn, query)"
   ]
  },
  {
   "cell_type": "markdown",
   "metadata": {},
   "source": [
    "#### 6. Subquery - 'all-time high'"
   ]
  },
  {
   "cell_type": "markdown",
   "metadata": {},
   "source": [
    "Determine which date and hour had the most bike rentals."
   ]
  },
  {
   "cell_type": "code",
   "execution_count": 14,
   "metadata": {
    "vscode": {
     "languageId": "r"
    }
   },
   "outputs": [
    {
     "data": {
      "text/html": [
       "<table class=\"dataframe\">\n",
       "<caption>A data.frame: 1 × 3</caption>\n",
       "<thead>\n",
       "\t<tr><th scope=col>DATE</th><th scope=col>HOUR</th><th scope=col>RENTED_BIKE_COUNT</th></tr>\n",
       "\t<tr><th scope=col>&lt;chr&gt;</th><th scope=col>&lt;dbl&gt;</th><th scope=col>&lt;dbl&gt;</th></tr>\n",
       "</thead>\n",
       "<tbody>\n",
       "\t<tr><td>19/06/2018</td><td>18</td><td>3556</td></tr>\n",
       "</tbody>\n",
       "</table>\n"
      ],
      "text/latex": [
       "A data.frame: 1 × 3\n",
       "\\begin{tabular}{lll}\n",
       " DATE & HOUR & RENTED\\_BIKE\\_COUNT\\\\\n",
       " <chr> & <dbl> & <dbl>\\\\\n",
       "\\hline\n",
       "\t 19/06/2018 & 18 & 3556\\\\\n",
       "\\end{tabular}\n"
      ],
      "text/markdown": [
       "\n",
       "A data.frame: 1 × 3\n",
       "\n",
       "| DATE &lt;chr&gt; | HOUR &lt;dbl&gt; | RENTED_BIKE_COUNT &lt;dbl&gt; |\n",
       "|---|---|---|\n",
       "| 19/06/2018 | 18 | 3556 |\n",
       "\n"
      ],
      "text/plain": [
       "  DATE       HOUR RENTED_BIKE_COUNT\n",
       "1 19/06/2018 18   3556             "
      ]
     },
     "metadata": {},
     "output_type": "display_data"
    }
   ],
   "source": [
    "# provide your solution here\n",
    "query <- 'select date, hour, rented_bike_count from seoul_bike_sharing\n",
    "    where rented_bike_count = (select max(rented_bike_count) from seoul_bike_sharing);'\n",
    "\n",
    "dbGetQuery(conn, query)"
   ]
  },
  {
   "cell_type": "markdown",
   "metadata": {},
   "source": [
    "#### 7. Hourly popularity and temperature by season"
   ]
  },
  {
   "cell_type": "markdown",
   "metadata": {},
   "source": [
    "Determine the average hourly temperature and the average number of bike rentals per hour over each season.\\\n",
    "List the top ten results by average bike count."
   ]
  },
  {
   "cell_type": "code",
   "execution_count": 15,
   "metadata": {
    "vscode": {
     "languageId": "r"
    }
   },
   "outputs": [
    {
     "data": {
      "text/html": [
       "<table class=\"dataframe\">\n",
       "<caption>A data.frame: 10 × 4</caption>\n",
       "<thead>\n",
       "\t<tr><th scope=col>SEASONS</th><th scope=col>HOUR</th><th scope=col>avg_temperature</th><th scope=col>avg_rented_count</th></tr>\n",
       "\t<tr><th scope=col>&lt;chr&gt;</th><th scope=col>&lt;dbl&gt;</th><th scope=col>&lt;dbl&gt;</th><th scope=col>&lt;dbl&gt;</th></tr>\n",
       "</thead>\n",
       "<tbody>\n",
       "\t<tr><td>Summer</td><td>18</td><td>29.38791</td><td>2135.141</td></tr>\n",
       "\t<tr><td>Autumn</td><td>18</td><td>16.03185</td><td>1983.333</td></tr>\n",
       "\t<tr><td>Summer</td><td>19</td><td>28.27378</td><td>1889.250</td></tr>\n",
       "\t<tr><td>Summer</td><td>20</td><td>27.06630</td><td>1801.924</td></tr>\n",
       "\t<tr><td>Summer</td><td>21</td><td>26.27826</td><td>1754.065</td></tr>\n",
       "\t<tr><td>Spring</td><td>18</td><td>15.97222</td><td>1689.311</td></tr>\n",
       "\t<tr><td>Summer</td><td>22</td><td>25.69891</td><td>1567.870</td></tr>\n",
       "\t<tr><td>Autumn</td><td>17</td><td>17.27778</td><td>1562.877</td></tr>\n",
       "\t<tr><td>Summer</td><td>17</td><td>30.07691</td><td>1526.293</td></tr>\n",
       "\t<tr><td>Autumn</td><td>19</td><td>15.06346</td><td>1515.568</td></tr>\n",
       "</tbody>\n",
       "</table>\n"
      ],
      "text/latex": [
       "A data.frame: 10 × 4\n",
       "\\begin{tabular}{llll}\n",
       " SEASONS & HOUR & avg\\_temperature & avg\\_rented\\_count\\\\\n",
       " <chr> & <dbl> & <dbl> & <dbl>\\\\\n",
       "\\hline\n",
       "\t Summer & 18 & 29.38791 & 2135.141\\\\\n",
       "\t Autumn & 18 & 16.03185 & 1983.333\\\\\n",
       "\t Summer & 19 & 28.27378 & 1889.250\\\\\n",
       "\t Summer & 20 & 27.06630 & 1801.924\\\\\n",
       "\t Summer & 21 & 26.27826 & 1754.065\\\\\n",
       "\t Spring & 18 & 15.97222 & 1689.311\\\\\n",
       "\t Summer & 22 & 25.69891 & 1567.870\\\\\n",
       "\t Autumn & 17 & 17.27778 & 1562.877\\\\\n",
       "\t Summer & 17 & 30.07691 & 1526.293\\\\\n",
       "\t Autumn & 19 & 15.06346 & 1515.568\\\\\n",
       "\\end{tabular}\n"
      ],
      "text/markdown": [
       "\n",
       "A data.frame: 10 × 4\n",
       "\n",
       "| SEASONS &lt;chr&gt; | HOUR &lt;dbl&gt; | avg_temperature &lt;dbl&gt; | avg_rented_count &lt;dbl&gt; |\n",
       "|---|---|---|---|\n",
       "| Summer | 18 | 29.38791 | 2135.141 |\n",
       "| Autumn | 18 | 16.03185 | 1983.333 |\n",
       "| Summer | 19 | 28.27378 | 1889.250 |\n",
       "| Summer | 20 | 27.06630 | 1801.924 |\n",
       "| Summer | 21 | 26.27826 | 1754.065 |\n",
       "| Spring | 18 | 15.97222 | 1689.311 |\n",
       "| Summer | 22 | 25.69891 | 1567.870 |\n",
       "| Autumn | 17 | 17.27778 | 1562.877 |\n",
       "| Summer | 17 | 30.07691 | 1526.293 |\n",
       "| Autumn | 19 | 15.06346 | 1515.568 |\n",
       "\n"
      ],
      "text/plain": [
       "   SEASONS HOUR avg_temperature avg_rented_count\n",
       "1  Summer  18   29.38791        2135.141        \n",
       "2  Autumn  18   16.03185        1983.333        \n",
       "3  Summer  19   28.27378        1889.250        \n",
       "4  Summer  20   27.06630        1801.924        \n",
       "5  Summer  21   26.27826        1754.065        \n",
       "6  Spring  18   15.97222        1689.311        \n",
       "7  Summer  22   25.69891        1567.870        \n",
       "8  Autumn  17   17.27778        1562.877        \n",
       "9  Summer  17   30.07691        1526.293        \n",
       "10 Autumn  19   15.06346        1515.568        "
      ]
     },
     "metadata": {},
     "output_type": "display_data"
    }
   ],
   "source": [
    "query <- 'select seasons, hour, avg(temperature) as avg_temperature, avg(rented_bike_count) as avg_rented_count from seoul_bike_sharing\n",
    "    group by seasons, hour\n",
    "    order by avg_rented_count desc\n",
    "    limit 10;'\n",
    "\n",
    "dbGetQuery(conn, query)"
   ]
  },
  {
   "cell_type": "markdown",
   "metadata": {},
   "source": [
    "#### 8. Rental Seasonality"
   ]
  },
  {
   "cell_type": "markdown",
   "metadata": {},
   "source": [
    "Determine the average hourly bike count during each season.\\\n",
    "Include the minimum, maximum, and standard deviation of the hourly bike count for each season. \n",
    "\n",
    "NB SQLite has no Standard Deviation fuction. Use `SQRT(AVG(col*col) - AVG(col)*AVG(col))`, where col is the column name."
   ]
  },
  {
   "cell_type": "code",
   "execution_count": 16,
   "metadata": {
    "vscode": {
     "languageId": "r"
    }
   },
   "outputs": [
    {
     "data": {
      "text/html": [
       "<table class=\"dataframe\">\n",
       "<caption>A data.frame: 4 × 5</caption>\n",
       "<thead>\n",
       "\t<tr><th scope=col>SEASONS</th><th scope=col>avg_hourly_count</th><th scope=col>min_hourly_count</th><th scope=col>max_hourly_count</th><th scope=col>std_deviation</th></tr>\n",
       "\t<tr><th scope=col>&lt;chr&gt;</th><th scope=col>&lt;dbl&gt;</th><th scope=col>&lt;dbl&gt;</th><th scope=col>&lt;dbl&gt;</th><th scope=col>&lt;dbl&gt;</th></tr>\n",
       "</thead>\n",
       "<tbody>\n",
       "\t<tr><td>Autumn</td><td> 924.1105</td><td>2</td><td>3298</td><td>617.3885</td></tr>\n",
       "\t<tr><td>Spring</td><td> 746.2542</td><td>2</td><td>3251</td><td>618.5247</td></tr>\n",
       "\t<tr><td>Summer</td><td>1034.0734</td><td>9</td><td>3556</td><td>690.0884</td></tr>\n",
       "\t<tr><td>Winter</td><td> 225.5412</td><td>3</td><td> 937</td><td>150.3374</td></tr>\n",
       "</tbody>\n",
       "</table>\n"
      ],
      "text/latex": [
       "A data.frame: 4 × 5\n",
       "\\begin{tabular}{lllll}\n",
       " SEASONS & avg\\_hourly\\_count & min\\_hourly\\_count & max\\_hourly\\_count & std\\_deviation\\\\\n",
       " <chr> & <dbl> & <dbl> & <dbl> & <dbl>\\\\\n",
       "\\hline\n",
       "\t Autumn &  924.1105 & 2 & 3298 & 617.3885\\\\\n",
       "\t Spring &  746.2542 & 2 & 3251 & 618.5247\\\\\n",
       "\t Summer & 1034.0734 & 9 & 3556 & 690.0884\\\\\n",
       "\t Winter &  225.5412 & 3 &  937 & 150.3374\\\\\n",
       "\\end{tabular}\n"
      ],
      "text/markdown": [
       "\n",
       "A data.frame: 4 × 5\n",
       "\n",
       "| SEASONS &lt;chr&gt; | avg_hourly_count &lt;dbl&gt; | min_hourly_count &lt;dbl&gt; | max_hourly_count &lt;dbl&gt; | std_deviation &lt;dbl&gt; |\n",
       "|---|---|---|---|---|\n",
       "| Autumn |  924.1105 | 2 | 3298 | 617.3885 |\n",
       "| Spring |  746.2542 | 2 | 3251 | 618.5247 |\n",
       "| Summer | 1034.0734 | 9 | 3556 | 690.0884 |\n",
       "| Winter |  225.5412 | 3 |  937 | 150.3374 |\n",
       "\n"
      ],
      "text/plain": [
       "  SEASONS avg_hourly_count min_hourly_count max_hourly_count std_deviation\n",
       "1 Autumn   924.1105        2                3298             617.3885     \n",
       "2 Spring   746.2542        2                3251             618.5247     \n",
       "3 Summer  1034.0734        9                3556             690.0884     \n",
       "4 Winter   225.5412        3                 937             150.3374     "
      ]
     },
     "metadata": {},
     "output_type": "display_data"
    }
   ],
   "source": [
    "query <- 'select seasons,\n",
    "    avg(rented_bike_count) as avg_hourly_count,\n",
    "    min(rented_bike_count) as min_hourly_count,\n",
    "    max(rented_bike_count) as max_hourly_count,\n",
    "    sqrt(avg(rented_bike_count * rented_bike_count) - avg(rented_bike_count) * avg(rented_bike_count)) as std_deviation\n",
    "    from seoul_bike_sharing\n",
    "    group by seasons'\n",
    "\n",
    "dbGetQuery(conn, query)"
   ]
  },
  {
   "cell_type": "code",
   "execution_count": 17,
   "metadata": {
    "vscode": {
     "languageId": "r"
    }
   },
   "outputs": [],
   "source": [
    "# For SQL versions that have the stddev function\n",
    "\n",
    "# query <- 'select seasons,\n",
    "#    avg(rented_bike_count) as avg_hourly_count,\n",
    "#    min(rented_bike_count) as min_hourly_count,\n",
    "#    max(rented_bike_count) as max_hourly_count,\n",
    "#    stddev(rented_bike_count)) as std_deviation\n",
    "#    from seoul_bike_sharing\n",
    "#    group by seasons'\n",
    "\n",
    "# dbGetQuery(conn, query)"
   ]
  },
  {
   "cell_type": "markdown",
   "metadata": {},
   "source": [
    "### Explore the possible significant contributing factors in the provided data."
   ]
  },
  {
   "cell_type": "markdown",
   "metadata": {},
   "source": [
    "#### 9. Weather Seasonality"
   ]
  },
  {
   "cell_type": "markdown",
   "metadata": {},
   "source": [
    "Consider the weather over each season.\\\n",
    "Determine the average `TEMPERATURE`, `HUMIDITY`, `WIND_SPEED`, `VISIBILITY`, `DEW_POINT_TEMPERATURE`, `SOLAR_RADIATION`, `RAINFALL`, and `SNOWFALL` per season.\\\n",
    "Include the average bike count.\n",
    "Rank the results by average bike count to see if it is correlated with the weather at all."
   ]
  },
  {
   "cell_type": "code",
   "execution_count": 18,
   "metadata": {
    "vscode": {
     "languageId": "r"
    }
   },
   "outputs": [
    {
     "data": {
      "text/html": [
       "<table class=\"dataframe\">\n",
       "<caption>A data.frame: 5 × 14</caption>\n",
       "<thead>\n",
       "\t<tr><th scope=col>DATE</th><th scope=col>RENTED_BIKE_COUNT</th><th scope=col>HOUR</th><th scope=col>TEMPERATURE</th><th scope=col>HUMIDITY</th><th scope=col>WIND_SPEED</th><th scope=col>VISIBILITY</th><th scope=col>DEW_POINT_TEMPERATURE</th><th scope=col>SOLAR_RADIATION</th><th scope=col>RAINFALL</th><th scope=col>SNOWFALL</th><th scope=col>SEASONS</th><th scope=col>HOLIDAY</th><th scope=col>FUNCTIONING_DAY</th></tr>\n",
       "\t<tr><th scope=col>&lt;chr&gt;</th><th scope=col>&lt;dbl&gt;</th><th scope=col>&lt;dbl&gt;</th><th scope=col>&lt;dbl&gt;</th><th scope=col>&lt;dbl&gt;</th><th scope=col>&lt;dbl&gt;</th><th scope=col>&lt;dbl&gt;</th><th scope=col>&lt;dbl&gt;</th><th scope=col>&lt;dbl&gt;</th><th scope=col>&lt;dbl&gt;</th><th scope=col>&lt;dbl&gt;</th><th scope=col>&lt;chr&gt;</th><th scope=col>&lt;chr&gt;</th><th scope=col>&lt;chr&gt;</th></tr>\n",
       "</thead>\n",
       "<tbody>\n",
       "\t<tr><td>01/12/2017</td><td>254</td><td>0</td><td>-5.2</td><td>37</td><td>2.2</td><td>2000</td><td>-17.6</td><td>0</td><td>0</td><td>0</td><td>Winter</td><td>No Holiday</td><td>Yes</td></tr>\n",
       "\t<tr><td>01/12/2017</td><td>204</td><td>1</td><td>-5.5</td><td>38</td><td>0.8</td><td>2000</td><td>-17.6</td><td>0</td><td>0</td><td>0</td><td>Winter</td><td>No Holiday</td><td>Yes</td></tr>\n",
       "\t<tr><td>01/12/2017</td><td>173</td><td>2</td><td>-6.0</td><td>39</td><td>1.0</td><td>2000</td><td>-17.7</td><td>0</td><td>0</td><td>0</td><td>Winter</td><td>No Holiday</td><td>Yes</td></tr>\n",
       "\t<tr><td>01/12/2017</td><td>107</td><td>3</td><td>-6.2</td><td>40</td><td>0.9</td><td>2000</td><td>-17.6</td><td>0</td><td>0</td><td>0</td><td>Winter</td><td>No Holiday</td><td>Yes</td></tr>\n",
       "\t<tr><td>01/12/2017</td><td> 78</td><td>4</td><td>-6.0</td><td>36</td><td>2.3</td><td>2000</td><td>-18.6</td><td>0</td><td>0</td><td>0</td><td>Winter</td><td>No Holiday</td><td>Yes</td></tr>\n",
       "</tbody>\n",
       "</table>\n"
      ],
      "text/latex": [
       "A data.frame: 5 × 14\n",
       "\\begin{tabular}{llllllllllllll}\n",
       " DATE & RENTED\\_BIKE\\_COUNT & HOUR & TEMPERATURE & HUMIDITY & WIND\\_SPEED & VISIBILITY & DEW\\_POINT\\_TEMPERATURE & SOLAR\\_RADIATION & RAINFALL & SNOWFALL & SEASONS & HOLIDAY & FUNCTIONING\\_DAY\\\\\n",
       " <chr> & <dbl> & <dbl> & <dbl> & <dbl> & <dbl> & <dbl> & <dbl> & <dbl> & <dbl> & <dbl> & <chr> & <chr> & <chr>\\\\\n",
       "\\hline\n",
       "\t 01/12/2017 & 254 & 0 & -5.2 & 37 & 2.2 & 2000 & -17.6 & 0 & 0 & 0 & Winter & No Holiday & Yes\\\\\n",
       "\t 01/12/2017 & 204 & 1 & -5.5 & 38 & 0.8 & 2000 & -17.6 & 0 & 0 & 0 & Winter & No Holiday & Yes\\\\\n",
       "\t 01/12/2017 & 173 & 2 & -6.0 & 39 & 1.0 & 2000 & -17.7 & 0 & 0 & 0 & Winter & No Holiday & Yes\\\\\n",
       "\t 01/12/2017 & 107 & 3 & -6.2 & 40 & 0.9 & 2000 & -17.6 & 0 & 0 & 0 & Winter & No Holiday & Yes\\\\\n",
       "\t 01/12/2017 &  78 & 4 & -6.0 & 36 & 2.3 & 2000 & -18.6 & 0 & 0 & 0 & Winter & No Holiday & Yes\\\\\n",
       "\\end{tabular}\n"
      ],
      "text/markdown": [
       "\n",
       "A data.frame: 5 × 14\n",
       "\n",
       "| DATE &lt;chr&gt; | RENTED_BIKE_COUNT &lt;dbl&gt; | HOUR &lt;dbl&gt; | TEMPERATURE &lt;dbl&gt; | HUMIDITY &lt;dbl&gt; | WIND_SPEED &lt;dbl&gt; | VISIBILITY &lt;dbl&gt; | DEW_POINT_TEMPERATURE &lt;dbl&gt; | SOLAR_RADIATION &lt;dbl&gt; | RAINFALL &lt;dbl&gt; | SNOWFALL &lt;dbl&gt; | SEASONS &lt;chr&gt; | HOLIDAY &lt;chr&gt; | FUNCTIONING_DAY &lt;chr&gt; |\n",
       "|---|---|---|---|---|---|---|---|---|---|---|---|---|---|\n",
       "| 01/12/2017 | 254 | 0 | -5.2 | 37 | 2.2 | 2000 | -17.6 | 0 | 0 | 0 | Winter | No Holiday | Yes |\n",
       "| 01/12/2017 | 204 | 1 | -5.5 | 38 | 0.8 | 2000 | -17.6 | 0 | 0 | 0 | Winter | No Holiday | Yes |\n",
       "| 01/12/2017 | 173 | 2 | -6.0 | 39 | 1.0 | 2000 | -17.7 | 0 | 0 | 0 | Winter | No Holiday | Yes |\n",
       "| 01/12/2017 | 107 | 3 | -6.2 | 40 | 0.9 | 2000 | -17.6 | 0 | 0 | 0 | Winter | No Holiday | Yes |\n",
       "| 01/12/2017 |  78 | 4 | -6.0 | 36 | 2.3 | 2000 | -18.6 | 0 | 0 | 0 | Winter | No Holiday | Yes |\n",
       "\n"
      ],
      "text/plain": [
       "  DATE       RENTED_BIKE_COUNT HOUR TEMPERATURE HUMIDITY WIND_SPEED VISIBILITY\n",
       "1 01/12/2017 254               0    -5.2        37       2.2        2000      \n",
       "2 01/12/2017 204               1    -5.5        38       0.8        2000      \n",
       "3 01/12/2017 173               2    -6.0        39       1.0        2000      \n",
       "4 01/12/2017 107               3    -6.2        40       0.9        2000      \n",
       "5 01/12/2017  78               4    -6.0        36       2.3        2000      \n",
       "  DEW_POINT_TEMPERATURE SOLAR_RADIATION RAINFALL SNOWFALL SEASONS HOLIDAY   \n",
       "1 -17.6                 0               0        0        Winter  No Holiday\n",
       "2 -17.6                 0               0        0        Winter  No Holiday\n",
       "3 -17.7                 0               0        0        Winter  No Holiday\n",
       "4 -17.6                 0               0        0        Winter  No Holiday\n",
       "5 -18.6                 0               0        0        Winter  No Holiday\n",
       "  FUNCTIONING_DAY\n",
       "1 Yes            \n",
       "2 Yes            \n",
       "3 Yes            \n",
       "4 Yes            \n",
       "5 Yes            "
      ]
     },
     "metadata": {},
     "output_type": "display_data"
    }
   ],
   "source": [
    "query <- 'select * from seoul_bike_sharing limit 5'\n",
    "dbGetQuery(conn, query)"
   ]
  },
  {
   "cell_type": "code",
   "execution_count": 19,
   "metadata": {
    "vscode": {
     "languageId": "r"
    }
   },
   "outputs": [
    {
     "data": {
      "text/html": [
       "<table class=\"dataframe\">\n",
       "<caption>A data.frame: 4 × 10</caption>\n",
       "<thead>\n",
       "\t<tr><th scope=col>SEASONS</th><th scope=col>AVG_RENTED_COUNT</th><th scope=col>avg_temperature</th><th scope=col>avg_humidity</th><th scope=col>avg_wind_speed</th><th scope=col>avg_visibility</th><th scope=col>avg_dew_pt_temp</th><th scope=col>avg_solar_radiation</th><th scope=col>avg_rainfall</th><th scope=col>avg_snowfall</th></tr>\n",
       "\t<tr><th scope=col>&lt;chr&gt;</th><th scope=col>&lt;dbl&gt;</th><th scope=col>&lt;dbl&gt;</th><th scope=col>&lt;dbl&gt;</th><th scope=col>&lt;dbl&gt;</th><th scope=col>&lt;dbl&gt;</th><th scope=col>&lt;dbl&gt;</th><th scope=col>&lt;dbl&gt;</th><th scope=col>&lt;dbl&gt;</th><th scope=col>&lt;dbl&gt;</th></tr>\n",
       "</thead>\n",
       "<tbody>\n",
       "\t<tr><td>Summer</td><td>1034.0734</td><td>26.587711</td><td>64.98143</td><td>1.609420</td><td>1501.745</td><td> 18.750136</td><td>0.7612545</td><td>0.25348732</td><td>0.00000000</td></tr>\n",
       "\t<tr><td>Autumn</td><td> 924.1105</td><td>13.821580</td><td>59.04491</td><td>1.492101</td><td>1558.174</td><td>  5.150594</td><td>0.5227827</td><td>0.11765617</td><td>0.06350026</td></tr>\n",
       "\t<tr><td>Spring</td><td> 746.2542</td><td>13.021685</td><td>58.75833</td><td>1.857778</td><td>1240.912</td><td>  4.091389</td><td>0.6803009</td><td>0.18694444</td><td>0.00000000</td></tr>\n",
       "\t<tr><td>Winter</td><td> 225.5412</td><td>-2.540463</td><td>49.74491</td><td>1.922685</td><td>1445.987</td><td>-12.416667</td><td>0.2981806</td><td>0.03282407</td><td>0.24750000</td></tr>\n",
       "</tbody>\n",
       "</table>\n"
      ],
      "text/latex": [
       "A data.frame: 4 × 10\n",
       "\\begin{tabular}{llllllllll}\n",
       " SEASONS & AVG\\_RENTED\\_COUNT & avg\\_temperature & avg\\_humidity & avg\\_wind\\_speed & avg\\_visibility & avg\\_dew\\_pt\\_temp & avg\\_solar\\_radiation & avg\\_rainfall & avg\\_snowfall\\\\\n",
       " <chr> & <dbl> & <dbl> & <dbl> & <dbl> & <dbl> & <dbl> & <dbl> & <dbl> & <dbl>\\\\\n",
       "\\hline\n",
       "\t Summer & 1034.0734 & 26.587711 & 64.98143 & 1.609420 & 1501.745 &  18.750136 & 0.7612545 & 0.25348732 & 0.00000000\\\\\n",
       "\t Autumn &  924.1105 & 13.821580 & 59.04491 & 1.492101 & 1558.174 &   5.150594 & 0.5227827 & 0.11765617 & 0.06350026\\\\\n",
       "\t Spring &  746.2542 & 13.021685 & 58.75833 & 1.857778 & 1240.912 &   4.091389 & 0.6803009 & 0.18694444 & 0.00000000\\\\\n",
       "\t Winter &  225.5412 & -2.540463 & 49.74491 & 1.922685 & 1445.987 & -12.416667 & 0.2981806 & 0.03282407 & 0.24750000\\\\\n",
       "\\end{tabular}\n"
      ],
      "text/markdown": [
       "\n",
       "A data.frame: 4 × 10\n",
       "\n",
       "| SEASONS &lt;chr&gt; | AVG_RENTED_COUNT &lt;dbl&gt; | avg_temperature &lt;dbl&gt; | avg_humidity &lt;dbl&gt; | avg_wind_speed &lt;dbl&gt; | avg_visibility &lt;dbl&gt; | avg_dew_pt_temp &lt;dbl&gt; | avg_solar_radiation &lt;dbl&gt; | avg_rainfall &lt;dbl&gt; | avg_snowfall &lt;dbl&gt; |\n",
       "|---|---|---|---|---|---|---|---|---|---|\n",
       "| Summer | 1034.0734 | 26.587711 | 64.98143 | 1.609420 | 1501.745 |  18.750136 | 0.7612545 | 0.25348732 | 0.00000000 |\n",
       "| Autumn |  924.1105 | 13.821580 | 59.04491 | 1.492101 | 1558.174 |   5.150594 | 0.5227827 | 0.11765617 | 0.06350026 |\n",
       "| Spring |  746.2542 | 13.021685 | 58.75833 | 1.857778 | 1240.912 |   4.091389 | 0.6803009 | 0.18694444 | 0.00000000 |\n",
       "| Winter |  225.5412 | -2.540463 | 49.74491 | 1.922685 | 1445.987 | -12.416667 | 0.2981806 | 0.03282407 | 0.24750000 |\n",
       "\n"
      ],
      "text/plain": [
       "  SEASONS AVG_RENTED_COUNT avg_temperature avg_humidity avg_wind_speed\n",
       "1 Summer  1034.0734        26.587711       64.98143     1.609420      \n",
       "2 Autumn   924.1105        13.821580       59.04491     1.492101      \n",
       "3 Spring   746.2542        13.021685       58.75833     1.857778      \n",
       "4 Winter   225.5412        -2.540463       49.74491     1.922685      \n",
       "  avg_visibility avg_dew_pt_temp avg_solar_radiation avg_rainfall avg_snowfall\n",
       "1 1501.745        18.750136      0.7612545           0.25348732   0.00000000  \n",
       "2 1558.174         5.150594      0.5227827           0.11765617   0.06350026  \n",
       "3 1240.912         4.091389      0.6803009           0.18694444   0.00000000  \n",
       "4 1445.987       -12.416667      0.2981806           0.03282407   0.24750000  "
      ]
     },
     "metadata": {},
     "output_type": "display_data"
    }
   ],
   "source": [
    "query <- 'select\n",
    "            seasons,\n",
    "            avg(rented_bike_count) as AVG_RENTED_COUNT,\n",
    "            avg(temperature) as avg_temperature,\n",
    "            avg(humidity) as avg_humidity,\n",
    "            avg(wind_speed) as avg_wind_speed,\n",
    "            avg(visibility) as avg_visibility,\n",
    "            avg(dew_point_temperature) as avg_dew_pt_temp,\n",
    "            avg(solar_radiation) as avg_solar_radiation,\n",
    "            avg(rainfall) as avg_rainfall,\n",
    "            avg(snowfall) as avg_snowfall\n",
    "            from seoul_bike_sharing\n",
    "        group by seasons\n",
    "        order by avg_rented_count desc'\n",
    "\n",
    "dbGetQuery(conn, query)"
   ]
  },
  {
   "cell_type": "markdown",
   "metadata": {},
   "source": [
    "#### 10. Total Bike Count and City Info for Seoul"
   ]
  },
  {
   "cell_type": "markdown",
   "metadata": {},
   "source": [
    "Use an **implicit join** across the `WORLD_CITIES` and the `BIKE_SHARING_SYSTEMS` tables to determine the total number of bikes avaialble in Seoul, plus the associated city information: `CITY`, `COUNTRY`, `LAT`, `LNG`, `POPULATION`, in a single view.\\\n",
    "NB In this case, the `CITY` column will work for the `WORLD_CITIES` table but, in general, the `CITY_ASCII` column should be used."
   ]
  },
  {
   "cell_type": "code",
   "execution_count": 20,
   "metadata": {
    "vscode": {
     "languageId": "r"
    }
   },
   "outputs": [
    {
     "data": {
      "text/html": [
       "<table class=\"dataframe\">\n",
       "<caption>A data.frame: 1 × 6</caption>\n",
       "<thead>\n",
       "\t<tr><th scope=col>CITY</th><th scope=col>COUNTRY</th><th scope=col>LAT</th><th scope=col>LNG</th><th scope=col>POPULATION</th><th scope=col>BICYCLES</th></tr>\n",
       "\t<tr><th scope=col>&lt;chr&gt;</th><th scope=col>&lt;chr&gt;</th><th scope=col>&lt;dbl&gt;</th><th scope=col>&lt;dbl&gt;</th><th scope=col>&lt;dbl&gt;</th><th scope=col>&lt;dbl&gt;</th></tr>\n",
       "</thead>\n",
       "<tbody>\n",
       "\t<tr><td>Seoul</td><td>Korea, South</td><td>37.5833</td><td>127</td><td>21794000</td><td>20000</td></tr>\n",
       "</tbody>\n",
       "</table>\n"
      ],
      "text/latex": [
       "A data.frame: 1 × 6\n",
       "\\begin{tabular}{llllll}\n",
       " CITY & COUNTRY & LAT & LNG & POPULATION & BICYCLES\\\\\n",
       " <chr> & <chr> & <dbl> & <dbl> & <dbl> & <dbl>\\\\\n",
       "\\hline\n",
       "\t Seoul & Korea, South & 37.5833 & 127 & 21794000 & 20000\\\\\n",
       "\\end{tabular}\n"
      ],
      "text/markdown": [
       "\n",
       "A data.frame: 1 × 6\n",
       "\n",
       "| CITY &lt;chr&gt; | COUNTRY &lt;chr&gt; | LAT &lt;dbl&gt; | LNG &lt;dbl&gt; | POPULATION &lt;dbl&gt; | BICYCLES &lt;dbl&gt; |\n",
       "|---|---|---|---|---|---|\n",
       "| Seoul | Korea, South | 37.5833 | 127 | 21794000 | 20000 |\n",
       "\n"
      ],
      "text/plain": [
       "  CITY  COUNTRY      LAT     LNG POPULATION BICYCLES\n",
       "1 Seoul Korea, South 37.5833 127 21794000   20000   "
      ]
     },
     "metadata": {},
     "output_type": "display_data"
    }
   ],
   "source": [
    "# provide your solution here\n",
    "query <- 'select w.city, w.country, w.lat, w.lng, w.population, b.bicycles from world_cities w, bike_sharing_systems b \n",
    "            where lower(w.city) = lower(b.city) and lower(w.city = \"Seoul\")'\n",
    "\n",
    "dbGetQuery(conn, query)"
   ]
  },
  {
   "cell_type": "markdown",
   "metadata": {},
   "source": [
    "#### Cities and coordinates with bike scale comparable to Seoul's bike sharing system."
   ]
  },
  {
   "cell_type": "markdown",
   "metadata": {},
   "source": [
    "Determine all cities with total bike counts between 15000 and 20000.\\\n",
    "Return the city and country names, plus the coordinates (`LAT`, `LNG`), population, and number of bicycles for each city.\\\n",
    "This will be used later for visualisation with weather data, using `leaflet`."
   ]
  },
  {
   "cell_type": "code",
   "execution_count": 21,
   "metadata": {
    "vscode": {
     "languageId": "r"
    }
   },
   "outputs": [
    {
     "data": {
      "text/html": [
       "<table class=\"dataframe\">\n",
       "<caption>A data.frame: 7 × 6</caption>\n",
       "<thead>\n",
       "\t<tr><th scope=col>CITY</th><th scope=col>COUNTRY</th><th scope=col>LAT</th><th scope=col>LNG</th><th scope=col>POPULATION</th><th scope=col>BICYCLES</th></tr>\n",
       "\t<tr><th scope=col>&lt;chr&gt;</th><th scope=col>&lt;chr&gt;</th><th scope=col>&lt;dbl&gt;</th><th scope=col>&lt;dbl&gt;</th><th scope=col>&lt;dbl&gt;</th><th scope=col>&lt;dbl&gt;</th></tr>\n",
       "</thead>\n",
       "<tbody>\n",
       "\t<tr><td>Beijing </td><td>China       </td><td>39.9050</td><td>116.3914</td><td>19433000</td><td>16000</td></tr>\n",
       "\t<tr><td>Ningbo  </td><td>China       </td><td>29.8750</td><td>121.5492</td><td> 7639000</td><td>15000</td></tr>\n",
       "\t<tr><td>Shanghai</td><td>China       </td><td>31.1667</td><td>121.4667</td><td>22120000</td><td>19165</td></tr>\n",
       "\t<tr><td>Weifang </td><td>China       </td><td>36.7167</td><td>119.1000</td><td> 9373000</td><td>20000</td></tr>\n",
       "\t<tr><td>Xi’an   </td><td>China       </td><td>34.2667</td><td>108.9000</td><td> 7135000</td><td>20000</td></tr>\n",
       "\t<tr><td>Zhuzhou </td><td>China       </td><td>27.8407</td><td>113.1469</td><td> 3855609</td><td>20000</td></tr>\n",
       "\t<tr><td>Seoul   </td><td>Korea, South</td><td>37.5833</td><td>127.0000</td><td>21794000</td><td>20000</td></tr>\n",
       "</tbody>\n",
       "</table>\n"
      ],
      "text/latex": [
       "A data.frame: 7 × 6\n",
       "\\begin{tabular}{llllll}\n",
       " CITY & COUNTRY & LAT & LNG & POPULATION & BICYCLES\\\\\n",
       " <chr> & <chr> & <dbl> & <dbl> & <dbl> & <dbl>\\\\\n",
       "\\hline\n",
       "\t Beijing  & China        & 39.9050 & 116.3914 & 19433000 & 16000\\\\\n",
       "\t Ningbo   & China        & 29.8750 & 121.5492 &  7639000 & 15000\\\\\n",
       "\t Shanghai & China        & 31.1667 & 121.4667 & 22120000 & 19165\\\\\n",
       "\t Weifang  & China        & 36.7167 & 119.1000 &  9373000 & 20000\\\\\n",
       "\t Xi’an    & China        & 34.2667 & 108.9000 &  7135000 & 20000\\\\\n",
       "\t Zhuzhou  & China        & 27.8407 & 113.1469 &  3855609 & 20000\\\\\n",
       "\t Seoul    & Korea, South & 37.5833 & 127.0000 & 21794000 & 20000\\\\\n",
       "\\end{tabular}\n"
      ],
      "text/markdown": [
       "\n",
       "A data.frame: 7 × 6\n",
       "\n",
       "| CITY &lt;chr&gt; | COUNTRY &lt;chr&gt; | LAT &lt;dbl&gt; | LNG &lt;dbl&gt; | POPULATION &lt;dbl&gt; | BICYCLES &lt;dbl&gt; |\n",
       "|---|---|---|---|---|---|\n",
       "| Beijing  | China        | 39.9050 | 116.3914 | 19433000 | 16000 |\n",
       "| Ningbo   | China        | 29.8750 | 121.5492 |  7639000 | 15000 |\n",
       "| Shanghai | China        | 31.1667 | 121.4667 | 22120000 | 19165 |\n",
       "| Weifang  | China        | 36.7167 | 119.1000 |  9373000 | 20000 |\n",
       "| Xi’an    | China        | 34.2667 | 108.9000 |  7135000 | 20000 |\n",
       "| Zhuzhou  | China        | 27.8407 | 113.1469 |  3855609 | 20000 |\n",
       "| Seoul    | Korea, South | 37.5833 | 127.0000 | 21794000 | 20000 |\n",
       "\n"
      ],
      "text/plain": [
       "  CITY     COUNTRY      LAT     LNG      POPULATION BICYCLES\n",
       "1 Beijing  China        39.9050 116.3914 19433000   16000   \n",
       "2 Ningbo   China        29.8750 121.5492  7639000   15000   \n",
       "3 Shanghai China        31.1667 121.4667 22120000   19165   \n",
       "4 Weifang  China        36.7167 119.1000  9373000   20000   \n",
       "5 Xi’an    China        34.2667 108.9000  7135000   20000   \n",
       "6 Zhuzhou  China        27.8407 113.1469  3855609   20000   \n",
       "7 Seoul    Korea, South 37.5833 127.0000 21794000   20000   "
      ]
     },
     "metadata": {},
     "output_type": "display_data"
    }
   ],
   "source": [
    "query <- 'select w.city, w.country, w.lat, w.lng, w.population, b.bicycles from world_cities w, bike_sharing_systems b \n",
    "            where lower(w.city_ascii) = lower(b.city) and (b.bicycles between 15000 and 20000)'\n",
    "\n",
    "dbGetQuery(conn, query)\n",
    "\n",
    "# NB This does not return cities for which coordinate data does not exist.\n",
    "# Consider modifying to return all cities with comparable systems, regardless of whether coordinate data exists."
   ]
  },
  {
   "cell_type": "markdown",
   "metadata": {},
   "source": [
    "## Close the SQLite connection."
   ]
  },
  {
   "cell_type": "code",
   "execution_count": 22,
   "metadata": {
    "vscode": {
     "languageId": "r"
    }
   },
   "outputs": [],
   "source": [
    "dbDisconnect(conn)"
   ]
  }
 ],
 "metadata": {
  "kernelspec": {
   "display_name": "R",
   "language": "R",
   "name": "ir"
  },
  "language_info": {
   "codemirror_mode": "r",
   "file_extension": ".r",
   "mimetype": "text/x-r-source",
   "name": "R",
   "pygments_lexer": "r",
   "version": "3.6.1"
  }
 },
 "nbformat": 4,
 "nbformat_minor": 4
}
