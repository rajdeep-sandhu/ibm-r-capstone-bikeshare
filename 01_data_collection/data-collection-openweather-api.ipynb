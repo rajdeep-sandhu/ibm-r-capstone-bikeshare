{
 "cells": [
  {
   "cell_type": "markdown",
   "metadata": {},
   "source": [
    "<h1>Collect Weather Data Using OpenWeather API</h1>"
   ]
  },
  {
   "cell_type": "markdown",
   "metadata": {},
   "source": [
    "This **R** notebook collects real-time current and forecasted weather data for cities using the **OpenWeather API** (which provides current data and 5-day forcasts), using a REST API."
   ]
  },
  {
   "cell_type": "markdown",
   "metadata": {},
   "source": [
    "## Requirements\n",
    "- Free [OpenWeather](https://home.openweathermap.org/) API account\n",
    "- `httr` and `tidyverse`"
   ]
  },
  {
   "cell_type": "markdown",
   "metadata": {},
   "source": [
    "go to Account -> My API Keys. This is needed to authenticate HTTP requests to OpenWeather API."
   ]
  },
  {
   "cell_type": "markdown",
   "metadata": {},
   "source": [
    "\n",
    "<a href=\"https://cognitiveclass.ai/?utm_medium=Exinfluencer&utm_source=Exinfluencer&utm_content=000026UJ&utm_term=10006555&utm_id=NA-SkillsNetwork-Channel-SkillsNetworkCoursesIBMDeveloperSkillsNetworkRP0321ENSkillsNetwork878-2022-01-01\">\n",
    "    <img src=\"https://cf-courses-data.s3.us.cloud-object-storage.appdomain.cloud/IBMDeveloperSkillsNetwork-RP0321EN-SkillsNetwork/labs/module_1/images/l2-openweather-apikey.png\" width=\"400\" align=\"center\">\n",
    "</a>\n",
    "\n",
    "<a href=\"https://cognitiveclass.ai/?utm_medium=Exinfluencer&utm_source=Exinfluencer&utm_content=000026UJ&utm_term=10006555&utm_id=NA-SkillsNetwork-Channel-SkillsNetworkCoursesIBMDeveloperSkillsNetworkRP0321ENSkillsNetwork878-2022-01-01\">\n",
    "    <img src=\"https://cf-courses-data.s3.us.cloud-object-storage.appdomain.cloud/IBMDeveloperSkillsNetwork-RP0321EN-SkillsNetwork/labs/module_1/images/l2-openweather-apikey-value.png\" width=\"400\" align=\"center\">\n",
    "</a>"
   ]
  },
  {
   "cell_type": "markdown",
   "metadata": {},
   "source": [
    "## API Test\n",
    "Replace `{your_api_key}` with the actual API key and go to:\n",
    "\n",
    "https://api.openweathermap.org/data/2.5/weather?q=Seoul&appid={api_key}\n"
   ]
  },
  {
   "cell_type": "markdown",
   "metadata": {},
   "source": [
    "\n",
    "This should return JSON weather data (instead of 401 or other error status), similar to the following:\n",
    "\n",
    "```JSON\n",
    "{\"coord\":{\"lon\":126.9778,\"lat\":37.5683},\n",
    "\"weather\":[{\"id\":800,\"main\":\"Clear\",\"description\":\"clear sky\",\"icon\":\"01n\"}],\n",
    "\"base\":\"stations\",\n",
    "\"main\":{\"temp\":285.16,\"feels_like\":284.04,\"temp_min\":284.15,\"temp_max\":287.15,\"pressure\":1020,\"humidity\":62},\n",
    "\"visibility\":10000,\n",
    "\"wind\":{\"speed\":1.03,\"deg\":220},\"clouds\":{\"all\":0},\"dt\":1617718307,\"sys\":{\"type\":1,\"id\":8105,\"country\":\"KR\",\"sunrise\":1617657021,\"sunset\":1617703103},\"timezone\":32400,\"id\":1835848,\"name\":\"Seoul\",\"cod\":200}\n",
    "```"
   ]
  },
  {
   "cell_type": "markdown",
   "metadata": {},
   "source": [
    "## Get Current Weather Data for Seoul using R\n",
    "- Download current weather using the `httr` library.\n",
    "- The API base URL to get current weather is https://api.openweathermap.org/data/2.5/weather"
   ]
  },
  {
   "cell_type": "code",
   "execution_count": 1,
   "metadata": {
    "vscode": {
     "languageId": "r"
    }
   },
   "outputs": [
    {
     "name": "stderr",
     "output_type": "stream",
     "text": [
      "Loading required package: httr\n",
      "── Attaching packages ─────────────────────────────────────── tidyverse 1.3.0 ──\n",
      "✔ ggplot2 3.3.0     ✔ purrr   0.3.4\n",
      "✔ tibble  3.0.1     ✔ dplyr   0.8.5\n",
      "✔ tidyr   1.0.2     ✔ stringr 1.4.0\n",
      "✔ readr   1.3.1     ✔ forcats 0.5.0\n",
      "── Conflicts ────────────────────────────────────────── tidyverse_conflicts() ──\n",
      "✖ dplyr::filter() masks stats::filter()\n",
      "✖ dplyr::lag()    masks stats::lag()\n"
     ]
    }
   ],
   "source": [
    "# rvest library might need to be installed\n",
    "require(\"httr\")\n",
    "\n",
    "library(httr)\n",
    "library(tidyverse)"
   ]
  },
  {
   "cell_type": "code",
   "execution_count": 2,
   "metadata": {
    "vscode": {
     "languageId": "r"
    }
   },
   "outputs": [],
   "source": [
    "# URL for Current Weather API\n",
    "current_weather_url <- 'https://api.openweathermap.org/data/2.5/weather'"
   ]
  },
  {
   "cell_type": "markdown",
   "metadata": {},
   "source": [
    "Create a list to hold URL parameters for the current weather API\n"
   ]
  },
  {
   "cell_type": "code",
   "execution_count": 1,
   "metadata": {
    "vscode": {
     "languageId": "r"
    }
   },
   "outputs": [],
   "source": [
    "# replaced with actual API key\n",
    "api_key <- \"api_key\"\n",
    "# q: city name\n",
    "# appid: API KEY, \n",
    "# units: preferred units (metric or imperial)\n",
    "current_query <- list(q = \"Seoul\", appid = api_key, units=\"metric\")"
   ]
  },
  {
   "cell_type": "markdown",
   "metadata": {},
   "source": [
    "Make a HTTP request to the current weather API."
   ]
  },
  {
   "cell_type": "code",
   "execution_count": 1,
   "metadata": {
    "vscode": {
     "languageId": "r"
    }
   },
   "outputs": [
    {
     "ename": "ERROR",
     "evalue": "Error in GET(current_weather_url, query = current_query): could not find function \"GET\"\n",
     "output_type": "error",
     "traceback": [
      "Error in GET(current_weather_url, query = current_query): could not find function \"GET\"\nTraceback:\n"
     ]
    }
   ],
   "source": [
    "response <- GET(current_weather_url, query=current_query)\n",
    "response"
   ]
  },
  {
   "cell_type": "markdown",
   "metadata": {},
   "source": [
    "The response type ahould be JSON."
   ]
  },
  {
   "cell_type": "code",
   "execution_count": 5,
   "metadata": {
    "vscode": {
     "languageId": "r"
    }
   },
   "outputs": [
    {
     "data": {
      "text/html": [
       "'application/json'"
      ],
      "text/latex": [
       "'application/json'"
      ],
      "text/markdown": [
       "'application/json'"
      ],
      "text/plain": [
       "[1] \"application/json\""
      ]
     },
     "metadata": {},
     "output_type": "display_data"
    }
   ],
   "source": [
    "http_type(response)"
   ]
  },
  {
   "cell_type": "markdown",
   "metadata": {},
   "source": [
    "Parse the JSON response as a named list."
   ]
  },
  {
   "cell_type": "code",
   "execution_count": 6,
   "metadata": {
    "vscode": {
     "languageId": "r"
    }
   },
   "outputs": [],
   "source": [
    "json_result <- content(response, as=\"parsed\")"
   ]
  },
  {
   "cell_type": "code",
   "execution_count": 7,
   "metadata": {
    "vscode": {
     "languageId": "r"
    }
   },
   "outputs": [
    {
     "data": {
      "text/html": [
       "'list'"
      ],
      "text/latex": [
       "'list'"
      ],
      "text/markdown": [
       "'list'"
      ],
      "text/plain": [
       "[1] \"list\""
      ]
     },
     "metadata": {},
     "output_type": "display_data"
    }
   ],
   "source": [
    "class(json_result)"
   ]
  },
  {
   "cell_type": "markdown",
   "metadata": {},
   "source": [
    "Display the JSON result.\n"
   ]
  },
  {
   "cell_type": "code",
   "execution_count": 8,
   "metadata": {
    "vscode": {
     "languageId": "r"
    }
   },
   "outputs": [
    {
     "data": {
      "text/html": [
       "<dl>\n",
       "\t<dt>$coord</dt>\n",
       "\t\t<dd><dl>\n",
       "\t<dt>$lon</dt>\n",
       "\t\t<dd>126.9778</dd>\n",
       "\t<dt>$lat</dt>\n",
       "\t\t<dd>37.5683</dd>\n",
       "</dl>\n",
       "</dd>\n",
       "\t<dt>$weather</dt>\n",
       "\t\t<dd><ol>\n",
       "\t<li><dl>\n",
       "\t<dt>$id</dt>\n",
       "\t\t<dd>800</dd>\n",
       "\t<dt>$main</dt>\n",
       "\t\t<dd>'Clear'</dd>\n",
       "\t<dt>$description</dt>\n",
       "\t\t<dd>'clear sky'</dd>\n",
       "\t<dt>$icon</dt>\n",
       "\t\t<dd>'01n'</dd>\n",
       "</dl>\n",
       "</li>\n",
       "</ol>\n",
       "</dd>\n",
       "\t<dt>$base</dt>\n",
       "\t\t<dd>'stations'</dd>\n",
       "\t<dt>$main</dt>\n",
       "\t\t<dd><dl>\n",
       "\t<dt>$temp</dt>\n",
       "\t\t<dd>-17.34</dd>\n",
       "\t<dt>$feels_like</dt>\n",
       "\t\t<dd>-24.34</dd>\n",
       "\t<dt>$temp_min</dt>\n",
       "\t\t<dd>-17.34</dd>\n",
       "\t<dt>$temp_max</dt>\n",
       "\t\t<dd>-15.31</dd>\n",
       "\t<dt>$pressure</dt>\n",
       "\t\t<dd>1032</dd>\n",
       "\t<dt>$humidity</dt>\n",
       "\t\t<dd>33</dd>\n",
       "\t<dt>$sea_level</dt>\n",
       "\t\t<dd>1032</dd>\n",
       "\t<dt>$grnd_level</dt>\n",
       "\t\t<dd>1025</dd>\n",
       "</dl>\n",
       "</dd>\n",
       "\t<dt>$visibility</dt>\n",
       "\t\t<dd>10000</dd>\n",
       "\t<dt>$wind</dt>\n",
       "\t\t<dd><dl>\n",
       "\t<dt>$speed</dt>\n",
       "\t\t<dd>3.41</dd>\n",
       "\t<dt>$deg</dt>\n",
       "\t\t<dd>305</dd>\n",
       "\t<dt>$gust</dt>\n",
       "\t\t<dd>6.31</dd>\n",
       "</dl>\n",
       "</dd>\n",
       "\t<dt>$clouds</dt>\n",
       "\t\t<dd><strong>$all</strong> = 0</dd>\n",
       "\t<dt>$dt</dt>\n",
       "\t\t<dd>1674586812</dd>\n",
       "\t<dt>$sys</dt>\n",
       "\t\t<dd><dl>\n",
       "\t<dt>$type</dt>\n",
       "\t\t<dd>1</dd>\n",
       "\t<dt>$id</dt>\n",
       "\t\t<dd>5509</dd>\n",
       "\t<dt>$country</dt>\n",
       "\t\t<dd>'KR'</dd>\n",
       "\t<dt>$sunrise</dt>\n",
       "\t\t<dd>1674600082</dd>\n",
       "\t<dt>$sunset</dt>\n",
       "\t\t<dd>1674636408</dd>\n",
       "</dl>\n",
       "</dd>\n",
       "\t<dt>$timezone</dt>\n",
       "\t\t<dd>32400</dd>\n",
       "\t<dt>$id</dt>\n",
       "\t\t<dd>1835848</dd>\n",
       "\t<dt>$name</dt>\n",
       "\t\t<dd>'Seoul'</dd>\n",
       "\t<dt>$cod</dt>\n",
       "\t\t<dd>200</dd>\n",
       "</dl>\n"
      ],
      "text/latex": [
       "\\begin{description}\n",
       "\\item[\\$coord] \\begin{description}\n",
       "\\item[\\$lon] 126.9778\n",
       "\\item[\\$lat] 37.5683\n",
       "\\end{description}\n",
       "\n",
       "\\item[\\$weather] \\begin{enumerate}\n",
       "\\item \\begin{description}\n",
       "\\item[\\$id] 800\n",
       "\\item[\\$main] 'Clear'\n",
       "\\item[\\$description] 'clear sky'\n",
       "\\item[\\$icon] '01n'\n",
       "\\end{description}\n",
       "\n",
       "\\end{enumerate}\n",
       "\n",
       "\\item[\\$base] 'stations'\n",
       "\\item[\\$main] \\begin{description}\n",
       "\\item[\\$temp] -17.34\n",
       "\\item[\\$feels\\_like] -24.34\n",
       "\\item[\\$temp\\_min] -17.34\n",
       "\\item[\\$temp\\_max] -15.31\n",
       "\\item[\\$pressure] 1032\n",
       "\\item[\\$humidity] 33\n",
       "\\item[\\$sea\\_level] 1032\n",
       "\\item[\\$grnd\\_level] 1025\n",
       "\\end{description}\n",
       "\n",
       "\\item[\\$visibility] 10000\n",
       "\\item[\\$wind] \\begin{description}\n",
       "\\item[\\$speed] 3.41\n",
       "\\item[\\$deg] 305\n",
       "\\item[\\$gust] 6.31\n",
       "\\end{description}\n",
       "\n",
       "\\item[\\$clouds] \\textbf{\\$all} = 0\n",
       "\\item[\\$dt] 1674586812\n",
       "\\item[\\$sys] \\begin{description}\n",
       "\\item[\\$type] 1\n",
       "\\item[\\$id] 5509\n",
       "\\item[\\$country] 'KR'\n",
       "\\item[\\$sunrise] 1674600082\n",
       "\\item[\\$sunset] 1674636408\n",
       "\\end{description}\n",
       "\n",
       "\\item[\\$timezone] 32400\n",
       "\\item[\\$id] 1835848\n",
       "\\item[\\$name] 'Seoul'\n",
       "\\item[\\$cod] 200\n",
       "\\end{description}\n"
      ],
      "text/markdown": [
       "$coord\n",
       ":   $lon\n",
       ":   126.9778\n",
       "$lat\n",
       ":   37.5683\n",
       "\n",
       "\n",
       "\n",
       "$weather\n",
       ":   1. $id\n",
       ":   800\n",
       "$main\n",
       ":   'Clear'\n",
       "$description\n",
       ":   'clear sky'\n",
       "$icon\n",
       ":   '01n'\n",
       "\n",
       "\n",
       "\n",
       "\n",
       "\n",
       "\n",
       "$base\n",
       ":   'stations'\n",
       "$main\n",
       ":   $temp\n",
       ":   -17.34\n",
       "$feels_like\n",
       ":   -24.34\n",
       "$temp_min\n",
       ":   -17.34\n",
       "$temp_max\n",
       ":   -15.31\n",
       "$pressure\n",
       ":   1032\n",
       "$humidity\n",
       ":   33\n",
       "$sea_level\n",
       ":   1032\n",
       "$grnd_level\n",
       ":   1025\n",
       "\n",
       "\n",
       "\n",
       "$visibility\n",
       ":   10000\n",
       "$wind\n",
       ":   $speed\n",
       ":   3.41\n",
       "$deg\n",
       ":   305\n",
       "$gust\n",
       ":   6.31\n",
       "\n",
       "\n",
       "\n",
       "$clouds\n",
       ":   **$all** = 0\n",
       "$dt\n",
       ":   1674586812\n",
       "$sys\n",
       ":   $type\n",
       ":   1\n",
       "$id\n",
       ":   5509\n",
       "$country\n",
       ":   'KR'\n",
       "$sunrise\n",
       ":   1674600082\n",
       "$sunset\n",
       ":   1674636408\n",
       "\n",
       "\n",
       "\n",
       "$timezone\n",
       ":   32400\n",
       "$id\n",
       ":   1835848\n",
       "$name\n",
       ":   'Seoul'\n",
       "$cod\n",
       ":   200\n",
       "\n",
       "\n"
      ],
      "text/plain": [
       "$coord\n",
       "$coord$lon\n",
       "[1] 126.9778\n",
       "\n",
       "$coord$lat\n",
       "[1] 37.5683\n",
       "\n",
       "\n",
       "$weather\n",
       "$weather[[1]]\n",
       "$weather[[1]]$id\n",
       "[1] 800\n",
       "\n",
       "$weather[[1]]$main\n",
       "[1] \"Clear\"\n",
       "\n",
       "$weather[[1]]$description\n",
       "[1] \"clear sky\"\n",
       "\n",
       "$weather[[1]]$icon\n",
       "[1] \"01n\"\n",
       "\n",
       "\n",
       "\n",
       "$base\n",
       "[1] \"stations\"\n",
       "\n",
       "$main\n",
       "$main$temp\n",
       "[1] -17.34\n",
       "\n",
       "$main$feels_like\n",
       "[1] -24.34\n",
       "\n",
       "$main$temp_min\n",
       "[1] -17.34\n",
       "\n",
       "$main$temp_max\n",
       "[1] -15.31\n",
       "\n",
       "$main$pressure\n",
       "[1] 1032\n",
       "\n",
       "$main$humidity\n",
       "[1] 33\n",
       "\n",
       "$main$sea_level\n",
       "[1] 1032\n",
       "\n",
       "$main$grnd_level\n",
       "[1] 1025\n",
       "\n",
       "\n",
       "$visibility\n",
       "[1] 10000\n",
       "\n",
       "$wind\n",
       "$wind$speed\n",
       "[1] 3.41\n",
       "\n",
       "$wind$deg\n",
       "[1] 305\n",
       "\n",
       "$wind$gust\n",
       "[1] 6.31\n",
       "\n",
       "\n",
       "$clouds\n",
       "$clouds$all\n",
       "[1] 0\n",
       "\n",
       "\n",
       "$dt\n",
       "[1] 1674586812\n",
       "\n",
       "$sys\n",
       "$sys$type\n",
       "[1] 1\n",
       "\n",
       "$sys$id\n",
       "[1] 5509\n",
       "\n",
       "$sys$country\n",
       "[1] \"KR\"\n",
       "\n",
       "$sys$sunrise\n",
       "[1] 1674600082\n",
       "\n",
       "$sys$sunset\n",
       "[1] 1674636408\n",
       "\n",
       "\n",
       "$timezone\n",
       "[1] 32400\n",
       "\n",
       "$id\n",
       "[1] 1835848\n",
       "\n",
       "$name\n",
       "[1] \"Seoul\"\n",
       "\n",
       "$cod\n",
       "[1] 200\n"
      ]
     },
     "metadata": {},
     "output_type": "display_data"
    }
   ],
   "source": [
    "json_result"
   ]
  },
  {
   "cell_type": "markdown",
   "metadata": {},
   "source": [
    "The JSON result needs to be deserialised for analysis.\n",
    "Convert the list to a dataframe."
   ]
  },
  {
   "cell_type": "code",
   "execution_count": 9,
   "metadata": {
    "vscode": {
     "languageId": "r"
    }
   },
   "outputs": [],
   "source": [
    "# Create some empty vectors to hold data temporarily\n",
    "weather <- c()\n",
    "visibility <- c()\n",
    "temp <- c()\n",
    "temp_min <- c()\n",
    "temp_max <- c()\n",
    "pressure <- c()\n",
    "humidity <- c()\n",
    "wind_speed <- c()\n",
    "wind_deg <- c()"
   ]
  },
  {
   "cell_type": "markdown",
   "metadata": {},
   "source": [
    "Now assign the values in the `json_result` list to individual vectors"
   ]
  },
  {
   "cell_type": "code",
   "execution_count": 10,
   "metadata": {
    "vscode": {
     "languageId": "r"
    }
   },
   "outputs": [],
   "source": [
    "# $weather is also a list with one element, its $main element indicates the weather status such as clear or rain\n",
    "weather <- c(weather, json_result$weather[[1]]$main)\n",
    "# Get Visibility\n",
    "visibility <- c(visibility, json_result$visibility)\n",
    "# Get current temperature \n",
    "temp <- c(temp, json_result$main$temp)\n",
    "# Get min temperature \n",
    "temp_min <- c(temp_min, json_result$main$temp_min)\n",
    "# Get max temperature \n",
    "temp_max <- c(temp_max, json_result$main$temp_max)\n",
    "# Get pressure\n",
    "pressure <- c(pressure, json_result$main$pressure)\n",
    "# Get humidity\n",
    "humidity <- c(humidity, json_result$main$humidity)\n",
    "# Get wind speed\n",
    "wind_speed <- c(wind_speed, json_result$wind$speed)\n",
    "# Get wind direction\n",
    "wind_deg <- c(wind_deg, json_result$wind$deg)\n"
   ]
  },
  {
   "cell_type": "markdown",
   "metadata": {},
   "source": [
    "Combine all vectors into dataframe columns."
   ]
  },
  {
   "cell_type": "code",
   "execution_count": 11,
   "metadata": {
    "vscode": {
     "languageId": "r"
    }
   },
   "outputs": [],
   "source": [
    "# Combine all vectors\n",
    "weather_data_frame <- data.frame(weather=weather, \n",
    "                                 visibility=visibility, \n",
    "                                 temp=temp, \n",
    "                                 temp_min=temp_min, \n",
    "                                 temp_max=temp_max, \n",
    "                                 pressure=pressure, \n",
    "                                 humidity=humidity, \n",
    "                                 wind_speed=wind_speed, \n",
    "                                 wind_deg=wind_deg)"
   ]
  },
  {
   "cell_type": "code",
   "execution_count": 12,
   "metadata": {
    "vscode": {
     "languageId": "r"
    }
   },
   "outputs": [
    {
     "name": "stdout",
     "output_type": "stream",
     "text": [
      "  weather visibility   temp temp_min temp_max pressure humidity wind_speed\n",
      "1   Clear      10000 -17.34   -17.34   -15.31     1032       33       3.41\n",
      "  wind_deg\n",
      "1      305\n"
     ]
    }
   ],
   "source": [
    "# Check the generated data frame\n",
    "print(weather_data_frame)"
   ]
  },
  {
   "cell_type": "markdown",
   "metadata": {},
   "source": [
    "## Get 5-day weather forecasts for a list of cities using the OpenWeather API\n",
    "- Write a function to return a dataframe containing 5-day weather forecasts for a list of cities.\n",
    "- Use \"Seoul\", \"Washington, D.C.\", \"Paris\" and \"Suzhou\" as examples."
   ]
  },
  {
   "cell_type": "code",
   "execution_count": 13,
   "metadata": {
    "vscode": {
     "languageId": "r"
    }
   },
   "outputs": [],
   "source": [
    "# Create empty vectors to hold data temporarily\n",
    "\n",
    "# City name column\n",
    "city <- c()\n",
    "# Weather column, rainy or cloudy, etc\n",
    "weather <- c()\n",
    "# Sky visibility column\n",
    "visibility <- c()\n",
    "# Current temperature column\n",
    "temp <- c()\n",
    "# Max temperature column\n",
    "temp_min <- c()\n",
    "# Min temperature column\n",
    "temp_max <- c()\n",
    "# Pressure column\n",
    "pressure <- c()\n",
    "# Humidity column\n",
    "humidity <- c()\n",
    "# Wind speed column\n",
    "wind_speed <- c()\n",
    "# Wind direction column\n",
    "wind_deg <- c()\n",
    "# Forecast timestamp\n",
    "forecast_datetime <- c()\n",
    "\n",
    "# Season column\n",
    "# For season, a season value from levels Spring, Summer, Autumn, and Winter will be used based on the current month.\n",
    "current_month <- c()\n",
    "season <- c()"
   ]
  },
  {
   "cell_type": "code",
   "execution_count": 14,
   "metadata": {
    "vscode": {
     "languageId": "r"
    }
   },
   "outputs": [],
   "source": [
    "get_weather_forecaset_by_cities <- function(city_names){\n",
    "    \n",
    "    # Get forecast data for a given city list\n",
    "\n",
    "    df <- data.frame()\n",
    "    for (city_name in city_names){\n",
    "        # Forecast API URL\n",
    "        forecast_url <- 'https://api.openweathermap.org/data/2.5/forecast'\n",
    "        # Create query parameters\n",
    "        forecast_query <- list(q = city_name, appid = api_key, units=\"metric\")\n",
    "        # Make HTTP GET call for the given city\n",
    "        json_list <- GET(forecast_url, query = forecast_query) %>% content(as = \"parsed\")\n",
    "                \n",
    "        # Note that the 5-day forecast JSON result is a list of lists. You can print the reponse to check the results\n",
    "        results <- json_list$list\n",
    "        \n",
    "        # Loop the json result\n",
    "        for(result in results) {\n",
    "            city <- c(city, city_name)\n",
    "            \n",
    "            weather <- c(weather, result$weather[[1]]$main)\n",
    "            visibility <- c(visibility, result$visibility)\n",
    "            temp <- c(temp, result$main$temp)\n",
    "            temp_min <- c(temp_min, result$main$temp_min)\n",
    "            temp_max <- c(temp_max, result$main$temp_max)\n",
    "            pressure <- c(pressure, result$main$pressure)\n",
    "            humidity <- c(humidity, result$main$humidity)\n",
    "            wind_speed <- c(wind_speed, result$wind$speed)\n",
    "            wind_deg <- c(wind_deg, result$wind$deg)\n",
    "            \n",
    "            # Get datetime\n",
    "            forecast_datetime <- c(forecast_datetime , result$dt_txt)\n",
    "\n",
    "            # Get Season such as Spring, Summer, Autumn, and Winter based on your current month\n",
    "            current_month <- c(current_month, result$dt_txt)\n",
    "            current_month <-as.POSIXct(current_month, format = \"%Y-%m-%d %H:%M:%S\")\n",
    "            current_month <-format(current_month, format = \"%m\")\n",
    "            current_month <- as.integer(current_month)\n",
    "\n",
    "            # Conditions by season of the month \n",
    "            ifelse(current_month==12 |1 |2,season<-\"Winter\", season)\n",
    "            ifelse(current_month>2 & current_month <=5,season<-\"Spring\", season)\n",
    "            ifelse(current_month>5 & current_month <=8,season<-\"Summer\", season)\n",
    "            ifelse(current_month>8 & current_month <=11,season<-\"Autumn\", season)\n",
    "            # Consider adding logic to account for season reversal by hemisphere\n",
    "        }\n",
    "        \n",
    "        # Add the R lists to a dataframe\n",
    "        df <- data.frame(city = city,\n",
    "                         weather = weather,\n",
    "                         visibility = visibility,\n",
    "                         temp = temp,\n",
    "                         temp_min = temp_min,\n",
    "                         temp_max = temp_max,\n",
    "                         pressure = pressure,\n",
    "                         humidity = humidity,\n",
    "                         wind_speed = wind_speed,\n",
    "                         wind_deg = wind_deg,\n",
    "                         forecast_datetime = forecast_datetime,\n",
    "                         season = season)\n",
    "    }\n",
    "    \n",
    "    # Return a data frame\n",
    "    return(df)\n",
    "    \n",
    "}"
   ]
  },
  {
   "cell_type": "markdown",
   "metadata": {},
   "source": [
    "Call `get_weather_forecaset_by_cities`. Write the dataframe to a csv file called `cities_weather_forecast.csv`"
   ]
  },
  {
   "cell_type": "code",
   "execution_count": 15,
   "metadata": {
    "vscode": {
     "languageId": "r"
    }
   },
   "outputs": [
    {
     "data": {
      "text/html": [
       "<table>\n",
       "<caption>A data.frame: 160 × 12</caption>\n",
       "<thead>\n",
       "\t<tr><th scope=col>city</th><th scope=col>weather</th><th scope=col>visibility</th><th scope=col>temp</th><th scope=col>temp_min</th><th scope=col>temp_max</th><th scope=col>pressure</th><th scope=col>humidity</th><th scope=col>wind_speed</th><th scope=col>wind_deg</th><th scope=col>forecast_datetime</th><th scope=col>season</th></tr>\n",
       "\t<tr><th scope=col>&lt;fct&gt;</th><th scope=col>&lt;fct&gt;</th><th scope=col>&lt;int&gt;</th><th scope=col>&lt;dbl&gt;</th><th scope=col>&lt;dbl&gt;</th><th scope=col>&lt;dbl&gt;</th><th scope=col>&lt;int&gt;</th><th scope=col>&lt;int&gt;</th><th scope=col>&lt;dbl&gt;</th><th scope=col>&lt;int&gt;</th><th scope=col>&lt;fct&gt;</th><th scope=col>&lt;fct&gt;</th></tr>\n",
       "</thead>\n",
       "<tbody>\n",
       "\t<tr><td>Seoul</td><td>Clear </td><td>10000</td><td>-16.38</td><td>-16.38</td><td>-14.47</td><td>1033</td><td>32</td><td>2.31</td><td>310</td><td>2023-01-24 21:00:00</td><td>Winter</td></tr>\n",
       "\t<tr><td>Seoul</td><td>Clear </td><td>10000</td><td>-14.73</td><td>-14.73</td><td>-13.42</td><td>1034</td><td>28</td><td>1.71</td><td>302</td><td>2023-01-25 00:00:00</td><td>Winter</td></tr>\n",
       "\t<tr><td>Seoul</td><td>Clear </td><td>10000</td><td> -9.84</td><td> -9.84</td><td> -9.84</td><td>1033</td><td>17</td><td>1.66</td><td>325</td><td>2023-01-25 03:00:00</td><td>Winter</td></tr>\n",
       "\t<tr><td>Seoul</td><td>Clear </td><td>10000</td><td> -7.17</td><td> -7.17</td><td> -7.17</td><td>1030</td><td>17</td><td>2.09</td><td>302</td><td>2023-01-25 06:00:00</td><td>Winter</td></tr>\n",
       "\t<tr><td>Seoul</td><td>Clear </td><td>10000</td><td> -6.89</td><td> -6.89</td><td> -6.89</td><td>1029</td><td>26</td><td>0.96</td><td>315</td><td>2023-01-25 09:00:00</td><td>Winter</td></tr>\n",
       "\t<tr><td>Seoul</td><td>Clear </td><td>10000</td><td> -6.68</td><td> -6.68</td><td> -6.68</td><td>1028</td><td>30</td><td>1.33</td><td>146</td><td>2023-01-25 12:00:00</td><td>Winter</td></tr>\n",
       "\t<tr><td>Seoul</td><td>Clouds</td><td>10000</td><td> -6.47</td><td> -6.47</td><td> -6.47</td><td>1028</td><td>39</td><td>0.83</td><td>140</td><td>2023-01-25 15:00:00</td><td>Winter</td></tr>\n",
       "\t<tr><td>Seoul</td><td>Clouds</td><td>10000</td><td> -6.39</td><td> -6.39</td><td> -6.39</td><td>1027</td><td>43</td><td>1.43</td><td>118</td><td>2023-01-25 18:00:00</td><td>Winter</td></tr>\n",
       "\t<tr><td>Seoul</td><td>Clouds</td><td>10000</td><td> -6.42</td><td> -6.42</td><td> -6.42</td><td>1026</td><td>52</td><td>1.57</td><td> 78</td><td>2023-01-25 21:00:00</td><td>Winter</td></tr>\n",
       "\t<tr><td>Seoul</td><td>Clouds</td><td>10000</td><td> -6.20</td><td> -6.20</td><td> -6.20</td><td>1026</td><td>73</td><td>1.55</td><td> 77</td><td>2023-01-26 00:00:00</td><td>Winter</td></tr>\n",
       "\t<tr><td>Seoul</td><td>Snow  </td><td> 4642</td><td> -4.50</td><td> -4.50</td><td> -4.50</td><td>1026</td><td>82</td><td>1.46</td><td> 91</td><td>2023-01-26 03:00:00</td><td>Winter</td></tr>\n",
       "\t<tr><td>Seoul</td><td>Clouds</td><td>10000</td><td> -1.66</td><td> -1.66</td><td> -1.66</td><td>1024</td><td>67</td><td>0.06</td><td>356</td><td>2023-01-26 06:00:00</td><td>Winter</td></tr>\n",
       "\t<tr><td>Seoul</td><td>Clouds</td><td>10000</td><td> -2.09</td><td> -2.09</td><td> -2.09</td><td>1024</td><td>69</td><td>0.25</td><td>140</td><td>2023-01-26 09:00:00</td><td>Winter</td></tr>\n",
       "\t<tr><td>Seoul</td><td>Clouds</td><td>10000</td><td> -2.44</td><td> -2.44</td><td> -2.44</td><td>1024</td><td>72</td><td>0.20</td><td>329</td><td>2023-01-26 12:00:00</td><td>Winter</td></tr>\n",
       "\t<tr><td>Seoul</td><td>Clouds</td><td>10000</td><td> -2.87</td><td> -2.87</td><td> -2.87</td><td>1024</td><td>78</td><td>0.95</td><td>313</td><td>2023-01-26 15:00:00</td><td>Winter</td></tr>\n",
       "\t<tr><td>Seoul</td><td>Clouds</td><td>10000</td><td> -3.69</td><td> -3.69</td><td> -3.69</td><td>1023</td><td>84</td><td>2.56</td><td>309</td><td>2023-01-26 18:00:00</td><td>Winter</td></tr>\n",
       "\t<tr><td>Seoul</td><td>Clouds</td><td>10000</td><td> -5.75</td><td> -5.75</td><td> -5.75</td><td>1023</td><td>57</td><td>3.67</td><td>302</td><td>2023-01-26 21:00:00</td><td>Winter</td></tr>\n",
       "\t<tr><td>Seoul</td><td>Clouds</td><td>10000</td><td> -6.59</td><td> -6.59</td><td> -6.59</td><td>1023</td><td>47</td><td>4.44</td><td>303</td><td>2023-01-27 00:00:00</td><td>Winter</td></tr>\n",
       "\t<tr><td>Seoul</td><td>Clear </td><td>10000</td><td> -5.32</td><td> -5.32</td><td> -5.32</td><td>1023</td><td>29</td><td>6.64</td><td>301</td><td>2023-01-27 03:00:00</td><td>Winter</td></tr>\n",
       "\t<tr><td>Seoul</td><td>Clear </td><td>10000</td><td> -4.76</td><td> -4.76</td><td> -4.76</td><td>1022</td><td>28</td><td>7.75</td><td>304</td><td>2023-01-27 06:00:00</td><td>Winter</td></tr>\n",
       "\t<tr><td>Seoul</td><td>Clear </td><td>10000</td><td> -6.68</td><td> -6.68</td><td> -6.68</td><td>1023</td><td>37</td><td>6.97</td><td>313</td><td>2023-01-27 09:00:00</td><td>Winter</td></tr>\n",
       "\t<tr><td>Seoul</td><td>Clear </td><td>10000</td><td> -7.81</td><td> -7.81</td><td> -7.81</td><td>1024</td><td>39</td><td>5.97</td><td>311</td><td>2023-01-27 12:00:00</td><td>Winter</td></tr>\n",
       "\t<tr><td>Seoul</td><td>Clear </td><td>10000</td><td> -8.32</td><td> -8.32</td><td> -8.32</td><td>1024</td><td>38</td><td>5.77</td><td>312</td><td>2023-01-27 15:00:00</td><td>Winter</td></tr>\n",
       "\t<tr><td>Seoul</td><td>Clear </td><td>10000</td><td> -8.90</td><td> -8.90</td><td> -8.90</td><td>1024</td><td>38</td><td>4.92</td><td>304</td><td>2023-01-27 18:00:00</td><td>Winter</td></tr>\n",
       "\t<tr><td>Seoul</td><td>Clear </td><td>10000</td><td> -8.96</td><td> -8.96</td><td> -8.96</td><td>1023</td><td>34</td><td>3.51</td><td>309</td><td>2023-01-27 21:00:00</td><td>Winter</td></tr>\n",
       "\t<tr><td>Seoul</td><td>Clear </td><td>10000</td><td> -7.99</td><td> -7.99</td><td> -7.99</td><td>1023</td><td>31</td><td>1.60</td><td>  7</td><td>2023-01-28 00:00:00</td><td>Winter</td></tr>\n",
       "\t<tr><td>Seoul</td><td>Clouds</td><td>10000</td><td> -4.78</td><td> -4.78</td><td> -4.78</td><td>1021</td><td>25</td><td>0.97</td><td>308</td><td>2023-01-28 03:00:00</td><td>Winter</td></tr>\n",
       "\t<tr><td>Seoul</td><td>Clouds</td><td>10000</td><td> -4.01</td><td> -4.01</td><td> -4.01</td><td>1019</td><td>51</td><td>2.40</td><td>269</td><td>2023-01-28 06:00:00</td><td>Winter</td></tr>\n",
       "\t<tr><td>Seoul</td><td>Clouds</td><td>10000</td><td> -3.93</td><td> -3.93</td><td> -3.93</td><td>1019</td><td>59</td><td>2.22</td><td>263</td><td>2023-01-28 09:00:00</td><td>Winter</td></tr>\n",
       "\t<tr><td>Seoul</td><td>Clouds</td><td>10000</td><td> -4.07</td><td> -4.07</td><td> -4.07</td><td>1020</td><td>65</td><td>0.90</td><td>196</td><td>2023-01-28 12:00:00</td><td>Winter</td></tr>\n",
       "\t<tr><td>⋮</td><td>⋮</td><td>⋮</td><td>⋮</td><td>⋮</td><td>⋮</td><td>⋮</td><td>⋮</td><td>⋮</td><td>⋮</td><td>⋮</td><td>⋮</td></tr>\n",
       "\t<tr><td>Suzhou</td><td>Clear </td><td>10000</td><td> 5.40</td><td> 5.40</td><td> 5.40</td><td>1026</td><td>51</td><td>3.48</td><td>307</td><td>2023-01-26 03:00:00</td><td>Winter</td></tr>\n",
       "\t<tr><td>Suzhou</td><td>Clear </td><td>10000</td><td> 7.36</td><td> 7.36</td><td> 7.36</td><td>1023</td><td>36</td><td>3.99</td><td>307</td><td>2023-01-26 06:00:00</td><td>Winter</td></tr>\n",
       "\t<tr><td>Suzhou</td><td>Clear </td><td>10000</td><td> 6.34</td><td> 6.34</td><td> 6.34</td><td>1025</td><td>39</td><td>3.66</td><td>319</td><td>2023-01-26 09:00:00</td><td>Winter</td></tr>\n",
       "\t<tr><td>Suzhou</td><td>Clear </td><td>10000</td><td> 3.66</td><td> 3.66</td><td> 3.66</td><td>1027</td><td>48</td><td>3.53</td><td>332</td><td>2023-01-26 12:00:00</td><td>Winter</td></tr>\n",
       "\t<tr><td>Suzhou</td><td>Clear </td><td>10000</td><td> 1.90</td><td> 1.90</td><td> 1.90</td><td>1028</td><td>61</td><td>2.92</td><td>349</td><td>2023-01-26 15:00:00</td><td>Winter</td></tr>\n",
       "\t<tr><td>Suzhou</td><td>Clear </td><td>10000</td><td> 0.75</td><td> 0.75</td><td> 0.75</td><td>1029</td><td>59</td><td>3.75</td><td>336</td><td>2023-01-26 18:00:00</td><td>Winter</td></tr>\n",
       "\t<tr><td>Suzhou</td><td>Clear </td><td>10000</td><td> 0.02</td><td> 0.02</td><td> 0.02</td><td>1029</td><td>49</td><td>4.66</td><td>329</td><td>2023-01-26 21:00:00</td><td>Winter</td></tr>\n",
       "\t<tr><td>Suzhou</td><td>Clouds</td><td>10000</td><td> 0.44</td><td> 0.44</td><td> 0.44</td><td>1032</td><td>46</td><td>5.47</td><td>328</td><td>2023-01-27 00:00:00</td><td>Winter</td></tr>\n",
       "\t<tr><td>Suzhou</td><td>Clouds</td><td>10000</td><td> 3.14</td><td> 3.14</td><td> 3.14</td><td>1033</td><td>29</td><td>7.24</td><td>332</td><td>2023-01-27 03:00:00</td><td>Winter</td></tr>\n",
       "\t<tr><td>Suzhou</td><td>Clouds</td><td>10000</td><td> 4.40</td><td> 4.40</td><td> 4.40</td><td>1031</td><td>26</td><td>7.41</td><td>329</td><td>2023-01-27 06:00:00</td><td>Winter</td></tr>\n",
       "\t<tr><td>Suzhou</td><td>Clouds</td><td>10000</td><td> 3.24</td><td> 3.24</td><td> 3.24</td><td>1032</td><td>32</td><td>5.89</td><td>333</td><td>2023-01-27 09:00:00</td><td>Winter</td></tr>\n",
       "\t<tr><td>Suzhou</td><td>Clouds</td><td>10000</td><td> 1.11</td><td> 1.11</td><td> 1.11</td><td>1033</td><td>38</td><td>4.04</td><td>339</td><td>2023-01-27 12:00:00</td><td>Winter</td></tr>\n",
       "\t<tr><td>Suzhou</td><td>Clear </td><td>10000</td><td>-0.24</td><td>-0.24</td><td>-0.24</td><td>1032</td><td>40</td><td>2.32</td><td>352</td><td>2023-01-27 15:00:00</td><td>Winter</td></tr>\n",
       "\t<tr><td>Suzhou</td><td>Clear </td><td>10000</td><td>-0.57</td><td>-0.57</td><td>-0.57</td><td>1031</td><td>39</td><td>2.29</td><td>334</td><td>2023-01-27 18:00:00</td><td>Winter</td></tr>\n",
       "\t<tr><td>Suzhou</td><td>Clear </td><td>10000</td><td>-0.96</td><td>-0.96</td><td>-0.96</td><td>1030</td><td>42</td><td>2.48</td><td>322</td><td>2023-01-27 21:00:00</td><td>Winter</td></tr>\n",
       "\t<tr><td>Suzhou</td><td>Clear </td><td>10000</td><td> 0.02</td><td> 0.02</td><td> 0.02</td><td>1030</td><td>39</td><td>3.12</td><td>305</td><td>2023-01-28 00:00:00</td><td>Winter</td></tr>\n",
       "\t<tr><td>Suzhou</td><td>Clouds</td><td>10000</td><td> 3.02</td><td> 3.02</td><td> 3.02</td><td>1030</td><td>25</td><td>4.89</td><td>296</td><td>2023-01-28 03:00:00</td><td>Winter</td></tr>\n",
       "\t<tr><td>Suzhou</td><td>Clouds</td><td>10000</td><td> 4.65</td><td> 4.65</td><td> 4.65</td><td>1026</td><td>23</td><td>4.55</td><td>291</td><td>2023-01-28 06:00:00</td><td>Winter</td></tr>\n",
       "\t<tr><td>Suzhou</td><td>Clouds</td><td>10000</td><td> 3.97</td><td> 3.97</td><td> 3.97</td><td>1026</td><td>30</td><td>3.42</td><td>285</td><td>2023-01-28 09:00:00</td><td>Winter</td></tr>\n",
       "\t<tr><td>Suzhou</td><td>Clouds</td><td>10000</td><td> 2.84</td><td> 2.84</td><td> 2.84</td><td>1027</td><td>39</td><td>2.72</td><td>274</td><td>2023-01-28 12:00:00</td><td>Winter</td></tr>\n",
       "\t<tr><td>Suzhou</td><td>Clouds</td><td>10000</td><td> 2.19</td><td> 2.19</td><td> 2.19</td><td>1026</td><td>42</td><td>2.66</td><td>274</td><td>2023-01-28 15:00:00</td><td>Winter</td></tr>\n",
       "\t<tr><td>Suzhou</td><td>Clouds</td><td>10000</td><td> 1.76</td><td> 1.76</td><td> 1.76</td><td>1026</td><td>46</td><td>2.58</td><td>248</td><td>2023-01-28 18:00:00</td><td>Winter</td></tr>\n",
       "\t<tr><td>Suzhou</td><td>Clear </td><td>10000</td><td> 1.51</td><td> 1.51</td><td> 1.51</td><td>1025</td><td>50</td><td>2.81</td><td>231</td><td>2023-01-28 21:00:00</td><td>Winter</td></tr>\n",
       "\t<tr><td>Suzhou</td><td>Clear </td><td>10000</td><td> 2.48</td><td> 2.48</td><td> 2.48</td><td>1026</td><td>49</td><td>2.66</td><td>220</td><td>2023-01-29 00:00:00</td><td>Winter</td></tr>\n",
       "\t<tr><td>Suzhou</td><td>Clear </td><td>10000</td><td> 7.15</td><td> 7.15</td><td> 7.15</td><td>1026</td><td>30</td><td>3.97</td><td>246</td><td>2023-01-29 03:00:00</td><td>Winter</td></tr>\n",
       "\t<tr><td>Suzhou</td><td>Clear </td><td>10000</td><td> 9.32</td><td> 9.32</td><td> 9.32</td><td>1023</td><td>25</td><td>4.31</td><td>260</td><td>2023-01-29 06:00:00</td><td>Winter</td></tr>\n",
       "\t<tr><td>Suzhou</td><td>Clear </td><td>10000</td><td> 8.96</td><td> 8.96</td><td> 8.96</td><td>1024</td><td>36</td><td>4.14</td><td>283</td><td>2023-01-29 09:00:00</td><td>Winter</td></tr>\n",
       "\t<tr><td>Suzhou</td><td>Clear </td><td>10000</td><td> 6.65</td><td> 6.65</td><td> 6.65</td><td>1026</td><td>45</td><td>3.14</td><td>306</td><td>2023-01-29 12:00:00</td><td>Winter</td></tr>\n",
       "\t<tr><td>Suzhou</td><td>Clear </td><td>10000</td><td> 4.73</td><td> 4.73</td><td> 4.73</td><td>1027</td><td>45</td><td>3.34</td><td>342</td><td>2023-01-29 15:00:00</td><td>Winter</td></tr>\n",
       "\t<tr><td>Suzhou</td><td>Clear </td><td>10000</td><td> 2.52</td><td> 2.52</td><td> 2.52</td><td>1029</td><td>52</td><td>2.79</td><td>  9</td><td>2023-01-29 18:00:00</td><td>Winter</td></tr>\n",
       "</tbody>\n",
       "</table>\n"
      ],
      "text/latex": [
       "A data.frame: 160 × 12\n",
       "\\begin{tabular}{llllllllllll}\n",
       " city & weather & visibility & temp & temp\\_min & temp\\_max & pressure & humidity & wind\\_speed & wind\\_deg & forecast\\_datetime & season\\\\\n",
       " <fct> & <fct> & <int> & <dbl> & <dbl> & <dbl> & <int> & <int> & <dbl> & <int> & <fct> & <fct>\\\\\n",
       "\\hline\n",
       "\t Seoul & Clear  & 10000 & -16.38 & -16.38 & -14.47 & 1033 & 32 & 2.31 & 310 & 2023-01-24 21:00:00 & Winter\\\\\n",
       "\t Seoul & Clear  & 10000 & -14.73 & -14.73 & -13.42 & 1034 & 28 & 1.71 & 302 & 2023-01-25 00:00:00 & Winter\\\\\n",
       "\t Seoul & Clear  & 10000 &  -9.84 &  -9.84 &  -9.84 & 1033 & 17 & 1.66 & 325 & 2023-01-25 03:00:00 & Winter\\\\\n",
       "\t Seoul & Clear  & 10000 &  -7.17 &  -7.17 &  -7.17 & 1030 & 17 & 2.09 & 302 & 2023-01-25 06:00:00 & Winter\\\\\n",
       "\t Seoul & Clear  & 10000 &  -6.89 &  -6.89 &  -6.89 & 1029 & 26 & 0.96 & 315 & 2023-01-25 09:00:00 & Winter\\\\\n",
       "\t Seoul & Clear  & 10000 &  -6.68 &  -6.68 &  -6.68 & 1028 & 30 & 1.33 & 146 & 2023-01-25 12:00:00 & Winter\\\\\n",
       "\t Seoul & Clouds & 10000 &  -6.47 &  -6.47 &  -6.47 & 1028 & 39 & 0.83 & 140 & 2023-01-25 15:00:00 & Winter\\\\\n",
       "\t Seoul & Clouds & 10000 &  -6.39 &  -6.39 &  -6.39 & 1027 & 43 & 1.43 & 118 & 2023-01-25 18:00:00 & Winter\\\\\n",
       "\t Seoul & Clouds & 10000 &  -6.42 &  -6.42 &  -6.42 & 1026 & 52 & 1.57 &  78 & 2023-01-25 21:00:00 & Winter\\\\\n",
       "\t Seoul & Clouds & 10000 &  -6.20 &  -6.20 &  -6.20 & 1026 & 73 & 1.55 &  77 & 2023-01-26 00:00:00 & Winter\\\\\n",
       "\t Seoul & Snow   &  4642 &  -4.50 &  -4.50 &  -4.50 & 1026 & 82 & 1.46 &  91 & 2023-01-26 03:00:00 & Winter\\\\\n",
       "\t Seoul & Clouds & 10000 &  -1.66 &  -1.66 &  -1.66 & 1024 & 67 & 0.06 & 356 & 2023-01-26 06:00:00 & Winter\\\\\n",
       "\t Seoul & Clouds & 10000 &  -2.09 &  -2.09 &  -2.09 & 1024 & 69 & 0.25 & 140 & 2023-01-26 09:00:00 & Winter\\\\\n",
       "\t Seoul & Clouds & 10000 &  -2.44 &  -2.44 &  -2.44 & 1024 & 72 & 0.20 & 329 & 2023-01-26 12:00:00 & Winter\\\\\n",
       "\t Seoul & Clouds & 10000 &  -2.87 &  -2.87 &  -2.87 & 1024 & 78 & 0.95 & 313 & 2023-01-26 15:00:00 & Winter\\\\\n",
       "\t Seoul & Clouds & 10000 &  -3.69 &  -3.69 &  -3.69 & 1023 & 84 & 2.56 & 309 & 2023-01-26 18:00:00 & Winter\\\\\n",
       "\t Seoul & Clouds & 10000 &  -5.75 &  -5.75 &  -5.75 & 1023 & 57 & 3.67 & 302 & 2023-01-26 21:00:00 & Winter\\\\\n",
       "\t Seoul & Clouds & 10000 &  -6.59 &  -6.59 &  -6.59 & 1023 & 47 & 4.44 & 303 & 2023-01-27 00:00:00 & Winter\\\\\n",
       "\t Seoul & Clear  & 10000 &  -5.32 &  -5.32 &  -5.32 & 1023 & 29 & 6.64 & 301 & 2023-01-27 03:00:00 & Winter\\\\\n",
       "\t Seoul & Clear  & 10000 &  -4.76 &  -4.76 &  -4.76 & 1022 & 28 & 7.75 & 304 & 2023-01-27 06:00:00 & Winter\\\\\n",
       "\t Seoul & Clear  & 10000 &  -6.68 &  -6.68 &  -6.68 & 1023 & 37 & 6.97 & 313 & 2023-01-27 09:00:00 & Winter\\\\\n",
       "\t Seoul & Clear  & 10000 &  -7.81 &  -7.81 &  -7.81 & 1024 & 39 & 5.97 & 311 & 2023-01-27 12:00:00 & Winter\\\\\n",
       "\t Seoul & Clear  & 10000 &  -8.32 &  -8.32 &  -8.32 & 1024 & 38 & 5.77 & 312 & 2023-01-27 15:00:00 & Winter\\\\\n",
       "\t Seoul & Clear  & 10000 &  -8.90 &  -8.90 &  -8.90 & 1024 & 38 & 4.92 & 304 & 2023-01-27 18:00:00 & Winter\\\\\n",
       "\t Seoul & Clear  & 10000 &  -8.96 &  -8.96 &  -8.96 & 1023 & 34 & 3.51 & 309 & 2023-01-27 21:00:00 & Winter\\\\\n",
       "\t Seoul & Clear  & 10000 &  -7.99 &  -7.99 &  -7.99 & 1023 & 31 & 1.60 &   7 & 2023-01-28 00:00:00 & Winter\\\\\n",
       "\t Seoul & Clouds & 10000 &  -4.78 &  -4.78 &  -4.78 & 1021 & 25 & 0.97 & 308 & 2023-01-28 03:00:00 & Winter\\\\\n",
       "\t Seoul & Clouds & 10000 &  -4.01 &  -4.01 &  -4.01 & 1019 & 51 & 2.40 & 269 & 2023-01-28 06:00:00 & Winter\\\\\n",
       "\t Seoul & Clouds & 10000 &  -3.93 &  -3.93 &  -3.93 & 1019 & 59 & 2.22 & 263 & 2023-01-28 09:00:00 & Winter\\\\\n",
       "\t Seoul & Clouds & 10000 &  -4.07 &  -4.07 &  -4.07 & 1020 & 65 & 0.90 & 196 & 2023-01-28 12:00:00 & Winter\\\\\n",
       "\t ⋮ & ⋮ & ⋮ & ⋮ & ⋮ & ⋮ & ⋮ & ⋮ & ⋮ & ⋮ & ⋮ & ⋮\\\\\n",
       "\t Suzhou & Clear  & 10000 &  5.40 &  5.40 &  5.40 & 1026 & 51 & 3.48 & 307 & 2023-01-26 03:00:00 & Winter\\\\\n",
       "\t Suzhou & Clear  & 10000 &  7.36 &  7.36 &  7.36 & 1023 & 36 & 3.99 & 307 & 2023-01-26 06:00:00 & Winter\\\\\n",
       "\t Suzhou & Clear  & 10000 &  6.34 &  6.34 &  6.34 & 1025 & 39 & 3.66 & 319 & 2023-01-26 09:00:00 & Winter\\\\\n",
       "\t Suzhou & Clear  & 10000 &  3.66 &  3.66 &  3.66 & 1027 & 48 & 3.53 & 332 & 2023-01-26 12:00:00 & Winter\\\\\n",
       "\t Suzhou & Clear  & 10000 &  1.90 &  1.90 &  1.90 & 1028 & 61 & 2.92 & 349 & 2023-01-26 15:00:00 & Winter\\\\\n",
       "\t Suzhou & Clear  & 10000 &  0.75 &  0.75 &  0.75 & 1029 & 59 & 3.75 & 336 & 2023-01-26 18:00:00 & Winter\\\\\n",
       "\t Suzhou & Clear  & 10000 &  0.02 &  0.02 &  0.02 & 1029 & 49 & 4.66 & 329 & 2023-01-26 21:00:00 & Winter\\\\\n",
       "\t Suzhou & Clouds & 10000 &  0.44 &  0.44 &  0.44 & 1032 & 46 & 5.47 & 328 & 2023-01-27 00:00:00 & Winter\\\\\n",
       "\t Suzhou & Clouds & 10000 &  3.14 &  3.14 &  3.14 & 1033 & 29 & 7.24 & 332 & 2023-01-27 03:00:00 & Winter\\\\\n",
       "\t Suzhou & Clouds & 10000 &  4.40 &  4.40 &  4.40 & 1031 & 26 & 7.41 & 329 & 2023-01-27 06:00:00 & Winter\\\\\n",
       "\t Suzhou & Clouds & 10000 &  3.24 &  3.24 &  3.24 & 1032 & 32 & 5.89 & 333 & 2023-01-27 09:00:00 & Winter\\\\\n",
       "\t Suzhou & Clouds & 10000 &  1.11 &  1.11 &  1.11 & 1033 & 38 & 4.04 & 339 & 2023-01-27 12:00:00 & Winter\\\\\n",
       "\t Suzhou & Clear  & 10000 & -0.24 & -0.24 & -0.24 & 1032 & 40 & 2.32 & 352 & 2023-01-27 15:00:00 & Winter\\\\\n",
       "\t Suzhou & Clear  & 10000 & -0.57 & -0.57 & -0.57 & 1031 & 39 & 2.29 & 334 & 2023-01-27 18:00:00 & Winter\\\\\n",
       "\t Suzhou & Clear  & 10000 & -0.96 & -0.96 & -0.96 & 1030 & 42 & 2.48 & 322 & 2023-01-27 21:00:00 & Winter\\\\\n",
       "\t Suzhou & Clear  & 10000 &  0.02 &  0.02 &  0.02 & 1030 & 39 & 3.12 & 305 & 2023-01-28 00:00:00 & Winter\\\\\n",
       "\t Suzhou & Clouds & 10000 &  3.02 &  3.02 &  3.02 & 1030 & 25 & 4.89 & 296 & 2023-01-28 03:00:00 & Winter\\\\\n",
       "\t Suzhou & Clouds & 10000 &  4.65 &  4.65 &  4.65 & 1026 & 23 & 4.55 & 291 & 2023-01-28 06:00:00 & Winter\\\\\n",
       "\t Suzhou & Clouds & 10000 &  3.97 &  3.97 &  3.97 & 1026 & 30 & 3.42 & 285 & 2023-01-28 09:00:00 & Winter\\\\\n",
       "\t Suzhou & Clouds & 10000 &  2.84 &  2.84 &  2.84 & 1027 & 39 & 2.72 & 274 & 2023-01-28 12:00:00 & Winter\\\\\n",
       "\t Suzhou & Clouds & 10000 &  2.19 &  2.19 &  2.19 & 1026 & 42 & 2.66 & 274 & 2023-01-28 15:00:00 & Winter\\\\\n",
       "\t Suzhou & Clouds & 10000 &  1.76 &  1.76 &  1.76 & 1026 & 46 & 2.58 & 248 & 2023-01-28 18:00:00 & Winter\\\\\n",
       "\t Suzhou & Clear  & 10000 &  1.51 &  1.51 &  1.51 & 1025 & 50 & 2.81 & 231 & 2023-01-28 21:00:00 & Winter\\\\\n",
       "\t Suzhou & Clear  & 10000 &  2.48 &  2.48 &  2.48 & 1026 & 49 & 2.66 & 220 & 2023-01-29 00:00:00 & Winter\\\\\n",
       "\t Suzhou & Clear  & 10000 &  7.15 &  7.15 &  7.15 & 1026 & 30 & 3.97 & 246 & 2023-01-29 03:00:00 & Winter\\\\\n",
       "\t Suzhou & Clear  & 10000 &  9.32 &  9.32 &  9.32 & 1023 & 25 & 4.31 & 260 & 2023-01-29 06:00:00 & Winter\\\\\n",
       "\t Suzhou & Clear  & 10000 &  8.96 &  8.96 &  8.96 & 1024 & 36 & 4.14 & 283 & 2023-01-29 09:00:00 & Winter\\\\\n",
       "\t Suzhou & Clear  & 10000 &  6.65 &  6.65 &  6.65 & 1026 & 45 & 3.14 & 306 & 2023-01-29 12:00:00 & Winter\\\\\n",
       "\t Suzhou & Clear  & 10000 &  4.73 &  4.73 &  4.73 & 1027 & 45 & 3.34 & 342 & 2023-01-29 15:00:00 & Winter\\\\\n",
       "\t Suzhou & Clear  & 10000 &  2.52 &  2.52 &  2.52 & 1029 & 52 & 2.79 &   9 & 2023-01-29 18:00:00 & Winter\\\\\n",
       "\\end{tabular}\n"
      ],
      "text/markdown": [
       "\n",
       "A data.frame: 160 × 12\n",
       "\n",
       "| city &lt;fct&gt; | weather &lt;fct&gt; | visibility &lt;int&gt; | temp &lt;dbl&gt; | temp_min &lt;dbl&gt; | temp_max &lt;dbl&gt; | pressure &lt;int&gt; | humidity &lt;int&gt; | wind_speed &lt;dbl&gt; | wind_deg &lt;int&gt; | forecast_datetime &lt;fct&gt; | season &lt;fct&gt; |\n",
       "|---|---|---|---|---|---|---|---|---|---|---|---|\n",
       "| Seoul | Clear  | 10000 | -16.38 | -16.38 | -14.47 | 1033 | 32 | 2.31 | 310 | 2023-01-24 21:00:00 | Winter |\n",
       "| Seoul | Clear  | 10000 | -14.73 | -14.73 | -13.42 | 1034 | 28 | 1.71 | 302 | 2023-01-25 00:00:00 | Winter |\n",
       "| Seoul | Clear  | 10000 |  -9.84 |  -9.84 |  -9.84 | 1033 | 17 | 1.66 | 325 | 2023-01-25 03:00:00 | Winter |\n",
       "| Seoul | Clear  | 10000 |  -7.17 |  -7.17 |  -7.17 | 1030 | 17 | 2.09 | 302 | 2023-01-25 06:00:00 | Winter |\n",
       "| Seoul | Clear  | 10000 |  -6.89 |  -6.89 |  -6.89 | 1029 | 26 | 0.96 | 315 | 2023-01-25 09:00:00 | Winter |\n",
       "| Seoul | Clear  | 10000 |  -6.68 |  -6.68 |  -6.68 | 1028 | 30 | 1.33 | 146 | 2023-01-25 12:00:00 | Winter |\n",
       "| Seoul | Clouds | 10000 |  -6.47 |  -6.47 |  -6.47 | 1028 | 39 | 0.83 | 140 | 2023-01-25 15:00:00 | Winter |\n",
       "| Seoul | Clouds | 10000 |  -6.39 |  -6.39 |  -6.39 | 1027 | 43 | 1.43 | 118 | 2023-01-25 18:00:00 | Winter |\n",
       "| Seoul | Clouds | 10000 |  -6.42 |  -6.42 |  -6.42 | 1026 | 52 | 1.57 |  78 | 2023-01-25 21:00:00 | Winter |\n",
       "| Seoul | Clouds | 10000 |  -6.20 |  -6.20 |  -6.20 | 1026 | 73 | 1.55 |  77 | 2023-01-26 00:00:00 | Winter |\n",
       "| Seoul | Snow   |  4642 |  -4.50 |  -4.50 |  -4.50 | 1026 | 82 | 1.46 |  91 | 2023-01-26 03:00:00 | Winter |\n",
       "| Seoul | Clouds | 10000 |  -1.66 |  -1.66 |  -1.66 | 1024 | 67 | 0.06 | 356 | 2023-01-26 06:00:00 | Winter |\n",
       "| Seoul | Clouds | 10000 |  -2.09 |  -2.09 |  -2.09 | 1024 | 69 | 0.25 | 140 | 2023-01-26 09:00:00 | Winter |\n",
       "| Seoul | Clouds | 10000 |  -2.44 |  -2.44 |  -2.44 | 1024 | 72 | 0.20 | 329 | 2023-01-26 12:00:00 | Winter |\n",
       "| Seoul | Clouds | 10000 |  -2.87 |  -2.87 |  -2.87 | 1024 | 78 | 0.95 | 313 | 2023-01-26 15:00:00 | Winter |\n",
       "| Seoul | Clouds | 10000 |  -3.69 |  -3.69 |  -3.69 | 1023 | 84 | 2.56 | 309 | 2023-01-26 18:00:00 | Winter |\n",
       "| Seoul | Clouds | 10000 |  -5.75 |  -5.75 |  -5.75 | 1023 | 57 | 3.67 | 302 | 2023-01-26 21:00:00 | Winter |\n",
       "| Seoul | Clouds | 10000 |  -6.59 |  -6.59 |  -6.59 | 1023 | 47 | 4.44 | 303 | 2023-01-27 00:00:00 | Winter |\n",
       "| Seoul | Clear  | 10000 |  -5.32 |  -5.32 |  -5.32 | 1023 | 29 | 6.64 | 301 | 2023-01-27 03:00:00 | Winter |\n",
       "| Seoul | Clear  | 10000 |  -4.76 |  -4.76 |  -4.76 | 1022 | 28 | 7.75 | 304 | 2023-01-27 06:00:00 | Winter |\n",
       "| Seoul | Clear  | 10000 |  -6.68 |  -6.68 |  -6.68 | 1023 | 37 | 6.97 | 313 | 2023-01-27 09:00:00 | Winter |\n",
       "| Seoul | Clear  | 10000 |  -7.81 |  -7.81 |  -7.81 | 1024 | 39 | 5.97 | 311 | 2023-01-27 12:00:00 | Winter |\n",
       "| Seoul | Clear  | 10000 |  -8.32 |  -8.32 |  -8.32 | 1024 | 38 | 5.77 | 312 | 2023-01-27 15:00:00 | Winter |\n",
       "| Seoul | Clear  | 10000 |  -8.90 |  -8.90 |  -8.90 | 1024 | 38 | 4.92 | 304 | 2023-01-27 18:00:00 | Winter |\n",
       "| Seoul | Clear  | 10000 |  -8.96 |  -8.96 |  -8.96 | 1023 | 34 | 3.51 | 309 | 2023-01-27 21:00:00 | Winter |\n",
       "| Seoul | Clear  | 10000 |  -7.99 |  -7.99 |  -7.99 | 1023 | 31 | 1.60 |   7 | 2023-01-28 00:00:00 | Winter |\n",
       "| Seoul | Clouds | 10000 |  -4.78 |  -4.78 |  -4.78 | 1021 | 25 | 0.97 | 308 | 2023-01-28 03:00:00 | Winter |\n",
       "| Seoul | Clouds | 10000 |  -4.01 |  -4.01 |  -4.01 | 1019 | 51 | 2.40 | 269 | 2023-01-28 06:00:00 | Winter |\n",
       "| Seoul | Clouds | 10000 |  -3.93 |  -3.93 |  -3.93 | 1019 | 59 | 2.22 | 263 | 2023-01-28 09:00:00 | Winter |\n",
       "| Seoul | Clouds | 10000 |  -4.07 |  -4.07 |  -4.07 | 1020 | 65 | 0.90 | 196 | 2023-01-28 12:00:00 | Winter |\n",
       "| ⋮ | ⋮ | ⋮ | ⋮ | ⋮ | ⋮ | ⋮ | ⋮ | ⋮ | ⋮ | ⋮ | ⋮ |\n",
       "| Suzhou | Clear  | 10000 |  5.40 |  5.40 |  5.40 | 1026 | 51 | 3.48 | 307 | 2023-01-26 03:00:00 | Winter |\n",
       "| Suzhou | Clear  | 10000 |  7.36 |  7.36 |  7.36 | 1023 | 36 | 3.99 | 307 | 2023-01-26 06:00:00 | Winter |\n",
       "| Suzhou | Clear  | 10000 |  6.34 |  6.34 |  6.34 | 1025 | 39 | 3.66 | 319 | 2023-01-26 09:00:00 | Winter |\n",
       "| Suzhou | Clear  | 10000 |  3.66 |  3.66 |  3.66 | 1027 | 48 | 3.53 | 332 | 2023-01-26 12:00:00 | Winter |\n",
       "| Suzhou | Clear  | 10000 |  1.90 |  1.90 |  1.90 | 1028 | 61 | 2.92 | 349 | 2023-01-26 15:00:00 | Winter |\n",
       "| Suzhou | Clear  | 10000 |  0.75 |  0.75 |  0.75 | 1029 | 59 | 3.75 | 336 | 2023-01-26 18:00:00 | Winter |\n",
       "| Suzhou | Clear  | 10000 |  0.02 |  0.02 |  0.02 | 1029 | 49 | 4.66 | 329 | 2023-01-26 21:00:00 | Winter |\n",
       "| Suzhou | Clouds | 10000 |  0.44 |  0.44 |  0.44 | 1032 | 46 | 5.47 | 328 | 2023-01-27 00:00:00 | Winter |\n",
       "| Suzhou | Clouds | 10000 |  3.14 |  3.14 |  3.14 | 1033 | 29 | 7.24 | 332 | 2023-01-27 03:00:00 | Winter |\n",
       "| Suzhou | Clouds | 10000 |  4.40 |  4.40 |  4.40 | 1031 | 26 | 7.41 | 329 | 2023-01-27 06:00:00 | Winter |\n",
       "| Suzhou | Clouds | 10000 |  3.24 |  3.24 |  3.24 | 1032 | 32 | 5.89 | 333 | 2023-01-27 09:00:00 | Winter |\n",
       "| Suzhou | Clouds | 10000 |  1.11 |  1.11 |  1.11 | 1033 | 38 | 4.04 | 339 | 2023-01-27 12:00:00 | Winter |\n",
       "| Suzhou | Clear  | 10000 | -0.24 | -0.24 | -0.24 | 1032 | 40 | 2.32 | 352 | 2023-01-27 15:00:00 | Winter |\n",
       "| Suzhou | Clear  | 10000 | -0.57 | -0.57 | -0.57 | 1031 | 39 | 2.29 | 334 | 2023-01-27 18:00:00 | Winter |\n",
       "| Suzhou | Clear  | 10000 | -0.96 | -0.96 | -0.96 | 1030 | 42 | 2.48 | 322 | 2023-01-27 21:00:00 | Winter |\n",
       "| Suzhou | Clear  | 10000 |  0.02 |  0.02 |  0.02 | 1030 | 39 | 3.12 | 305 | 2023-01-28 00:00:00 | Winter |\n",
       "| Suzhou | Clouds | 10000 |  3.02 |  3.02 |  3.02 | 1030 | 25 | 4.89 | 296 | 2023-01-28 03:00:00 | Winter |\n",
       "| Suzhou | Clouds | 10000 |  4.65 |  4.65 |  4.65 | 1026 | 23 | 4.55 | 291 | 2023-01-28 06:00:00 | Winter |\n",
       "| Suzhou | Clouds | 10000 |  3.97 |  3.97 |  3.97 | 1026 | 30 | 3.42 | 285 | 2023-01-28 09:00:00 | Winter |\n",
       "| Suzhou | Clouds | 10000 |  2.84 |  2.84 |  2.84 | 1027 | 39 | 2.72 | 274 | 2023-01-28 12:00:00 | Winter |\n",
       "| Suzhou | Clouds | 10000 |  2.19 |  2.19 |  2.19 | 1026 | 42 | 2.66 | 274 | 2023-01-28 15:00:00 | Winter |\n",
       "| Suzhou | Clouds | 10000 |  1.76 |  1.76 |  1.76 | 1026 | 46 | 2.58 | 248 | 2023-01-28 18:00:00 | Winter |\n",
       "| Suzhou | Clear  | 10000 |  1.51 |  1.51 |  1.51 | 1025 | 50 | 2.81 | 231 | 2023-01-28 21:00:00 | Winter |\n",
       "| Suzhou | Clear  | 10000 |  2.48 |  2.48 |  2.48 | 1026 | 49 | 2.66 | 220 | 2023-01-29 00:00:00 | Winter |\n",
       "| Suzhou | Clear  | 10000 |  7.15 |  7.15 |  7.15 | 1026 | 30 | 3.97 | 246 | 2023-01-29 03:00:00 | Winter |\n",
       "| Suzhou | Clear  | 10000 |  9.32 |  9.32 |  9.32 | 1023 | 25 | 4.31 | 260 | 2023-01-29 06:00:00 | Winter |\n",
       "| Suzhou | Clear  | 10000 |  8.96 |  8.96 |  8.96 | 1024 | 36 | 4.14 | 283 | 2023-01-29 09:00:00 | Winter |\n",
       "| Suzhou | Clear  | 10000 |  6.65 |  6.65 |  6.65 | 1026 | 45 | 3.14 | 306 | 2023-01-29 12:00:00 | Winter |\n",
       "| Suzhou | Clear  | 10000 |  4.73 |  4.73 |  4.73 | 1027 | 45 | 3.34 | 342 | 2023-01-29 15:00:00 | Winter |\n",
       "| Suzhou | Clear  | 10000 |  2.52 |  2.52 |  2.52 | 1029 | 52 | 2.79 |   9 | 2023-01-29 18:00:00 | Winter |\n",
       "\n"
      ],
      "text/plain": [
       "    city   weather visibility temp   temp_min temp_max pressure humidity\n",
       "1   Seoul  Clear   10000      -16.38 -16.38   -14.47   1033     32      \n",
       "2   Seoul  Clear   10000      -14.73 -14.73   -13.42   1034     28      \n",
       "3   Seoul  Clear   10000       -9.84  -9.84    -9.84   1033     17      \n",
       "4   Seoul  Clear   10000       -7.17  -7.17    -7.17   1030     17      \n",
       "5   Seoul  Clear   10000       -6.89  -6.89    -6.89   1029     26      \n",
       "6   Seoul  Clear   10000       -6.68  -6.68    -6.68   1028     30      \n",
       "7   Seoul  Clouds  10000       -6.47  -6.47    -6.47   1028     39      \n",
       "8   Seoul  Clouds  10000       -6.39  -6.39    -6.39   1027     43      \n",
       "9   Seoul  Clouds  10000       -6.42  -6.42    -6.42   1026     52      \n",
       "10  Seoul  Clouds  10000       -6.20  -6.20    -6.20   1026     73      \n",
       "11  Seoul  Snow     4642       -4.50  -4.50    -4.50   1026     82      \n",
       "12  Seoul  Clouds  10000       -1.66  -1.66    -1.66   1024     67      \n",
       "13  Seoul  Clouds  10000       -2.09  -2.09    -2.09   1024     69      \n",
       "14  Seoul  Clouds  10000       -2.44  -2.44    -2.44   1024     72      \n",
       "15  Seoul  Clouds  10000       -2.87  -2.87    -2.87   1024     78      \n",
       "16  Seoul  Clouds  10000       -3.69  -3.69    -3.69   1023     84      \n",
       "17  Seoul  Clouds  10000       -5.75  -5.75    -5.75   1023     57      \n",
       "18  Seoul  Clouds  10000       -6.59  -6.59    -6.59   1023     47      \n",
       "19  Seoul  Clear   10000       -5.32  -5.32    -5.32   1023     29      \n",
       "20  Seoul  Clear   10000       -4.76  -4.76    -4.76   1022     28      \n",
       "21  Seoul  Clear   10000       -6.68  -6.68    -6.68   1023     37      \n",
       "22  Seoul  Clear   10000       -7.81  -7.81    -7.81   1024     39      \n",
       "23  Seoul  Clear   10000       -8.32  -8.32    -8.32   1024     38      \n",
       "24  Seoul  Clear   10000       -8.90  -8.90    -8.90   1024     38      \n",
       "25  Seoul  Clear   10000       -8.96  -8.96    -8.96   1023     34      \n",
       "26  Seoul  Clear   10000       -7.99  -7.99    -7.99   1023     31      \n",
       "27  Seoul  Clouds  10000       -4.78  -4.78    -4.78   1021     25      \n",
       "28  Seoul  Clouds  10000       -4.01  -4.01    -4.01   1019     51      \n",
       "29  Seoul  Clouds  10000       -3.93  -3.93    -3.93   1019     59      \n",
       "30  Seoul  Clouds  10000       -4.07  -4.07    -4.07   1020     65      \n",
       "⋮   ⋮      ⋮       ⋮          ⋮      ⋮        ⋮        ⋮        ⋮       \n",
       "131 Suzhou Clear   10000       5.40   5.40     5.40    1026     51      \n",
       "132 Suzhou Clear   10000       7.36   7.36     7.36    1023     36      \n",
       "133 Suzhou Clear   10000       6.34   6.34     6.34    1025     39      \n",
       "134 Suzhou Clear   10000       3.66   3.66     3.66    1027     48      \n",
       "135 Suzhou Clear   10000       1.90   1.90     1.90    1028     61      \n",
       "136 Suzhou Clear   10000       0.75   0.75     0.75    1029     59      \n",
       "137 Suzhou Clear   10000       0.02   0.02     0.02    1029     49      \n",
       "138 Suzhou Clouds  10000       0.44   0.44     0.44    1032     46      \n",
       "139 Suzhou Clouds  10000       3.14   3.14     3.14    1033     29      \n",
       "140 Suzhou Clouds  10000       4.40   4.40     4.40    1031     26      \n",
       "141 Suzhou Clouds  10000       3.24   3.24     3.24    1032     32      \n",
       "142 Suzhou Clouds  10000       1.11   1.11     1.11    1033     38      \n",
       "143 Suzhou Clear   10000      -0.24  -0.24    -0.24    1032     40      \n",
       "144 Suzhou Clear   10000      -0.57  -0.57    -0.57    1031     39      \n",
       "145 Suzhou Clear   10000      -0.96  -0.96    -0.96    1030     42      \n",
       "146 Suzhou Clear   10000       0.02   0.02     0.02    1030     39      \n",
       "147 Suzhou Clouds  10000       3.02   3.02     3.02    1030     25      \n",
       "148 Suzhou Clouds  10000       4.65   4.65     4.65    1026     23      \n",
       "149 Suzhou Clouds  10000       3.97   3.97     3.97    1026     30      \n",
       "150 Suzhou Clouds  10000       2.84   2.84     2.84    1027     39      \n",
       "151 Suzhou Clouds  10000       2.19   2.19     2.19    1026     42      \n",
       "152 Suzhou Clouds  10000       1.76   1.76     1.76    1026     46      \n",
       "153 Suzhou Clear   10000       1.51   1.51     1.51    1025     50      \n",
       "154 Suzhou Clear   10000       2.48   2.48     2.48    1026     49      \n",
       "155 Suzhou Clear   10000       7.15   7.15     7.15    1026     30      \n",
       "156 Suzhou Clear   10000       9.32   9.32     9.32    1023     25      \n",
       "157 Suzhou Clear   10000       8.96   8.96     8.96    1024     36      \n",
       "158 Suzhou Clear   10000       6.65   6.65     6.65    1026     45      \n",
       "159 Suzhou Clear   10000       4.73   4.73     4.73    1027     45      \n",
       "160 Suzhou Clear   10000       2.52   2.52     2.52    1029     52      \n",
       "    wind_speed wind_deg forecast_datetime   season\n",
       "1   2.31       310      2023-01-24 21:00:00 Winter\n",
       "2   1.71       302      2023-01-25 00:00:00 Winter\n",
       "3   1.66       325      2023-01-25 03:00:00 Winter\n",
       "4   2.09       302      2023-01-25 06:00:00 Winter\n",
       "5   0.96       315      2023-01-25 09:00:00 Winter\n",
       "6   1.33       146      2023-01-25 12:00:00 Winter\n",
       "7   0.83       140      2023-01-25 15:00:00 Winter\n",
       "8   1.43       118      2023-01-25 18:00:00 Winter\n",
       "9   1.57        78      2023-01-25 21:00:00 Winter\n",
       "10  1.55        77      2023-01-26 00:00:00 Winter\n",
       "11  1.46        91      2023-01-26 03:00:00 Winter\n",
       "12  0.06       356      2023-01-26 06:00:00 Winter\n",
       "13  0.25       140      2023-01-26 09:00:00 Winter\n",
       "14  0.20       329      2023-01-26 12:00:00 Winter\n",
       "15  0.95       313      2023-01-26 15:00:00 Winter\n",
       "16  2.56       309      2023-01-26 18:00:00 Winter\n",
       "17  3.67       302      2023-01-26 21:00:00 Winter\n",
       "18  4.44       303      2023-01-27 00:00:00 Winter\n",
       "19  6.64       301      2023-01-27 03:00:00 Winter\n",
       "20  7.75       304      2023-01-27 06:00:00 Winter\n",
       "21  6.97       313      2023-01-27 09:00:00 Winter\n",
       "22  5.97       311      2023-01-27 12:00:00 Winter\n",
       "23  5.77       312      2023-01-27 15:00:00 Winter\n",
       "24  4.92       304      2023-01-27 18:00:00 Winter\n",
       "25  3.51       309      2023-01-27 21:00:00 Winter\n",
       "26  1.60         7      2023-01-28 00:00:00 Winter\n",
       "27  0.97       308      2023-01-28 03:00:00 Winter\n",
       "28  2.40       269      2023-01-28 06:00:00 Winter\n",
       "29  2.22       263      2023-01-28 09:00:00 Winter\n",
       "30  0.90       196      2023-01-28 12:00:00 Winter\n",
       "⋮   ⋮          ⋮        ⋮                   ⋮     \n",
       "131 3.48       307      2023-01-26 03:00:00 Winter\n",
       "132 3.99       307      2023-01-26 06:00:00 Winter\n",
       "133 3.66       319      2023-01-26 09:00:00 Winter\n",
       "134 3.53       332      2023-01-26 12:00:00 Winter\n",
       "135 2.92       349      2023-01-26 15:00:00 Winter\n",
       "136 3.75       336      2023-01-26 18:00:00 Winter\n",
       "137 4.66       329      2023-01-26 21:00:00 Winter\n",
       "138 5.47       328      2023-01-27 00:00:00 Winter\n",
       "139 7.24       332      2023-01-27 03:00:00 Winter\n",
       "140 7.41       329      2023-01-27 06:00:00 Winter\n",
       "141 5.89       333      2023-01-27 09:00:00 Winter\n",
       "142 4.04       339      2023-01-27 12:00:00 Winter\n",
       "143 2.32       352      2023-01-27 15:00:00 Winter\n",
       "144 2.29       334      2023-01-27 18:00:00 Winter\n",
       "145 2.48       322      2023-01-27 21:00:00 Winter\n",
       "146 3.12       305      2023-01-28 00:00:00 Winter\n",
       "147 4.89       296      2023-01-28 03:00:00 Winter\n",
       "148 4.55       291      2023-01-28 06:00:00 Winter\n",
       "149 3.42       285      2023-01-28 09:00:00 Winter\n",
       "150 2.72       274      2023-01-28 12:00:00 Winter\n",
       "151 2.66       274      2023-01-28 15:00:00 Winter\n",
       "152 2.58       248      2023-01-28 18:00:00 Winter\n",
       "153 2.81       231      2023-01-28 21:00:00 Winter\n",
       "154 2.66       220      2023-01-29 00:00:00 Winter\n",
       "155 3.97       246      2023-01-29 03:00:00 Winter\n",
       "156 4.31       260      2023-01-29 06:00:00 Winter\n",
       "157 4.14       283      2023-01-29 09:00:00 Winter\n",
       "158 3.14       306      2023-01-29 12:00:00 Winter\n",
       "159 3.34       342      2023-01-29 15:00:00 Winter\n",
       "160 2.79         9      2023-01-29 18:00:00 Winter"
      ]
     },
     "metadata": {},
     "output_type": "display_data"
    }
   ],
   "source": [
    "cities <- c(\"Seoul\", \"Washington, D.C.\", \"Paris\", \"Suzhou\")\n",
    "cities_weather_df <- get_weather_forecaset_by_cities(cities)\n",
    "cities_weather_df"
   ]
  },
  {
   "cell_type": "code",
   "execution_count": 16,
   "metadata": {
    "vscode": {
     "languageId": "r"
    }
   },
   "outputs": [],
   "source": [
    "# Write cities_weather_df to `cities_weather_forecast.csv`\n",
    "write.csv(cities_weather_df, \"cities_weather_forecast.csv\", row.names=FALSE)"
   ]
  },
  {
   "cell_type": "markdown",
   "metadata": {},
   "source": [
    "For more details about HTTP requests with `httr`, please refer to the previous HTTP request notebook here: \n",
    "\n",
    "[HTTP request in R](https://cf-courses-data.s3.us.cloud-object-storage.appdomain.cloud/IBMDeveloperSkillsNetwork-RP0101EN-Coursera/v2/M4_Working_With_Data/lab2_jupyter_http-request.ipynb)\n"
   ]
  },
  {
   "cell_type": "markdown",
   "metadata": {},
   "source": [
    "## Download datasets as csv files from cloud storage\n",
    "- As per project instructions, download aggregated datasets from cloud storage.\n",
    "- These will subsequently be used for data wrangling."
   ]
  },
  {
   "cell_type": "code",
   "execution_count": 17,
   "metadata": {
    "vscode": {
     "languageId": "r"
    }
   },
   "outputs": [],
   "source": [
    "# Download several datasets\n",
    "\n",
    "# Download general city information such as name and locations\n",
    "url <- \"https://cf-courses-data.s3.us.cloud-object-storage.appdomain.cloud/IBMDeveloperSkillsNetwork-RP0321EN-SkillsNetwork/labs/datasets/raw_worldcities.csv\"\n",
    "# download the file\n",
    "download.file(url, destfile = \"raw_worldcities.csv\")\n",
    "\n",
    "# Download a specific hourly bike sharing demand dataset for Seoul\n",
    "url <- \"https://cf-courses-data.s3.us.cloud-object-storage.appdomain.cloud/IBMDeveloperSkillsNetwork-RP0321EN-SkillsNetwork/labs/datasets/raw_seoul_bike_sharing.csv\"\n",
    "# download the file\n",
    "download.file(url, destfile = \"raw_seoul_bike_sharing.csv\")"
   ]
  }
 ],
 "metadata": {
  "kernelspec": {
   "display_name": "R",
   "language": "R",
   "name": "ir"
  },
  "language_info": {
   "codemirror_mode": "r",
   "file_extension": ".r",
   "mimetype": "text/x-r-source",
   "name": "R",
   "pygments_lexer": "r",
   "version": "4.1.3"
  }
 },
 "nbformat": 4,
 "nbformat_minor": 4
}
