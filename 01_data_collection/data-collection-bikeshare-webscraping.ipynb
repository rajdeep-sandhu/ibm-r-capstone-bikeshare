{
 "cells": [
  {
   "cell_type": "markdown",
   "metadata": {},
   "source": [
    "<h1>Web scrape a Wikipedia Global Bike-Sharing Systems Page</h1>"
   ]
  },
  {
   "cell_type": "markdown",
   "metadata": {},
   "source": [
    "Scrape data from https://en.wikipedia.org/wiki/List_of_bicycle-sharing_systems to obtain background information and context about well-known bike sharing systems worldwide, including their location, launch date, rental bike size, etc.\n",
    "\n",
    "<a href=\"https://cognitiveclass.ai/?utm_medium=Exinfluencer&utm_source=Exinfluencer&utm_content=000026UJ&utm_term=10006555&utm_id=NA-SkillsNetwork-Channel-SkillsNetworkCoursesIBMDeveloperSkillsNetworkRP0321ENSkillsNetwork878-2022-01-01\">\n",
    "    <img src=\"https://cf-courses-data.s3.us.cloud-object-storage.appdomain.cloud/IBMDeveloperSkillsNetwork-RP0321EN-SkillsNetwork/labs/module_1/images/l2-list-bike-sharing-systems.png\" width=\"600\" align=\"center\">\n",
    "</a>\n"
   ]
  },
  {
   "cell_type": "markdown",
   "metadata": {},
   "source": [
    "The `rvest` library: This is used to scrape the bike sharing systems table from the above web page, convert it into a dataframe, and write the dataframe to a .csv file for future data preprocessing and analysis."
   ]
  },
  {
   "cell_type": "code",
   "execution_count": 1,
   "metadata": {
    "vscode": {
     "languageId": "r"
    }
   },
   "outputs": [
    {
     "name": "stderr",
     "output_type": "stream",
     "text": [
      "Loading required package: rvest\n",
      "Loading required package: xml2\n"
     ]
    }
   ],
   "source": [
    "# Check if need to install rvest` library\n",
    "require(\"rvest\")\n",
    "\n",
    "library(rvest)"
   ]
  },
  {
   "cell_type": "markdown",
   "metadata": {},
   "source": [
    "### Extract the bike sharing systems HTML table from the webpage. Convert it into a data frame."
   ]
  },
  {
   "cell_type": "markdown",
   "metadata": {},
   "source": [
    "Get the root HTML node"
   ]
  },
  {
   "cell_type": "code",
   "execution_count": 2,
   "metadata": {
    "vscode": {
     "languageId": "r"
    }
   },
   "outputs": [
    {
     "data": {
      "text/plain": [
       "{html_document}\n",
       "<html class=\"client-nojs\" lang=\"en\" dir=\"ltr\">\n",
       "[1] <head>\\n<meta http-equiv=\"Content-Type\" content=\"text/html; charset=UTF-8 ...\n",
       "[2] <body class=\"skin-vector skin-vector-search-vue vector-toc-pinned mediawi ..."
      ]
     },
     "metadata": {},
     "output_type": "display_data"
    }
   ],
   "source": [
    "url <- \"https://en.wikipedia.org/wiki/List_of_bicycle-sharing_systems\"\n",
    "# Get the root HTML node by calling the `read_html()` method with URL\n",
    "root_node <- read_html(url)\n",
    "root_node"
   ]
  },
  {
   "cell_type": "markdown",
   "metadata": {},
   "source": [
    "The HTML page contains at least contains three child `<table>` nodes under the root HTML node.\n",
    "- Use the `html_nodes(root_node, \"table\")` function to get all the child `<table>` nodes.\n",
    "\n",
    "```HTML\n",
    "<html>\n",
    "  <table>(table1)</table>\n",
    "  <table>(table2)</table>\n",
    "  <table>(table3)</table>\n",
    "  ...\n",
    "</html>\n",
    "```\n"
   ]
  },
  {
   "cell_type": "markdown",
   "metadata": {},
   "source": [
    "- The bike sharing table is the second element `table_nodes[[2]]`.\n",
    "- Convert this HTML table into a dataframe using the `html_table()`. `fill = TRUE` fills any empty table rows/columns."
   ]
  },
  {
   "cell_type": "code",
   "execution_count": 3,
   "metadata": {
    "vscode": {
     "languageId": "r"
    }
   },
   "outputs": [],
   "source": [
    "# Convert the bike-sharing system table into a dataframe\n",
    "table_nodes <- html_nodes(root_node, \"table\")\n",
    "# table_nodes\n",
    "# table_nodes %>% html_table(fill = TRUE)\n",
    "\n",
    "table <- root_node %>% html_table(fill=TRUE)\n",
    "bikeshare_df <- table[[1]]"
   ]
  },
  {
   "cell_type": "markdown",
   "metadata": {},
   "source": [
    "Summarise the dataframe."
   ]
  },
  {
   "cell_type": "code",
   "execution_count": 4,
   "metadata": {
    "vscode": {
     "languageId": "r"
    }
   },
   "outputs": [
    {
     "data": {
      "text/html": [
       "<table>\n",
       "<caption>A data.frame: 6 × 10</caption>\n",
       "<thead>\n",
       "\t<tr><th></th><th scope=col>Country</th><th scope=col>City</th><th scope=col>Name</th><th scope=col>System</th><th scope=col>Operator</th><th scope=col>Launched</th><th scope=col>Discontinued</th><th scope=col>Stations</th><th scope=col>Bicycles</th><th scope=col>Daily ridership</th></tr>\n",
       "\t<tr><th></th><th scope=col>&lt;chr&gt;</th><th scope=col>&lt;chr&gt;</th><th scope=col>&lt;chr&gt;</th><th scope=col>&lt;chr&gt;</th><th scope=col>&lt;chr&gt;</th><th scope=col>&lt;chr&gt;</th><th scope=col>&lt;chr&gt;</th><th scope=col>&lt;chr&gt;</th><th scope=col>&lt;chr&gt;</th><th scope=col>&lt;chr&gt;</th></tr>\n",
       "</thead>\n",
       "<tbody>\n",
       "\t<tr><th scope=row>1</th><td>Albania  </td><td>Tirana[5]            </td><td>Ecovolis            </td><td>                 </td><td>                            </td><td>March 2011      </td><td>                    </td><td>8  </td><td>200 </td><td>     </td></tr>\n",
       "\t<tr><th scope=row>2</th><td>Argentina</td><td>Buenos Aires[6][7]   </td><td>Ecobici             </td><td>Serttel Brasil[8]</td><td>Bike In Baires Consortium[9]</td><td>2010            </td><td>                    </td><td>400</td><td>4000</td><td>21917</td></tr>\n",
       "\t<tr><th scope=row>3</th><td>Argentina</td><td>Mendoza[10]          </td><td>Metrobici           </td><td>                 </td><td>                            </td><td>2014            </td><td>                    </td><td>2  </td><td>40  </td><td>     </td></tr>\n",
       "\t<tr><th scope=row>4</th><td>Argentina</td><td>Rosario              </td><td>Mi Bici Tu Bici[11] </td><td>                 </td><td>                            </td><td>2 December 2015 </td><td>                    </td><td>47 </td><td>480 </td><td>     </td></tr>\n",
       "\t<tr><th scope=row>5</th><td>Argentina</td><td>San Lorenzo, Santa Fe</td><td>Biciudad            </td><td>Biciudad         </td><td>                            </td><td>27 November 2016</td><td>                    </td><td>8  </td><td>80  </td><td>     </td></tr>\n",
       "\t<tr><th scope=row>6</th><td>Australia</td><td><span style=white-space:pre-wrap>Melbourne[12]        </span></td><td>Melbourne Bike Share</td><td><span style=white-space:pre-wrap>PBSC &amp; 8D        </span></td><td><span style=white-space:pre-wrap>Motivate                    </span></td><td><span style=white-space:pre-wrap>June 2010       </span></td><td>30 November 2019[13]</td><td>53 </td><td>676 </td><td><span style=white-space:pre-wrap>     </span></td></tr>\n",
       "</tbody>\n",
       "</table>\n"
      ],
      "text/latex": [
       "A data.frame: 6 × 10\n",
       "\\begin{tabular}{r|llllllllll}\n",
       "  & Country & City & Name & System & Operator & Launched & Discontinued & Stations & Bicycles & Daily ridership\\\\\n",
       "  & <chr> & <chr> & <chr> & <chr> & <chr> & <chr> & <chr> & <chr> & <chr> & <chr>\\\\\n",
       "\\hline\n",
       "\t1 & Albania   & Tirana{[}5{]}             & Ecovolis             &                   &                              & March 2011       &                      & 8   & 200  &      \\\\\n",
       "\t2 & Argentina & Buenos Aires{[}6{]}{[}7{]}    & Ecobici              & Serttel Brasil{[}8{]} & Bike In Baires Consortium{[}9{]} & 2010             &                      & 400 & 4000 & 21917\\\\\n",
       "\t3 & Argentina & Mendoza{[}10{]}           & Metrobici            &                   &                              & 2014             &                      & 2   & 40   &      \\\\\n",
       "\t4 & Argentina & Rosario               & Mi Bici Tu Bici{[}11{]}  &                   &                              & 2 December 2015  &                      & 47  & 480  &      \\\\\n",
       "\t5 & Argentina & San Lorenzo, Santa Fe & Biciudad             & Biciudad          &                              & 27 November 2016 &                      & 8   & 80   &      \\\\\n",
       "\t6 & Australia & Melbourne{[}12{]}         & Melbourne Bike Share & PBSC \\& 8D         & Motivate                     & June 2010        & 30 November 2019{[}13{]} & 53  & 676  &      \\\\\n",
       "\\end{tabular}\n"
      ],
      "text/markdown": [
       "\n",
       "A data.frame: 6 × 10\n",
       "\n",
       "| <!--/--> | Country &lt;chr&gt; | City &lt;chr&gt; | Name &lt;chr&gt; | System &lt;chr&gt; | Operator &lt;chr&gt; | Launched &lt;chr&gt; | Discontinued &lt;chr&gt; | Stations &lt;chr&gt; | Bicycles &lt;chr&gt; | Daily ridership &lt;chr&gt; |\n",
       "|---|---|---|---|---|---|---|---|---|---|---|\n",
       "| 1 | Albania   | Tirana[5]             | Ecovolis             | <!----> | <!----> | March 2011       | <!----> | 8   | 200  | <!----> |\n",
       "| 2 | Argentina | Buenos Aires[6][7]    | Ecobici              | Serttel Brasil[8] | Bike In Baires Consortium[9] | 2010             | <!----> | 400 | 4000 | 21917 |\n",
       "| 3 | Argentina | Mendoza[10]           | Metrobici            | <!----> | <!----> | 2014             | <!----> | 2   | 40   | <!----> |\n",
       "| 4 | Argentina | Rosario               | Mi Bici Tu Bici[11]  | <!----> | <!----> | 2 December 2015  | <!----> | 47  | 480  | <!----> |\n",
       "| 5 | Argentina | San Lorenzo, Santa Fe | Biciudad             | Biciudad          | <!----> | 27 November 2016 | <!----> | 8   | 80   | <!----> |\n",
       "| 6 | Australia | Melbourne[12]         | Melbourne Bike Share | PBSC &amp; 8D         | Motivate                     | June 2010        | 30 November 2019[13] | 53  | 676  | <!----> |\n",
       "\n"
      ],
      "text/plain": [
       "  Country   City                  Name                 System           \n",
       "1 Albania   Tirana[5]             Ecovolis                              \n",
       "2 Argentina Buenos Aires[6][7]    Ecobici              Serttel Brasil[8]\n",
       "3 Argentina Mendoza[10]           Metrobici                             \n",
       "4 Argentina Rosario               Mi Bici Tu Bici[11]                   \n",
       "5 Argentina San Lorenzo, Santa Fe Biciudad             Biciudad         \n",
       "6 Australia Melbourne[12]         Melbourne Bike Share PBSC & 8D        \n",
       "  Operator                     Launched         Discontinued         Stations\n",
       "1                              March 2011                            8       \n",
       "2 Bike In Baires Consortium[9] 2010                                  400     \n",
       "3                              2014                                  2       \n",
       "4                              2 December 2015                       47      \n",
       "5                              27 November 2016                      8       \n",
       "6 Motivate                     June 2010        30 November 2019[13] 53      \n",
       "  Bicycles Daily ridership\n",
       "1 200                     \n",
       "2 4000     21917          \n",
       "3 40                      \n",
       "4 480                     \n",
       "5 80                      \n",
       "6 676                     "
      ]
     },
     "metadata": {},
     "output_type": "display_data"
    },
    {
     "name": "stdout",
     "output_type": "stream",
     "text": [
      "'data.frame':\t539 obs. of  10 variables:\n",
      " $ Country        : chr  \"Albania\" \"Argentina\" \"Argentina\" \"Argentina\" ...\n",
      " $ City           : chr  \"Tirana[5]\" \"Buenos Aires[6][7]\" \"Mendoza[10]\" \"Rosario\" ...\n",
      " $ Name           : chr  \"Ecovolis\" \"Ecobici\" \"Metrobici\" \"Mi Bici Tu Bici[11]\" ...\n",
      " $ System         : chr  \"\" \"Serttel Brasil[8]\" \"\" \"\" ...\n",
      " $ Operator       : chr  \"\" \"Bike In Baires Consortium[9]\" \"\" \"\" ...\n",
      " $ Launched       : chr  \"March 2011\" \"2010\" \"2014\" \"2 December 2015\" ...\n",
      " $ Discontinued   : chr  \"\" \"\" \"\" \"\" ...\n",
      " $ Stations       : chr  \"8\" \"400\" \"2\" \"47\" ...\n",
      " $ Bicycles       : chr  \"200\" \"4000\" \"40\" \"480\" ...\n",
      " $ Daily ridership: chr  \"\" \"21917\" \"\" \"\" ...\n"
     ]
    },
    {
     "data": {
      "text/plain": [
       "   Country              City               Name              System         \n",
       " Length:539         Length:539         Length:539         Length:539        \n",
       " Class :character   Class :character   Class :character   Class :character  \n",
       " Mode  :character   Mode  :character   Mode  :character   Mode  :character  \n",
       "   Operator           Launched         Discontinued         Stations        \n",
       " Length:539         Length:539         Length:539         Length:539        \n",
       " Class :character   Class :character   Class :character   Class :character  \n",
       " Mode  :character   Mode  :character   Mode  :character   Mode  :character  \n",
       "   Bicycles         Daily ridership   \n",
       " Length:539         Length:539        \n",
       " Class :character   Class :character  \n",
       " Mode  :character   Mode  :character  "
      ]
     },
     "metadata": {},
     "output_type": "display_data"
    }
   ],
   "source": [
    "# Summarize the dataframe\n",
    "head(bikeshare_df)\n",
    "str(bikeshare_df)\n",
    "summary(bikeshare_df)"
   ]
  },
  {
   "cell_type": "markdown",
   "metadata": {},
   "source": [
    "Export the data frame to `raw_bike_sharing_systems.csv`."
   ]
  },
  {
   "cell_type": "code",
   "execution_count": 5,
   "metadata": {
    "vscode": {
     "languageId": "r"
    }
   },
   "outputs": [],
   "source": [
    "# Export the dataframe to a csv file\n",
    "write.csv(bikeshare_df,\"raw_bike_sharing_systems.csv\", row.names=FALSE)"
   ]
  }
 ],
 "metadata": {
  "kernelspec": {
   "display_name": "R",
   "language": "R",
   "name": "ir"
  },
  "language_info": {
   "codemirror_mode": "r",
   "file_extension": ".r",
   "mimetype": "text/x-r-source",
   "name": "R",
   "pygments_lexer": "r",
   "version": "3.6.1"
  }
 },
 "nbformat": 4,
 "nbformat_minor": 4
}
