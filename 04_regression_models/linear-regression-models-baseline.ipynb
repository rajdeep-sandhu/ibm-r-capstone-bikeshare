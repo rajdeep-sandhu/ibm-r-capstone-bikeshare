{
 "cells": [
  {
   "cell_type": "markdown",
   "metadata": {},
   "source": [
    "# Predictive Analysis: Model Development"
   ]
  },
  {
   "cell_type": "markdown",
   "metadata": {},
   "source": [
    "## Predict Hourly Rented Bike Count using Basic Linear Regression Models"
   ]
  },
  {
   "cell_type": "markdown",
   "metadata": {},
   "source": [
    "## Import the datatset"
   ]
  },
  {
   "cell_type": "markdown",
   "metadata": {},
   "source": [
    "`tidymodels` is used to build baseline linear regression models to predict the hourly rented bike count using related weather and date information.\n",
    "\n",
    "- Split data into training and testing datasets.\n",
    "- Build a linear regression model using only the weather variables.\n",
    "- Build a linear regression model using both weather and date variables.\n",
    "- Evaluate the models and identify important variables."
   ]
  },
  {
   "cell_type": "markdown",
   "metadata": {},
   "source": [
    "Install and import the necessary libraries.\n"
   ]
  },
  {
   "cell_type": "code",
   "execution_count": 1,
   "metadata": {
    "vscode": {
     "languageId": "r"
    }
   },
   "outputs": [],
   "source": [
    "# install.packages(\"rlang\")\n",
    "# install.packages(\"tidymodels\")"
   ]
  },
  {
   "cell_type": "code",
   "execution_count": 2,
   "metadata": {
    "vscode": {
     "languageId": "r"
    }
   },
   "outputs": [
    {
     "name": "stderr",
     "output_type": "stream",
     "text": [
      "-- \u001b[1mAttaching packages\u001b[22m -------------------------------------- tidymodels 1.0.0 --\n",
      "\n",
      "\u001b[32mv\u001b[39m \u001b[34mbroom       \u001b[39m 1.0.3     \u001b[32mv\u001b[39m \u001b[34mrecipes     \u001b[39m 1.0.5\n",
      "\u001b[32mv\u001b[39m \u001b[34mdials       \u001b[39m 1.1.0     \u001b[32mv\u001b[39m \u001b[34mrsample     \u001b[39m 1.1.1\n",
      "\u001b[32mv\u001b[39m \u001b[34mdplyr       \u001b[39m 1.1.0     \u001b[32mv\u001b[39m \u001b[34mtibble      \u001b[39m 3.1.8\n",
      "\u001b[32mv\u001b[39m \u001b[34mggplot2     \u001b[39m 3.4.0     \u001b[32mv\u001b[39m \u001b[34mtidyr       \u001b[39m 1.3.0\n",
      "\u001b[32mv\u001b[39m \u001b[34minfer       \u001b[39m 1.0.4     \u001b[32mv\u001b[39m \u001b[34mtune        \u001b[39m 1.0.1\n",
      "\u001b[32mv\u001b[39m \u001b[34mmodeldata   \u001b[39m 1.1.0     \u001b[32mv\u001b[39m \u001b[34mworkflows   \u001b[39m 1.1.3\n",
      "\u001b[32mv\u001b[39m \u001b[34mparsnip     \u001b[39m 1.0.4     \u001b[32mv\u001b[39m \u001b[34mworkflowsets\u001b[39m 1.0.0\n",
      "\u001b[32mv\u001b[39m \u001b[34mpurrr       \u001b[39m 1.0.1     \u001b[32mv\u001b[39m \u001b[34myardstick   \u001b[39m 1.1.0\n",
      "\n",
      "-- \u001b[1mConflicts\u001b[22m ----------------------------------------- tidymodels_conflicts() --\n",
      "\u001b[31mx\u001b[39m \u001b[34mpurrr\u001b[39m::\u001b[32mdiscard()\u001b[39m masks \u001b[34mscales\u001b[39m::discard()\n",
      "\u001b[31mx\u001b[39m \u001b[34mdplyr\u001b[39m::\u001b[32mfilter()\u001b[39m  masks \u001b[34mstats\u001b[39m::filter()\n",
      "\u001b[31mx\u001b[39m \u001b[34mdplyr\u001b[39m::\u001b[32mlag()\u001b[39m     masks \u001b[34mstats\u001b[39m::lag()\n",
      "\u001b[31mx\u001b[39m \u001b[34mrecipes\u001b[39m::\u001b[32mstep()\u001b[39m  masks \u001b[34mstats\u001b[39m::step()\n",
      "\u001b[34m*\u001b[39m Use suppressPackageStartupMessages() to eliminate package startup messages\n",
      "\n",
      "-- \u001b[1mAttaching packages\u001b[22m --------------------------------------- tidyverse 1.3.2 --\n",
      "\u001b[32mv\u001b[39m \u001b[34mreadr  \u001b[39m 2.1.3     \u001b[32mv\u001b[39m \u001b[34mforcats\u001b[39m 1.0.0\n",
      "\u001b[32mv\u001b[39m \u001b[34mstringr\u001b[39m 1.5.0     \n",
      "-- \u001b[1mConflicts\u001b[22m ------------------------------------------ tidyverse_conflicts() --\n",
      "\u001b[31mx\u001b[39m \u001b[34mreadr\u001b[39m::\u001b[32mcol_factor()\u001b[39m masks \u001b[34mscales\u001b[39m::col_factor()\n",
      "\u001b[31mx\u001b[39m \u001b[34mpurrr\u001b[39m::\u001b[32mdiscard()\u001b[39m    masks \u001b[34mscales\u001b[39m::discard()\n",
      "\u001b[31mx\u001b[39m \u001b[34mdplyr\u001b[39m::\u001b[32mfilter()\u001b[39m     masks \u001b[34mstats\u001b[39m::filter()\n",
      "\u001b[31mx\u001b[39m \u001b[34mstringr\u001b[39m::\u001b[32mfixed()\u001b[39m    masks \u001b[34mrecipes\u001b[39m::fixed()\n",
      "\u001b[31mx\u001b[39m \u001b[34mdplyr\u001b[39m::\u001b[32mlag()\u001b[39m        masks \u001b[34mstats\u001b[39m::lag()\n",
      "\u001b[31mx\u001b[39m \u001b[34mreadr\u001b[39m::\u001b[32mspec()\u001b[39m       masks \u001b[34myardstick\u001b[39m::spec()\n"
     ]
    }
   ],
   "source": [
    "library(\"tidymodels\")\n",
    "library(\"tidyverse\")\n",
    "library(\"stringr\")"
   ]
  },
  {
   "cell_type": "markdown",
   "metadata": {},
   "source": [
    "The `seoul_bike_sharing_converted_normalized.csv` is the main dataset used. It has the following variables:\n",
    "\n",
    "The response variable:\n",
    "- `RENTED BIKE COUNT`: Count of bikes rented at each hour\n",
    "\n",
    "Weather predictor variables:\n",
    "- `TEMPERATURE`: Temperature in Celsius\n",
    "- `HUMIDITY`: `%`\n",
    "- `WIND_SPEED`: `m/s`\n",
    "- `VISIBILITY`: Multiplied by 10m\n",
    "- `DEW_POINT_TEMPERATURE`: The temperature (Celsius) at which humidity reaches saturation and below which, precipitation is likely.\n",
    "- `SOLAR_RADIATION`: MJ/m2\n",
    "- `RAINFALL`: mm\n",
    "- `SNOWFALL`: cm\n",
    "\n",
    "Date/time predictor variables:\n",
    "- `DATE`: Year-month-day\n",
    "- `HOUR`: Hour of the day\n",
    "- `FUNCTIONAL DAY`: `Yes` (Functional hours), `No` (Non Functional Hours)\n",
    "- `HOLIDAY` - Holiday/No holiday\n",
    "- `SEASONS` - Winter, Spring, Summer, Autumn"
   ]
  },
  {
   "cell_type": "markdown",
   "metadata": {},
   "source": [
    "Download and review the dataset provided at:\\\n",
    "https://cf-courses-data.s3.us.cloud-object-storage.appdomain.cloud/IBMDeveloperSkillsNetwork-RP0321EN-SkillsNetwork/labs/datasets/seoul_bike_sharing_converted_normalized.csv"
   ]
  },
  {
   "cell_type": "code",
   "execution_count": 3,
   "metadata": {
    "vscode": {
     "languageId": "r"
    }
   },
   "outputs": [
    {
     "name": "stderr",
     "output_type": "stream",
     "text": [
      "\u001b[1mRows: \u001b[22m\u001b[34m8465\u001b[39m \u001b[1mColumns: \u001b[22m\u001b[34m41\u001b[39m\n",
      "\u001b[36m--\u001b[39m \u001b[1mColumn specification\u001b[22m \u001b[36m--------------------------------------------------------\u001b[39m\n",
      "\u001b[1mDelimiter:\u001b[22m \",\"\n",
      "\u001b[31mchr\u001b[39m  (2): DATE, FUNCTIONING_DAY\n",
      "\u001b[32mdbl\u001b[39m (39): RENTED_BIKE_COUNT, TEMPERATURE, HUMIDITY, WIND_SPEED, VISIBILITY, ...\n",
      "\n",
      "\u001b[36mi\u001b[39m Use `spec()` to retrieve the full column specification for this data.\n",
      "\u001b[36mi\u001b[39m Specify the column types or set `show_col_types = FALSE` to quiet this message.\n"
     ]
    },
    {
     "data": {
      "text/plain": [
       "cols(\n",
       "  DATE = \u001b[31mcol_character()\u001b[39m,\n",
       "  RENTED_BIKE_COUNT = \u001b[32mcol_double()\u001b[39m,\n",
       "  TEMPERATURE = \u001b[32mcol_double()\u001b[39m,\n",
       "  HUMIDITY = \u001b[32mcol_double()\u001b[39m,\n",
       "  WIND_SPEED = \u001b[32mcol_double()\u001b[39m,\n",
       "  VISIBILITY = \u001b[32mcol_double()\u001b[39m,\n",
       "  DEW_POINT_TEMPERATURE = \u001b[32mcol_double()\u001b[39m,\n",
       "  SOLAR_RADIATION = \u001b[32mcol_double()\u001b[39m,\n",
       "  RAINFALL = \u001b[32mcol_double()\u001b[39m,\n",
       "  SNOWFALL = \u001b[32mcol_double()\u001b[39m,\n",
       "  FUNCTIONING_DAY = \u001b[31mcol_character()\u001b[39m,\n",
       "  `0` = \u001b[32mcol_double()\u001b[39m,\n",
       "  `1` = \u001b[32mcol_double()\u001b[39m,\n",
       "  `10` = \u001b[32mcol_double()\u001b[39m,\n",
       "  `11` = \u001b[32mcol_double()\u001b[39m,\n",
       "  `12` = \u001b[32mcol_double()\u001b[39m,\n",
       "  `13` = \u001b[32mcol_double()\u001b[39m,\n",
       "  `14` = \u001b[32mcol_double()\u001b[39m,\n",
       "  `15` = \u001b[32mcol_double()\u001b[39m,\n",
       "  `16` = \u001b[32mcol_double()\u001b[39m,\n",
       "  `17` = \u001b[32mcol_double()\u001b[39m,\n",
       "  `18` = \u001b[32mcol_double()\u001b[39m,\n",
       "  `19` = \u001b[32mcol_double()\u001b[39m,\n",
       "  `2` = \u001b[32mcol_double()\u001b[39m,\n",
       "  `20` = \u001b[32mcol_double()\u001b[39m,\n",
       "  `21` = \u001b[32mcol_double()\u001b[39m,\n",
       "  `22` = \u001b[32mcol_double()\u001b[39m,\n",
       "  `23` = \u001b[32mcol_double()\u001b[39m,\n",
       "  `3` = \u001b[32mcol_double()\u001b[39m,\n",
       "  `4` = \u001b[32mcol_double()\u001b[39m,\n",
       "  `5` = \u001b[32mcol_double()\u001b[39m,\n",
       "  `6` = \u001b[32mcol_double()\u001b[39m,\n",
       "  `7` = \u001b[32mcol_double()\u001b[39m,\n",
       "  `8` = \u001b[32mcol_double()\u001b[39m,\n",
       "  `9` = \u001b[32mcol_double()\u001b[39m,\n",
       "  AUTUMN = \u001b[32mcol_double()\u001b[39m,\n",
       "  SPRING = \u001b[32mcol_double()\u001b[39m,\n",
       "  SUMMER = \u001b[32mcol_double()\u001b[39m,\n",
       "  WINTER = \u001b[32mcol_double()\u001b[39m,\n",
       "  HOLIDAY = \u001b[32mcol_double()\u001b[39m,\n",
       "  NO_HOLIDAY = \u001b[32mcol_double()\u001b[39m\n",
       ")"
      ]
     },
     "metadata": {},
     "output_type": "display_data"
    }
   ],
   "source": [
    "dataset_url <- \"https://cf-courses-data.s3.us.cloud-object-storage.appdomain.cloud/IBMDeveloperSkillsNetwork-RP0321EN-SkillsNetwork/labs/datasets/seoul_bike_sharing_converted_normalized.csv\"\n",
    "bike_sharing_df <- read_csv(dataset_url)\n",
    "spec(bike_sharing_df)"
   ]
  },
  {
   "cell_type": "markdown",
   "metadata": {},
   "source": [
    "For this model, the `DATE` column is dropped as it essentially acts as an index. (NB There is scope to use the `DATE` column to create a `day_of_week` or `isWeekend` column, which might demonstrate an affect on preferred bike rental times.)\\\n",
    "`FUNCTIONAL DAY` is dropped as it has only one distinct value (`YES`) remaining following missing value removal."
   ]
  },
  {
   "cell_type": "code",
   "execution_count": 4,
   "metadata": {
    "vscode": {
     "languageId": "r"
    }
   },
   "outputs": [],
   "source": [
    "bike_sharing_df <- bike_sharing_df %>% \n",
    "                   select(-DATE, -FUNCTIONING_DAY)"
   ]
  },
  {
   "cell_type": "markdown",
   "metadata": {},
   "source": [
    "## Split training and testing data"
   ]
  },
  {
   "cell_type": "markdown",
   "metadata": {},
   "source": [
    "The dataset is split into training and testing datasets.\n",
    "\n",
    "The training dataset will be used for fitting regression models, while the testing dataset will be used to evaluate the trained models."
   ]
  },
  {
   "cell_type": "markdown",
   "metadata": {},
   "source": [
    "The `initial_split()`, `training()`, and `testing()` functions are used to generate a training dataset consisting of 75% of the original dataset, and a testing dataset using the remaining 25%.\\\n",
    "A defined random number seed is used to generate consistent results during development."
   ]
  },
  {
   "cell_type": "code",
   "execution_count": 5,
   "metadata": {
    "vscode": {
     "languageId": "r"
    }
   },
   "outputs": [],
   "source": [
    "# Use the `initial_split()`, `training()`, and `testing()` functions to split the dataset\n",
    "# With seed 1234\n",
    "set.seed(1234)\n",
    "\n",
    "# prop = 3/4 (training dataset proportion)\n",
    "bike_sharing_split <- initial_split(bike_sharing_df, prop=3/4)\n",
    "\n",
    "# train_data \n",
    "train_data <-training(bike_sharing_split)\n",
    "\n",
    "# test_data\n",
    "test_data <-testing(bike_sharing_split)"
   ]
  },
  {
   "cell_type": "markdown",
   "metadata": {},
   "source": [
    "## Linear regression model using only weather variables"
   ]
  },
  {
   "cell_type": "markdown",
   "metadata": {},
   "source": [
    "Weather conditions likely affect people's bike renting decisions, e.g. a preference for alternative modes of transportation in adverse weather vs a preference for bike rentals on nice and sunny days."
   ]
  },
  {
   "cell_type": "markdown",
   "metadata": {},
   "source": [
    "A linear regression model called `lm_model_weather` is built, using the following weather variables:\n",
    "\n",
    "- `TEMPERATURE`\n",
    "- `HUMIDITY`\n",
    "- `WIND_SPEED`\n",
    "- `VISIBILITY`\n",
    "- `DEW_POINT_TEMPERATURE`\n",
    "- `SOLAR_RADIATION`\n",
    "- `RAINFALL`\n",
    "- `SNOWFALL`"
   ]
  },
  {
   "cell_type": "markdown",
   "metadata": {},
   "source": [
    "Define a linear regression model specification.\n"
   ]
  },
  {
   "cell_type": "code",
   "execution_count": 6,
   "metadata": {
    "vscode": {
     "languageId": "r"
    }
   },
   "outputs": [
    {
     "data": {
      "text/plain": [
       "Linear Regression Model Specification (regression)\n",
       "\n",
       "Computational engine: lm \n"
      ]
     },
     "metadata": {},
     "output_type": "display_data"
    }
   ],
   "source": [
    "# Use `linear_reg()` with engine `lm` and mode `regression`\n",
    "lm_spec <- linear_reg() %>%\n",
    "    set_engine(engine=\"lm\") %>%\n",
    "    set_mode(\"regression\")\n",
    "lm_spec"
   ]
  },
  {
   "cell_type": "markdown",
   "metadata": {},
   "source": [
    "Fit a model with the response variable `RENTED_BIKE_COUNT` and predictor variables `TEMPERATURE + HUMIDITY + WIND_SPEED + VISIBILITY + DEW_POINT_TEMPERATURE + SOLAR_RADIATION + RAINFALL + SNOWFALL`\n"
   ]
  },
  {
   "cell_type": "code",
   "execution_count": 7,
   "metadata": {
    "vscode": {
     "languageId": "r"
    }
   },
   "outputs": [],
   "source": [
    "# Fit the model called `lm_model_weather`\n",
    "# RENTED_BIKE_COUNT ~ TEMPERATURE + HUMIDITY + WIND_SPEED + VISIBILITY + DEW_POINT_TEMPERATURE + SOLAR_RADIATION + RAINFALL + SNOWFALL,  with the training data\n",
    "lm_model_weather<- lm_spec %>%\n",
    "    fit(RENTED_BIKE_COUNT ~ TEMPERATURE + HUMIDITY + WIND_SPEED + VISIBILITY +\n",
    "        DEW_POINT_TEMPERATURE + SOLAR_RADIATION + RAINFALL + SNOWFALL, data=train_data)     "
   ]
  },
  {
   "cell_type": "markdown",
   "metadata": {},
   "source": [
    "Print the fit summary for the `lm_model_weather` model.\n"
   ]
  },
  {
   "cell_type": "code",
   "execution_count": 8,
   "metadata": {
    "vscode": {
     "languageId": "r"
    }
   },
   "outputs": [
    {
     "name": "stdout",
     "output_type": "stream",
     "text": [
      "\n",
      "Call:\n",
      "stats::lm(formula = RENTED_BIKE_COUNT ~ TEMPERATURE + HUMIDITY + \n",
      "    WIND_SPEED + VISIBILITY + DEW_POINT_TEMPERATURE + SOLAR_RADIATION + \n",
      "    RAINFALL + SNOWFALL, data = data)\n",
      "\n",
      "Coefficients:\n",
      "          (Intercept)            TEMPERATURE               HUMIDITY  \n",
      "               156.71                2399.74                -918.38  \n",
      "           WIND_SPEED             VISIBILITY  DEW_POINT_TEMPERATURE  \n",
      "               404.47                  12.56                -316.92  \n",
      "      SOLAR_RADIATION               RAINFALL               SNOWFALL  \n",
      "              -444.85               -1764.01                 317.78  \n",
      "\n"
     ]
    }
   ],
   "source": [
    "print(lm_model_weather$fit)"
   ]
  },
  {
   "cell_type": "markdown",
   "metadata": {},
   "source": [
    "Review the model details such as formula, residuals, and coefficients."
   ]
  },
  {
   "cell_type": "code",
   "execution_count": 9,
   "metadata": {
    "vscode": {
     "languageId": "r"
    }
   },
   "outputs": [
    {
     "data": {
      "text/plain": [
       "\n",
       "Call:\n",
       "stats::lm(formula = RENTED_BIKE_COUNT ~ TEMPERATURE + HUMIDITY + \n",
       "    WIND_SPEED + VISIBILITY + DEW_POINT_TEMPERATURE + SOLAR_RADIATION + \n",
       "    RAINFALL + SNOWFALL, data = data)\n",
       "\n",
       "Residuals:\n",
       "     Min       1Q   Median       3Q      Max \n",
       "-1348.46  -294.03   -57.28   208.59  2329.78 \n",
       "\n",
       "Coefficients:\n",
       "                      Estimate Std. Error t value Pr(>|t|)    \n",
       "(Intercept)             156.71      58.07   2.699  0.00698 ** \n",
       "TEMPERATURE            2399.74     261.66   9.171  < 2e-16 ***\n",
       "HUMIDITY               -918.38     126.79  -7.243  4.9e-13 ***\n",
       "WIND_SPEED              404.47      48.16   8.399  < 2e-16 ***\n",
       "VISIBILITY               12.56      24.86   0.505  0.61351    \n",
       "DEW_POINT_TEMPERATURE  -316.92     278.83  -1.137  0.25575    \n",
       "SOLAR_RADIATION        -444.85      34.69 -12.824  < 2e-16 ***\n",
       "RAINFALL              -1764.01     182.65  -9.658  < 2e-16 ***\n",
       "SNOWFALL                317.78     131.58   2.415  0.01576 *  \n",
       "---\n",
       "Signif. codes:  0 '***' 0.001 '**' 0.01 '*' 0.05 '.' 0.1 ' ' 1\n",
       "\n",
       "Residual standard error: 487.3 on 6339 degrees of freedom\n",
       "Multiple R-squared:  0.4303,\tAdjusted R-squared:  0.4296 \n",
       "F-statistic: 598.5 on 8 and 6339 DF,  p-value: < 2.2e-16\n"
      ]
     },
     "metadata": {},
     "output_type": "display_data"
    }
   ],
   "source": [
    "summary(lm_model_weather$fit)"
   ]
  },
  {
   "cell_type": "markdown",
   "metadata": {},
   "source": [
    "## Linear regression model using all variables"
   ]
  },
  {
   "cell_type": "markdown",
   "metadata": {},
   "source": [
    "In addition to weather, other factors may affect bike rental demand, such as the time of a day, holiday, etc."
   ]
  },
  {
   "cell_type": "markdown",
   "metadata": {},
   "source": [
    "A linear regression model called `lm_model_all` is built using all (weather and fate/time) variables, using `RENTED_BIKE_COUNT ~ .`"
   ]
  },
  {
   "cell_type": "code",
   "execution_count": 10,
   "metadata": {
    "vscode": {
     "languageId": "r"
    }
   },
   "outputs": [],
   "source": [
    "# Fit the model called `lm_model_all`\n",
    "# `RENTED_BIKE_COUNT ~ .` means use all other variables except for the response variable\n",
    "lm_model_all<- lm_spec %>%\n",
    "    fit(RENTED_BIKE_COUNT ~ ., data=train_data)"
   ]
  },
  {
   "cell_type": "markdown",
   "metadata": {},
   "source": [
    "Print the fit summary for `lm_model_all`.\n"
   ]
  },
  {
   "cell_type": "code",
   "execution_count": 11,
   "metadata": {
    "vscode": {
     "languageId": "r"
    }
   },
   "outputs": [
    {
     "name": "stdout",
     "output_type": "stream",
     "text": [
      "\n",
      "Call:\n",
      "stats::lm(formula = RENTED_BIKE_COUNT ~ ., data = data)\n",
      "\n",
      "Coefficients:\n",
      "          (Intercept)            TEMPERATURE               HUMIDITY  \n",
      "               212.20                 782.66                -886.73  \n",
      "           WIND_SPEED             VISIBILITY  DEW_POINT_TEMPERATURE  \n",
      "                31.91                  21.87                 598.39  \n",
      "      SOLAR_RADIATION               RAINFALL               SNOWFALL  \n",
      "               276.88               -2064.64                 260.97  \n",
      "                  `0`                    `1`                   `10`  \n",
      "               -29.30                -116.85                -237.52  \n",
      "                 `11`                   `12`                   `13`  \n",
      "              -247.38                -208.34                -191.35  \n",
      "                 `14`                   `15`                   `16`  \n",
      "              -192.44                -109.73                  23.13  \n",
      "                 `17`                   `18`                   `19`  \n",
      "               305.55                 794.80                 522.99  \n",
      "                  `2`                   `20`                   `21`  \n",
      "              -237.21                 432.00                 446.58  \n",
      "                 `22`                   `23`                    `3`  \n",
      "               342.64                 103.81                -319.87  \n",
      "                  `4`                    `5`                    `6`  \n",
      "              -386.29                -362.72                -204.12  \n",
      "                  `7`                    `8`                    `9`  \n",
      "               106.76                 450.98                     NA  \n",
      "               AUTUMN                 SPRING                 SUMMER  \n",
      "               359.00                 191.37                 198.14  \n",
      "               WINTER                HOLIDAY             NO_HOLIDAY  \n",
      "                   NA                -124.42                     NA  \n",
      "\n"
     ]
    }
   ],
   "source": [
    "print(lm_model_all$fit)"
   ]
  },
  {
   "cell_type": "markdown",
   "metadata": {},
   "source": [
    "Review the model details such as formula, residuals, and coefficients."
   ]
  },
  {
   "cell_type": "code",
   "execution_count": 12,
   "metadata": {
    "vscode": {
     "languageId": "r"
    }
   },
   "outputs": [
    {
     "data": {
      "text/plain": [
       "\n",
       "Call:\n",
       "stats::lm(formula = RENTED_BIKE_COUNT ~ ., data = data)\n",
       "\n",
       "Residuals:\n",
       "     Min       1Q   Median       3Q      Max \n",
       "-1401.45  -218.96    -7.31   199.53  1780.67 \n",
       "\n",
       "Coefficients: (3 not defined because of singularities)\n",
       "                      Estimate Std. Error t value Pr(>|t|)    \n",
       "(Intercept)             212.20      51.04   4.158 3.26e-05 ***\n",
       "TEMPERATURE             782.66     212.13   3.690 0.000227 ***\n",
       "HUMIDITY               -886.73      99.49  -8.913  < 2e-16 ***\n",
       "WIND_SPEED               31.91      40.27   0.792 0.428169    \n",
       "VISIBILITY               21.87      20.26   1.079 0.280439    \n",
       "DEW_POINT_TEMPERATURE   598.39     221.37   2.703 0.006888 ** \n",
       "SOLAR_RADIATION         276.88      41.47   6.677 2.64e-11 ***\n",
       "RAINFALL              -2064.64     143.28 -14.410  < 2e-16 ***\n",
       "SNOWFALL                260.97     103.50   2.522 0.011709 *  \n",
       "`0`                     -29.30      34.26  -0.855 0.392515    \n",
       "`1`                    -116.85      33.72  -3.465 0.000533 ***\n",
       "`10`                   -237.52      32.74  -7.255 4.48e-13 ***\n",
       "`11`                   -247.38      33.85  -7.309 3.02e-13 ***\n",
       "`12`                   -208.34      34.39  -6.059 1.45e-09 ***\n",
       "`13`                   -191.35      35.04  -5.461 4.90e-08 ***\n",
       "`14`                   -192.44      34.44  -5.588 2.39e-08 ***\n",
       "`15`                   -109.73      34.40  -3.190 0.001429 ** \n",
       "`16`                     23.13      34.00   0.680 0.496431    \n",
       "`17`                    305.55      34.15   8.946  < 2e-16 ***\n",
       "`18`                    794.80      34.02  23.364  < 2e-16 ***\n",
       "`19`                    522.99      34.25  15.268  < 2e-16 ***\n",
       "`2`                    -237.21      33.74  -7.030 2.28e-12 ***\n",
       "`20`                    432.00      34.13  12.657  < 2e-16 ***\n",
       "`21`                    446.58      34.09  13.100  < 2e-16 ***\n",
       "`22`                    342.64      33.85  10.123  < 2e-16 ***\n",
       "`23`                    103.81      33.85   3.066 0.002175 ** \n",
       "`3`                    -319.87      34.23  -9.346  < 2e-16 ***\n",
       "`4`                    -386.29      34.00 -11.361  < 2e-16 ***\n",
       "`5`                    -362.72      33.48 -10.834  < 2e-16 ***\n",
       "`6`                    -204.12      33.59  -6.076 1.30e-09 ***\n",
       "`7`                     106.76      33.58   3.179 0.001486 ** \n",
       "`8`                     450.98      32.62  13.823  < 2e-16 ***\n",
       "`9`                         NA         NA      NA       NA    \n",
       "AUTUMN                  359.00      20.29  17.694  < 2e-16 ***\n",
       "SPRING                  191.37      19.36   9.884  < 2e-16 ***\n",
       "SUMMER                  198.14      29.19   6.789 1.24e-11 ***\n",
       "WINTER                      NA         NA      NA       NA    \n",
       "HOLIDAY                -124.42      22.95  -5.422 6.11e-08 ***\n",
       "NO_HOLIDAY                  NA         NA      NA       NA    \n",
       "---\n",
       "Signif. codes:  0 '***' 0.001 '**' 0.01 '*' 0.05 '.' 0.1 ' ' 1\n",
       "\n",
       "Residual standard error: 377.9 on 6312 degrees of freedom\n",
       "Multiple R-squared:  0.6589,\tAdjusted R-squared:  0.657 \n",
       "F-statistic: 348.4 on 35 and 6312 DF,  p-value: < 2.2e-16\n"
      ]
     },
     "metadata": {},
     "output_type": "display_data"
    }
   ],
   "source": [
    "summary(lm_model_all$fit)"
   ]
  },
  {
   "cell_type": "markdown",
   "metadata": {},
   "source": [
    "## Model evaluation and identification of important variables"
   ]
  },
  {
   "cell_type": "markdown",
   "metadata": {},
   "source": [
    "### Model evaluation"
   ]
  },
  {
   "cell_type": "markdown",
   "metadata": {},
   "source": [
    "Compare the performance of `lm_model_weather` and `lm_model_all`."
   ]
  },
  {
   "cell_type": "markdown",
   "metadata": {},
   "source": [
    "The following metrics are used:\n",
    "\n",
    "1.  R^2 / R-squared \n",
    "2.  Root Mean Squared Error (RMSE)"
   ]
  },
  {
   "cell_type": "markdown",
   "metadata": {},
   "source": [
    "**R squared (Coefficient of Determination):** This indicates how close the data is to the fitted regression line. Its value is the percentage of variation of the response variable (y) that is explained by a linear model.\n",
    "\n",
    "The **Mean Squared Error (MSE)** measures the average of the squares of errors, where 'error' is the difference between the actual value ($y$) and the estimated value ($ŷ$).\n",
    "\n",
    "The **Root Mean Squared Error (RMSE)** is the square root of MSE.\n",
    "$$\n",
    "RMSE = \\sqrt{MSE}\n",
    "$$"
   ]
  },
  {
   "cell_type": "markdown",
   "metadata": {},
   "source": [
    "The `lm_model_weather` and `lm_model_all` models are tested against the test dataset `test_data`, and `RENTED_BIKE_COUNT` prediction results are generated."
   ]
  },
  {
   "cell_type": "code",
   "execution_count": 13,
   "metadata": {
    "vscode": {
     "languageId": "r"
    }
   },
   "outputs": [
    {
     "name": "stderr",
     "output_type": "stream",
     "text": [
      "Warning message in predict.lm(object = object$fit, newdata = new_data, type = \"response\"):\n",
      "\"prediction from a rank-deficient fit may be misleading\"\n"
     ]
    }
   ],
   "source": [
    "# Use predict() function to generate test results for `lm_model_weather` and `lm_model_all`\n",
    "# and generate two test results dataframe with a truth column:\n",
    "\n",
    "# test_results_weather for lm_model_weather model\n",
    "test_results_weather <- lm_model_weather %>%\n",
    "    predict(new_data=test_data) %>%\n",
    "    mutate(truth=test_data$RENTED_BIKE_COUNT)\n",
    "\n",
    "# test_results_all for lm_model_all\n",
    "test_results_all <- lm_model_all %>%\n",
    "    predict(new_data=test_data) %>%\n",
    "    mutate(truth=test_data$RENTED_BIKE_COUNT)"
   ]
  },
  {
   "cell_type": "markdown",
   "metadata": {},
   "source": [
    "A `prediction from a rank-deficient fit may be misleading` warning may indicate **collinearity** in the predictor variables, e.g. `RAINFALL` could be predicted by `HUMIDITY`.\n",
    "\n",
    "This will be addressed subsequently using `glmnet` models (**Lasso and Elastic-Net Regularized Generalized Linear Models**) instead of regular `regression` models to futher refine the model performance."
   ]
  },
  {
   "cell_type": "markdown",
   "metadata": {},
   "source": [
    "Calculate R-squared and RMSE for the two test results."
   ]
  },
  {
   "cell_type": "code",
   "execution_count": 14,
   "metadata": {
    "vscode": {
     "languageId": "r"
    }
   },
   "outputs": [],
   "source": [
    "rsq_weather <- rsq(test_results_weather, truth=truth, estimate=.pred)\n",
    "rsq_all <- rsq(test_results_all, truth=truth, estimate=.pred)\n",
    "\n",
    "rmse_weather <- rmse(test_results_weather, truth=truth, estimate=.pred)\n",
    "rmse_all <- rmse(test_results_all, truth=truth, estimate=.pred)"
   ]
  },
  {
   "cell_type": "code",
   "execution_count": 15,
   "metadata": {
    "vscode": {
     "languageId": "r"
    }
   },
   "outputs": [
    {
     "name": "stdout",
     "output_type": "stream",
     "text": [
      "\u001b[90m# A tibble: 1 x 3\u001b[39m\n",
      "  .metric .estimator .estimate\n",
      "  \u001b[3m\u001b[90m<chr>\u001b[39m\u001b[23m   \u001b[3m\u001b[90m<chr>\u001b[39m\u001b[23m          \u001b[3m\u001b[90m<dbl>\u001b[39m\u001b[23m\n",
      "\u001b[90m1\u001b[39m rsq     standard       0.439\n",
      "\u001b[90m# A tibble: 1 x 3\u001b[39m\n",
      "  .metric .estimator .estimate\n",
      "  \u001b[3m\u001b[90m<chr>\u001b[39m\u001b[23m   \u001b[3m\u001b[90m<chr>\u001b[39m\u001b[23m          \u001b[3m\u001b[90m<dbl>\u001b[39m\u001b[23m\n",
      "\u001b[90m1\u001b[39m rmse    standard        475.\n"
     ]
    }
   ],
   "source": [
    "print(rsq_weather)\n",
    "print(rmse_weather)"
   ]
  },
  {
   "cell_type": "code",
   "execution_count": 16,
   "metadata": {
    "vscode": {
     "languageId": "r"
    }
   },
   "outputs": [
    {
     "name": "stdout",
     "output_type": "stream",
     "text": [
      "\u001b[90m# A tibble: 1 x 3\u001b[39m\n",
      "  .metric .estimator .estimate\n",
      "  \u001b[3m\u001b[90m<chr>\u001b[39m\u001b[23m   \u001b[3m\u001b[90m<chr>\u001b[39m\u001b[23m          \u001b[3m\u001b[90m<dbl>\u001b[39m\u001b[23m\n",
      "\u001b[90m1\u001b[39m rsq     standard       0.669\n",
      "\u001b[90m# A tibble: 1 x 3\u001b[39m\n",
      "  .metric .estimator .estimate\n",
      "  \u001b[3m\u001b[90m<chr>\u001b[39m\u001b[23m   \u001b[3m\u001b[90m<chr>\u001b[39m\u001b[23m          \u001b[3m\u001b[90m<dbl>\u001b[39m\u001b[23m\n",
      "\u001b[90m1\u001b[39m rmse    standard        364.\n"
     ]
    }
   ],
   "source": [
    "print(rsq_all)\n",
    "print(rmse_all)"
   ]
  },
  {
   "cell_type": "markdown",
   "metadata": {},
   "source": [
    "The test results from `lm_model_all` are much better. This indicates that using both weather and datetime variables in the model generates better prediction results."
   ]
  },
  {
   "cell_type": "markdown",
   "metadata": {},
   "source": [
    "### Identify important variables"
   ]
  },
  {
   "cell_type": "markdown",
   "metadata": {},
   "source": [
    "`lm_model_all` has many predictor variables. Those with larger coefficients in the model attribute more in the prediction of `RENTED_BIKE_COUNT`.\n",
    "\n",
    "Since all predictor variables are normalized to the same scale, 0 to 1, their coefficients can be compared directly. Building a model from a non-normalised dataset (`seoul_bike_sharing_converted.csv`) would provide very different coefficients."
   ]
  },
  {
   "cell_type": "markdown",
   "metadata": {},
   "source": [
    "Print all coefficients."
   ]
  },
  {
   "cell_type": "code",
   "execution_count": 17,
   "metadata": {
    "vscode": {
     "languageId": "r"
    }
   },
   "outputs": [
    {
     "data": {
      "text/html": [
       "<style>\n",
       ".dl-inline {width: auto; margin:0; padding: 0}\n",
       ".dl-inline>dt, .dl-inline>dd {float: none; width: auto; display: inline-block}\n",
       ".dl-inline>dt::after {content: \":\\0020\"; padding-right: .5ex}\n",
       ".dl-inline>dt:not(:first-of-type) {padding-left: .5ex}\n",
       "</style><dl class=dl-inline><dt>(Intercept)</dt><dd>212.199462743946</dd><dt>TEMPERATURE</dt><dd>782.65787008879</dd><dt>HUMIDITY</dt><dd>-886.730277844364</dd><dt>WIND_SPEED</dt><dd>31.9129927279256</dd><dt>VISIBILITY</dt><dd>21.8716449661159</dd><dt>DEW_POINT_TEMPERATURE</dt><dd>598.387261041512</dd><dt>SOLAR_RADIATION</dt><dd>276.88165236823</dd><dt>RAINFALL</dt><dd>-2064.63754308306</dd><dt>SNOWFALL</dt><dd>260.973302878593</dd><dt>`0`</dt><dd>-29.2983361016153</dd><dt>`1`</dt><dd>-116.846747038286</dd><dt>`10`</dt><dd>-237.51820120511</dd><dt>`11`</dt><dd>-247.383413219391</dd><dt>`12`</dt><dd>-208.341330868409</dd><dt>`13`</dt><dd>-191.35422801414</dd><dt>`14`</dt><dd>-192.44168231203</dd><dt>`15`</dt><dd>-109.733640240688</dd><dt>`16`</dt><dd>23.1281636028418</dd><dt>`17`</dt><dd>305.547618249469</dd><dt>`18`</dt><dd>794.803151569958</dd><dt>`19`</dt><dd>522.98821483446</dd><dt>`2`</dt><dd>-237.211663999794</dd><dt>`20`</dt><dd>431.995237575417</dd><dt>`21`</dt><dd>446.580533576851</dd><dt>`22`</dt><dd>342.640919221768</dd><dt>`23`</dt><dd>103.808410131074</dd><dt>`3`</dt><dd>-319.871517124493</dd><dt>`4`</dt><dd>-386.292807947987</dd><dt>`5`</dt><dd>-362.720001875815</dd><dt>`6`</dt><dd>-204.118732579814</dd><dt>`7`</dt><dd>106.757133838753</dd><dt>`8`</dt><dd>450.977534093271</dd><dt>`9`</dt><dd>&lt;NA&gt;</dd><dt>AUTUMN</dt><dd>358.999443905865</dd><dt>SPRING</dt><dd>191.365267451115</dd><dt>SUMMER</dt><dd>198.142010192368</dd><dt>WINTER</dt><dd>&lt;NA&gt;</dd><dt>HOLIDAY</dt><dd>-124.423741444013</dd><dt>NO_HOLIDAY</dt><dd>&lt;NA&gt;</dd></dl>\n"
      ],
      "text/latex": [
       "\\begin{description*}\n",
       "\\item[(Intercept)] 212.199462743946\n",
       "\\item[TEMPERATURE] 782.65787008879\n",
       "\\item[HUMIDITY] -886.730277844364\n",
       "\\item[WIND\\textbackslash{}\\_SPEED] 31.9129927279256\n",
       "\\item[VISIBILITY] 21.8716449661159\n",
       "\\item[DEW\\textbackslash{}\\_POINT\\textbackslash{}\\_TEMPERATURE] 598.387261041512\n",
       "\\item[SOLAR\\textbackslash{}\\_RADIATION] 276.88165236823\n",
       "\\item[RAINFALL] -2064.63754308306\n",
       "\\item[SNOWFALL] 260.973302878593\n",
       "\\item[`0`] -29.2983361016153\n",
       "\\item[`1`] -116.846747038286\n",
       "\\item[`10`] -237.51820120511\n",
       "\\item[`11`] -247.383413219391\n",
       "\\item[`12`] -208.341330868409\n",
       "\\item[`13`] -191.35422801414\n",
       "\\item[`14`] -192.44168231203\n",
       "\\item[`15`] -109.733640240688\n",
       "\\item[`16`] 23.1281636028418\n",
       "\\item[`17`] 305.547618249469\n",
       "\\item[`18`] 794.803151569958\n",
       "\\item[`19`] 522.98821483446\n",
       "\\item[`2`] -237.211663999794\n",
       "\\item[`20`] 431.995237575417\n",
       "\\item[`21`] 446.580533576851\n",
       "\\item[`22`] 342.640919221768\n",
       "\\item[`23`] 103.808410131074\n",
       "\\item[`3`] -319.871517124493\n",
       "\\item[`4`] -386.292807947987\n",
       "\\item[`5`] -362.720001875815\n",
       "\\item[`6`] -204.118732579814\n",
       "\\item[`7`] 106.757133838753\n",
       "\\item[`8`] 450.977534093271\n",
       "\\item[`9`] <NA>\n",
       "\\item[AUTUMN] 358.999443905865\n",
       "\\item[SPRING] 191.365267451115\n",
       "\\item[SUMMER] 198.142010192368\n",
       "\\item[WINTER] <NA>\n",
       "\\item[HOLIDAY] -124.423741444013\n",
       "\\item[NO\\textbackslash{}\\_HOLIDAY] <NA>\n",
       "\\end{description*}\n"
      ],
      "text/markdown": [
       "(Intercept)\n",
       ":   212.199462743946TEMPERATURE\n",
       ":   782.65787008879HUMIDITY\n",
       ":   -886.730277844364WIND_SPEED\n",
       ":   31.9129927279256VISIBILITY\n",
       ":   21.8716449661159DEW_POINT_TEMPERATURE\n",
       ":   598.387261041512SOLAR_RADIATION\n",
       ":   276.88165236823RAINFALL\n",
       ":   -2064.63754308306SNOWFALL\n",
       ":   260.973302878593`0`\n",
       ":   -29.2983361016153`1`\n",
       ":   -116.846747038286`10`\n",
       ":   -237.51820120511`11`\n",
       ":   -247.383413219391`12`\n",
       ":   -208.341330868409`13`\n",
       ":   -191.35422801414`14`\n",
       ":   -192.44168231203`15`\n",
       ":   -109.733640240688`16`\n",
       ":   23.1281636028418`17`\n",
       ":   305.547618249469`18`\n",
       ":   794.803151569958`19`\n",
       ":   522.98821483446`2`\n",
       ":   -237.211663999794`20`\n",
       ":   431.995237575417`21`\n",
       ":   446.580533576851`22`\n",
       ":   342.640919221768`23`\n",
       ":   103.808410131074`3`\n",
       ":   -319.871517124493`4`\n",
       ":   -386.292807947987`5`\n",
       ":   -362.720001875815`6`\n",
       ":   -204.118732579814`7`\n",
       ":   106.757133838753`8`\n",
       ":   450.977534093271`9`\n",
       ":   &lt;NA&gt;AUTUMN\n",
       ":   358.999443905865SPRING\n",
       ":   191.365267451115SUMMER\n",
       ":   198.142010192368WINTER\n",
       ":   &lt;NA&gt;HOLIDAY\n",
       ":   -124.423741444013NO_HOLIDAY\n",
       ":   &lt;NA&gt;\n",
       "\n"
      ],
      "text/plain": [
       "          (Intercept)           TEMPERATURE              HUMIDITY \n",
       "            212.19946             782.65787            -886.73028 \n",
       "           WIND_SPEED            VISIBILITY DEW_POINT_TEMPERATURE \n",
       "             31.91299              21.87164             598.38726 \n",
       "      SOLAR_RADIATION              RAINFALL              SNOWFALL \n",
       "            276.88165           -2064.63754             260.97330 \n",
       "                  `0`                   `1`                  `10` \n",
       "            -29.29834            -116.84675            -237.51820 \n",
       "                 `11`                  `12`                  `13` \n",
       "           -247.38341            -208.34133            -191.35423 \n",
       "                 `14`                  `15`                  `16` \n",
       "           -192.44168            -109.73364              23.12816 \n",
       "                 `17`                  `18`                  `19` \n",
       "            305.54762             794.80315             522.98821 \n",
       "                  `2`                  `20`                  `21` \n",
       "           -237.21166             431.99524             446.58053 \n",
       "                 `22`                  `23`                   `3` \n",
       "            342.64092             103.80841            -319.87152 \n",
       "                  `4`                   `5`                   `6` \n",
       "           -386.29281            -362.72000            -204.11873 \n",
       "                  `7`                   `8`                   `9` \n",
       "            106.75713             450.97753                    NA \n",
       "               AUTUMN                SPRING                SUMMER \n",
       "            358.99944             191.36527             198.14201 \n",
       "               WINTER               HOLIDAY            NO_HOLIDAY \n",
       "                   NA            -124.42374                    NA "
      ]
     },
     "metadata": {},
     "output_type": "display_data"
    }
   ],
   "source": [
    "lm_model_all$fit$coefficients"
   ]
  },
  {
   "cell_type": "markdown",
   "metadata": {},
   "source": [
    "Sort the coefficient list in descending order and visualise the result using `ggplot` and a barplot."
   ]
  },
  {
   "cell_type": "code",
   "execution_count": 18,
   "metadata": {
    "vscode": {
     "languageId": "r"
    }
   },
   "outputs": [
    {
     "data": {
      "text/html": [
       "<table class=\"dataframe\">\n",
       "<caption>A data.frame: 36 × 1</caption>\n",
       "<thead>\n",
       "\t<tr><th></th><th scope=col>coefficient</th></tr>\n",
       "\t<tr><th></th><th scope=col>&lt;dbl&gt;</th></tr>\n",
       "</thead>\n",
       "<tbody>\n",
       "\t<tr><th scope=row>`18`</th><td> 794.80315</td></tr>\n",
       "\t<tr><th scope=row>TEMPERATURE</th><td> 782.65787</td></tr>\n",
       "\t<tr><th scope=row>DEW_POINT_TEMPERATURE</th><td> 598.38726</td></tr>\n",
       "\t<tr><th scope=row>`19`</th><td> 522.98821</td></tr>\n",
       "\t<tr><th scope=row>`8`</th><td> 450.97753</td></tr>\n",
       "\t<tr><th scope=row>`21`</th><td> 446.58053</td></tr>\n",
       "\t<tr><th scope=row>`20`</th><td> 431.99524</td></tr>\n",
       "\t<tr><th scope=row>AUTUMN</th><td> 358.99944</td></tr>\n",
       "\t<tr><th scope=row>`22`</th><td> 342.64092</td></tr>\n",
       "\t<tr><th scope=row>`17`</th><td> 305.54762</td></tr>\n",
       "\t<tr><th scope=row>SOLAR_RADIATION</th><td> 276.88165</td></tr>\n",
       "\t<tr><th scope=row>SNOWFALL</th><td> 260.97330</td></tr>\n",
       "\t<tr><th scope=row>(Intercept)</th><td> 212.19946</td></tr>\n",
       "\t<tr><th scope=row>SUMMER</th><td> 198.14201</td></tr>\n",
       "\t<tr><th scope=row>SPRING</th><td> 191.36527</td></tr>\n",
       "\t<tr><th scope=row>`7`</th><td> 106.75713</td></tr>\n",
       "\t<tr><th scope=row>`23`</th><td> 103.80841</td></tr>\n",
       "\t<tr><th scope=row>WIND_SPEED</th><td>  31.91299</td></tr>\n",
       "\t<tr><th scope=row>`16`</th><td>  23.12816</td></tr>\n",
       "\t<tr><th scope=row>VISIBILITY</th><td>  21.87164</td></tr>\n",
       "\t<tr><th scope=row>`0`</th><td>  29.29834</td></tr>\n",
       "\t<tr><th scope=row>`15`</th><td> 109.73364</td></tr>\n",
       "\t<tr><th scope=row>`1`</th><td> 116.84675</td></tr>\n",
       "\t<tr><th scope=row>HOLIDAY</th><td> 124.42374</td></tr>\n",
       "\t<tr><th scope=row>`13`</th><td> 191.35423</td></tr>\n",
       "\t<tr><th scope=row>`14`</th><td> 192.44168</td></tr>\n",
       "\t<tr><th scope=row>`6`</th><td> 204.11873</td></tr>\n",
       "\t<tr><th scope=row>`12`</th><td> 208.34133</td></tr>\n",
       "\t<tr><th scope=row>`2`</th><td> 237.21166</td></tr>\n",
       "\t<tr><th scope=row>`10`</th><td> 237.51820</td></tr>\n",
       "\t<tr><th scope=row>`11`</th><td> 247.38341</td></tr>\n",
       "\t<tr><th scope=row>`3`</th><td> 319.87152</td></tr>\n",
       "\t<tr><th scope=row>`5`</th><td> 362.72000</td></tr>\n",
       "\t<tr><th scope=row>`4`</th><td> 386.29281</td></tr>\n",
       "\t<tr><th scope=row>HUMIDITY</th><td> 886.73028</td></tr>\n",
       "\t<tr><th scope=row>RAINFALL</th><td>2064.63754</td></tr>\n",
       "</tbody>\n",
       "</table>\n"
      ],
      "text/latex": [
       "A data.frame: 36 × 1\n",
       "\\begin{tabular}{r|l}\n",
       "  & coefficient\\\\\n",
       "  & <dbl>\\\\\n",
       "\\hline\n",
       "\t`18` &  794.80315\\\\\n",
       "\tTEMPERATURE &  782.65787\\\\\n",
       "\tDEW\\_POINT\\_TEMPERATURE &  598.38726\\\\\n",
       "\t`19` &  522.98821\\\\\n",
       "\t`8` &  450.97753\\\\\n",
       "\t`21` &  446.58053\\\\\n",
       "\t`20` &  431.99524\\\\\n",
       "\tAUTUMN &  358.99944\\\\\n",
       "\t`22` &  342.64092\\\\\n",
       "\t`17` &  305.54762\\\\\n",
       "\tSOLAR\\_RADIATION &  276.88165\\\\\n",
       "\tSNOWFALL &  260.97330\\\\\n",
       "\t(Intercept) &  212.19946\\\\\n",
       "\tSUMMER &  198.14201\\\\\n",
       "\tSPRING &  191.36527\\\\\n",
       "\t`7` &  106.75713\\\\\n",
       "\t`23` &  103.80841\\\\\n",
       "\tWIND\\_SPEED &   31.91299\\\\\n",
       "\t`16` &   23.12816\\\\\n",
       "\tVISIBILITY &   21.87164\\\\\n",
       "\t`0` &   29.29834\\\\\n",
       "\t`15` &  109.73364\\\\\n",
       "\t`1` &  116.84675\\\\\n",
       "\tHOLIDAY &  124.42374\\\\\n",
       "\t`13` &  191.35423\\\\\n",
       "\t`14` &  192.44168\\\\\n",
       "\t`6` &  204.11873\\\\\n",
       "\t`12` &  208.34133\\\\\n",
       "\t`2` &  237.21166\\\\\n",
       "\t`10` &  237.51820\\\\\n",
       "\t`11` &  247.38341\\\\\n",
       "\t`3` &  319.87152\\\\\n",
       "\t`5` &  362.72000\\\\\n",
       "\t`4` &  386.29281\\\\\n",
       "\tHUMIDITY &  886.73028\\\\\n",
       "\tRAINFALL & 2064.63754\\\\\n",
       "\\end{tabular}\n"
      ],
      "text/markdown": [
       "\n",
       "A data.frame: 36 × 1\n",
       "\n",
       "| <!--/--> | coefficient &lt;dbl&gt; |\n",
       "|---|---|\n",
       "| `18` |  794.80315 |\n",
       "| TEMPERATURE |  782.65787 |\n",
       "| DEW_POINT_TEMPERATURE |  598.38726 |\n",
       "| `19` |  522.98821 |\n",
       "| `8` |  450.97753 |\n",
       "| `21` |  446.58053 |\n",
       "| `20` |  431.99524 |\n",
       "| AUTUMN |  358.99944 |\n",
       "| `22` |  342.64092 |\n",
       "| `17` |  305.54762 |\n",
       "| SOLAR_RADIATION |  276.88165 |\n",
       "| SNOWFALL |  260.97330 |\n",
       "| (Intercept) |  212.19946 |\n",
       "| SUMMER |  198.14201 |\n",
       "| SPRING |  191.36527 |\n",
       "| `7` |  106.75713 |\n",
       "| `23` |  103.80841 |\n",
       "| WIND_SPEED |   31.91299 |\n",
       "| `16` |   23.12816 |\n",
       "| VISIBILITY |   21.87164 |\n",
       "| `0` |   29.29834 |\n",
       "| `15` |  109.73364 |\n",
       "| `1` |  116.84675 |\n",
       "| HOLIDAY |  124.42374 |\n",
       "| `13` |  191.35423 |\n",
       "| `14` |  192.44168 |\n",
       "| `6` |  204.11873 |\n",
       "| `12` |  208.34133 |\n",
       "| `2` |  237.21166 |\n",
       "| `10` |  237.51820 |\n",
       "| `11` |  247.38341 |\n",
       "| `3` |  319.87152 |\n",
       "| `5` |  362.72000 |\n",
       "| `4` |  386.29281 |\n",
       "| HUMIDITY |  886.73028 |\n",
       "| RAINFALL | 2064.63754 |\n",
       "\n"
      ],
      "text/plain": [
       "                      coefficient\n",
       "`18`                   794.80315 \n",
       "TEMPERATURE            782.65787 \n",
       "DEW_POINT_TEMPERATURE  598.38726 \n",
       "`19`                   522.98821 \n",
       "`8`                    450.97753 \n",
       "`21`                   446.58053 \n",
       "`20`                   431.99524 \n",
       "AUTUMN                 358.99944 \n",
       "`22`                   342.64092 \n",
       "`17`                   305.54762 \n",
       "SOLAR_RADIATION        276.88165 \n",
       "SNOWFALL               260.97330 \n",
       "(Intercept)            212.19946 \n",
       "SUMMER                 198.14201 \n",
       "SPRING                 191.36527 \n",
       "`7`                    106.75713 \n",
       "`23`                   103.80841 \n",
       "WIND_SPEED              31.91299 \n",
       "`16`                    23.12816 \n",
       "VISIBILITY              21.87164 \n",
       "`0`                     29.29834 \n",
       "`15`                   109.73364 \n",
       "`1`                    116.84675 \n",
       "HOLIDAY                124.42374 \n",
       "`13`                   191.35423 \n",
       "`14`                   192.44168 \n",
       "`6`                    204.11873 \n",
       "`12`                   208.34133 \n",
       "`2`                    237.21166 \n",
       "`10`                   237.51820 \n",
       "`11`                   247.38341 \n",
       "`3`                    319.87152 \n",
       "`5`                    362.72000 \n",
       "`4`                    386.29281 \n",
       "HUMIDITY               886.73028 \n",
       "RAINFALL              2064.63754 "
      ]
     },
     "metadata": {},
     "output_type": "display_data"
    },
    {
     "data": {
      "text/html": [
       "<style>\n",
       ".list-inline {list-style: none; margin:0; padding: 0}\n",
       ".list-inline>li {display: inline-block}\n",
       ".list-inline>li:not(:last-child)::after {content: \"\\00b7\"; padding: 0 .5ex}\n",
       "</style>\n",
       "<ol class=list-inline><li>`18`</li><li>TEMPERATURE</li><li>DEW_POINT_TEMPERATURE</li><li>`19`</li><li>`8`</li><li>`21`</li><li>`20`</li><li>AUTUMN</li><li>`22`</li><li>`17`</li><li>SOLAR_RADIATION</li><li>SNOWFALL</li><li>(Intercept)</li><li>SUMMER</li><li>SPRING</li><li>`7`</li><li>`23`</li><li>WIND_SPEED</li><li>`16`</li><li>VISIBILITY</li><li>`0`</li><li>`15`</li><li>`1`</li><li>HOLIDAY</li><li>`13`</li><li>`14`</li><li>`6`</li><li>`12`</li><li>`2`</li><li>`10`</li><li>`11`</li><li>`3`</li><li>`5`</li><li>`4`</li><li>HUMIDITY</li><li>RAINFALL</li></ol>\n",
       "\n",
       "<details>\n",
       "\t<summary style=display:list-item;cursor:pointer>\n",
       "\t\t<strong>Levels</strong>:\n",
       "\t</summary>\n",
       "\t<style>\n",
       "\t.list-inline {list-style: none; margin:0; padding: 0}\n",
       "\t.list-inline>li {display: inline-block}\n",
       "\t.list-inline>li:not(:last-child)::after {content: \"\\00b7\"; padding: 0 .5ex}\n",
       "\t</style>\n",
       "\t<ol class=list-inline><li>'(Intercept)'</li><li>'`0`'</li><li>'`1`'</li><li>'`10`'</li><li>'`11`'</li><li>'`12`'</li><li>'`13`'</li><li>'`14`'</li><li>'`15`'</li><li>'`16`'</li><li>'`17`'</li><li>'`18`'</li><li>'`19`'</li><li>'`2`'</li><li>'`20`'</li><li>'`21`'</li><li>'`22`'</li><li>'`23`'</li><li>'`3`'</li><li>'`4`'</li><li>'`5`'</li><li>'`6`'</li><li>'`7`'</li><li>'`8`'</li><li>'AUTUMN'</li><li>'DEW_POINT_TEMPERATURE'</li><li>'HOLIDAY'</li><li>'HUMIDITY'</li><li>'RAINFALL'</li><li>'SNOWFALL'</li><li>'SOLAR_RADIATION'</li><li>'SPRING'</li><li>'SUMMER'</li><li>'TEMPERATURE'</li><li>'VISIBILITY'</li><li>'WIND_SPEED'</li></ol>\n",
       "</details>"
      ],
      "text/latex": [
       "\\begin{enumerate*}\n",
       "\\item `18`\n",
       "\\item TEMPERATURE\n",
       "\\item DEW\\_POINT\\_TEMPERATURE\n",
       "\\item `19`\n",
       "\\item `8`\n",
       "\\item `21`\n",
       "\\item `20`\n",
       "\\item AUTUMN\n",
       "\\item `22`\n",
       "\\item `17`\n",
       "\\item SOLAR\\_RADIATION\n",
       "\\item SNOWFALL\n",
       "\\item (Intercept)\n",
       "\\item SUMMER\n",
       "\\item SPRING\n",
       "\\item `7`\n",
       "\\item `23`\n",
       "\\item WIND\\_SPEED\n",
       "\\item `16`\n",
       "\\item VISIBILITY\n",
       "\\item `0`\n",
       "\\item `15`\n",
       "\\item `1`\n",
       "\\item HOLIDAY\n",
       "\\item `13`\n",
       "\\item `14`\n",
       "\\item `6`\n",
       "\\item `12`\n",
       "\\item `2`\n",
       "\\item `10`\n",
       "\\item `11`\n",
       "\\item `3`\n",
       "\\item `5`\n",
       "\\item `4`\n",
       "\\item HUMIDITY\n",
       "\\item RAINFALL\n",
       "\\end{enumerate*}\n",
       "\n",
       "\\emph{Levels}: \\begin{enumerate*}\n",
       "\\item '(Intercept)'\n",
       "\\item '`0`'\n",
       "\\item '`1`'\n",
       "\\item '`10`'\n",
       "\\item '`11`'\n",
       "\\item '`12`'\n",
       "\\item '`13`'\n",
       "\\item '`14`'\n",
       "\\item '`15`'\n",
       "\\item '`16`'\n",
       "\\item '`17`'\n",
       "\\item '`18`'\n",
       "\\item '`19`'\n",
       "\\item '`2`'\n",
       "\\item '`20`'\n",
       "\\item '`21`'\n",
       "\\item '`22`'\n",
       "\\item '`23`'\n",
       "\\item '`3`'\n",
       "\\item '`4`'\n",
       "\\item '`5`'\n",
       "\\item '`6`'\n",
       "\\item '`7`'\n",
       "\\item '`8`'\n",
       "\\item 'AUTUMN'\n",
       "\\item 'DEW\\_POINT\\_TEMPERATURE'\n",
       "\\item 'HOLIDAY'\n",
       "\\item 'HUMIDITY'\n",
       "\\item 'RAINFALL'\n",
       "\\item 'SNOWFALL'\n",
       "\\item 'SOLAR\\_RADIATION'\n",
       "\\item 'SPRING'\n",
       "\\item 'SUMMER'\n",
       "\\item 'TEMPERATURE'\n",
       "\\item 'VISIBILITY'\n",
       "\\item 'WIND\\_SPEED'\n",
       "\\end{enumerate*}\n"
      ],
      "text/markdown": [
       "1. `18`\n",
       "2. TEMPERATURE\n",
       "3. DEW_POINT_TEMPERATURE\n",
       "4. `19`\n",
       "5. `8`\n",
       "6. `21`\n",
       "7. `20`\n",
       "8. AUTUMN\n",
       "9. `22`\n",
       "10. `17`\n",
       "11. SOLAR_RADIATION\n",
       "12. SNOWFALL\n",
       "13. (Intercept)\n",
       "14. SUMMER\n",
       "15. SPRING\n",
       "16. `7`\n",
       "17. `23`\n",
       "18. WIND_SPEED\n",
       "19. `16`\n",
       "20. VISIBILITY\n",
       "21. `0`\n",
       "22. `15`\n",
       "23. `1`\n",
       "24. HOLIDAY\n",
       "25. `13`\n",
       "26. `14`\n",
       "27. `6`\n",
       "28. `12`\n",
       "29. `2`\n",
       "30. `10`\n",
       "31. `11`\n",
       "32. `3`\n",
       "33. `5`\n",
       "34. `4`\n",
       "35. HUMIDITY\n",
       "36. RAINFALL\n",
       "\n",
       "\n",
       "\n",
       "**Levels**: 1. '(Intercept)'\n",
       "2. '`0`'\n",
       "3. '`1`'\n",
       "4. '`10`'\n",
       "5. '`11`'\n",
       "6. '`12`'\n",
       "7. '`13`'\n",
       "8. '`14`'\n",
       "9. '`15`'\n",
       "10. '`16`'\n",
       "11. '`17`'\n",
       "12. '`18`'\n",
       "13. '`19`'\n",
       "14. '`2`'\n",
       "15. '`20`'\n",
       "16. '`21`'\n",
       "17. '`22`'\n",
       "18. '`23`'\n",
       "19. '`3`'\n",
       "20. '`4`'\n",
       "21. '`5`'\n",
       "22. '`6`'\n",
       "23. '`7`'\n",
       "24. '`8`'\n",
       "25. 'AUTUMN'\n",
       "26. 'DEW_POINT_TEMPERATURE'\n",
       "27. 'HOLIDAY'\n",
       "28. 'HUMIDITY'\n",
       "29. 'RAINFALL'\n",
       "30. 'SNOWFALL'\n",
       "31. 'SOLAR_RADIATION'\n",
       "32. 'SPRING'\n",
       "33. 'SUMMER'\n",
       "34. 'TEMPERATURE'\n",
       "35. 'VISIBILITY'\n",
       "36. 'WIND_SPEED'\n",
       "\n",
       "\n"
      ],
      "text/plain": [
       " [1] `18`                  TEMPERATURE           DEW_POINT_TEMPERATURE\n",
       " [4] `19`                  `8`                   `21`                 \n",
       " [7] `20`                  AUTUMN                `22`                 \n",
       "[10] `17`                  SOLAR_RADIATION       SNOWFALL             \n",
       "[13] (Intercept)           SUMMER                SPRING               \n",
       "[16] `7`                   `23`                  WIND_SPEED           \n",
       "[19] `16`                  VISIBILITY            `0`                  \n",
       "[22] `15`                  `1`                   HOLIDAY              \n",
       "[25] `13`                  `14`                  `6`                  \n",
       "[28] `12`                  `2`                   `10`                 \n",
       "[31] `11`                  `3`                   `5`                  \n",
       "[34] `4`                   HUMIDITY              RAINFALL             \n",
       "36 Levels: (Intercept) `0` `1` `10` `11` `12` `13` `14` `15` `16` `17` ... WIND_SPEED"
      ]
     },
     "metadata": {},
     "output_type": "display_data"
    }
   ],
   "source": [
    "# Sort coefficient list\n",
    "coefficient<-sort(lm_model_all$fit$coefficients, decreasing=TRUE)\n",
    "coefficients_df <- data.frame(coefficient)\n",
    "coefficients_df$coefficient <- abs(coefficients_df$coefficient)\n",
    "\n",
    "variables <- factor(row.names(coefficients_df))\n",
    "coefficients_df\n",
    "variables"
   ]
  },
  {
   "cell_type": "code",
   "execution_count": 19,
   "metadata": {
    "tags": [],
    "vscode": {
     "languageId": "r"
    }
   },
   "outputs": [
    {
     "data": {
      "image/png": "[encoded data removed]",
      "text/plain": [
       "plot without title"
      ]
     },
     "metadata": {
      "image/png": {
       "height": 420,
       "width": 420
      }
     },
     "output_type": "display_data"
    }
   ],
   "source": [
    "# Visualize the list using ggplot and geom_bar\n",
    "ggplot(coefficients_df, aes(x = coefficient, y = reorder(variables, coefficient))) +\n",
    "    geom_col()"
   ]
  },
  {
   "cell_type": "code",
   "execution_count": 20,
   "metadata": {
    "vscode": {
     "languageId": "r"
    }
   },
   "outputs": [
    {
     "data": {
      "image/png": "[encoded data removed]",
      "text/plain": [
       "plot without title"
      ]
     },
     "metadata": {
      "image/png": {
       "height": 420,
       "width": 420
      }
     },
     "output_type": "display_data"
    }
   ],
   "source": [
    "ggplot(coefficients_df, aes(x = coefficient, y = reorder(variables, coefficient))) +\n",
    "    geom_bar(stat=\"identity\")"
   ]
  },
  {
   "cell_type": "markdown",
   "metadata": {},
   "source": [
    "The absolute value of the coefficients is used to easily identify important variables (those with large magnitudes regardless of their sign). The top-ranked variables by coefficient will be used subsequently for model refinement."
   ]
  },
  {
   "cell_type": "markdown",
   "metadata": {},
   "source": [
    "`RAINFALL`, `HUMIDITY` and `TEMPERATURE` have the highest coefficients."
   ]
  },
  {
   "cell_type": "markdown",
   "metadata": {},
   "source": [
    "### Alternative ranking without absolute values"
   ]
  },
  {
   "cell_type": "markdown",
   "metadata": {},
   "source": [
    "When interpreting the model, it is better to separate the positive and negative coefficients."
   ]
  },
  {
   "cell_type": "code",
   "execution_count": 21,
   "metadata": {
    "vscode": {
     "languageId": "r"
    }
   },
   "outputs": [
    {
     "data": {
      "text/html": [
       "<table class=\"dataframe\">\n",
       "<caption>A data.frame: 36 × 1</caption>\n",
       "<thead>\n",
       "\t<tr><th></th><th scope=col>coefficient</th></tr>\n",
       "\t<tr><th></th><th scope=col>&lt;dbl&gt;</th></tr>\n",
       "</thead>\n",
       "<tbody>\n",
       "\t<tr><th scope=row>`18`</th><td>  794.80315</td></tr>\n",
       "\t<tr><th scope=row>TEMPERATURE</th><td>  782.65787</td></tr>\n",
       "\t<tr><th scope=row>DEW_POINT_TEMPERATURE</th><td>  598.38726</td></tr>\n",
       "\t<tr><th scope=row>`19`</th><td>  522.98821</td></tr>\n",
       "\t<tr><th scope=row>`8`</th><td>  450.97753</td></tr>\n",
       "\t<tr><th scope=row>`21`</th><td>  446.58053</td></tr>\n",
       "\t<tr><th scope=row>`20`</th><td>  431.99524</td></tr>\n",
       "\t<tr><th scope=row>AUTUMN</th><td>  358.99944</td></tr>\n",
       "\t<tr><th scope=row>`22`</th><td>  342.64092</td></tr>\n",
       "\t<tr><th scope=row>`17`</th><td>  305.54762</td></tr>\n",
       "\t<tr><th scope=row>SOLAR_RADIATION</th><td>  276.88165</td></tr>\n",
       "\t<tr><th scope=row>SNOWFALL</th><td>  260.97330</td></tr>\n",
       "\t<tr><th scope=row>(Intercept)</th><td>  212.19946</td></tr>\n",
       "\t<tr><th scope=row>SUMMER</th><td>  198.14201</td></tr>\n",
       "\t<tr><th scope=row>SPRING</th><td>  191.36527</td></tr>\n",
       "\t<tr><th scope=row>`7`</th><td>  106.75713</td></tr>\n",
       "\t<tr><th scope=row>`23`</th><td>  103.80841</td></tr>\n",
       "\t<tr><th scope=row>WIND_SPEED</th><td>   31.91299</td></tr>\n",
       "\t<tr><th scope=row>`16`</th><td>   23.12816</td></tr>\n",
       "\t<tr><th scope=row>VISIBILITY</th><td>   21.87164</td></tr>\n",
       "\t<tr><th scope=row>`0`</th><td>  -29.29834</td></tr>\n",
       "\t<tr><th scope=row>`15`</th><td> -109.73364</td></tr>\n",
       "\t<tr><th scope=row>`1`</th><td> -116.84675</td></tr>\n",
       "\t<tr><th scope=row>HOLIDAY</th><td> -124.42374</td></tr>\n",
       "\t<tr><th scope=row>`13`</th><td> -191.35423</td></tr>\n",
       "\t<tr><th scope=row>`14`</th><td> -192.44168</td></tr>\n",
       "\t<tr><th scope=row>`6`</th><td> -204.11873</td></tr>\n",
       "\t<tr><th scope=row>`12`</th><td> -208.34133</td></tr>\n",
       "\t<tr><th scope=row>`2`</th><td> -237.21166</td></tr>\n",
       "\t<tr><th scope=row>`10`</th><td> -237.51820</td></tr>\n",
       "\t<tr><th scope=row>`11`</th><td> -247.38341</td></tr>\n",
       "\t<tr><th scope=row>`3`</th><td> -319.87152</td></tr>\n",
       "\t<tr><th scope=row>`5`</th><td> -362.72000</td></tr>\n",
       "\t<tr><th scope=row>`4`</th><td> -386.29281</td></tr>\n",
       "\t<tr><th scope=row>HUMIDITY</th><td> -886.73028</td></tr>\n",
       "\t<tr><th scope=row>RAINFALL</th><td>-2064.63754</td></tr>\n",
       "</tbody>\n",
       "</table>\n"
      ],
      "text/latex": [
       "A data.frame: 36 × 1\n",
       "\\begin{tabular}{r|l}\n",
       "  & coefficient\\\\\n",
       "  & <dbl>\\\\\n",
       "\\hline\n",
       "\t`18` &   794.80315\\\\\n",
       "\tTEMPERATURE &   782.65787\\\\\n",
       "\tDEW\\_POINT\\_TEMPERATURE &   598.38726\\\\\n",
       "\t`19` &   522.98821\\\\\n",
       "\t`8` &   450.97753\\\\\n",
       "\t`21` &   446.58053\\\\\n",
       "\t`20` &   431.99524\\\\\n",
       "\tAUTUMN &   358.99944\\\\\n",
       "\t`22` &   342.64092\\\\\n",
       "\t`17` &   305.54762\\\\\n",
       "\tSOLAR\\_RADIATION &   276.88165\\\\\n",
       "\tSNOWFALL &   260.97330\\\\\n",
       "\t(Intercept) &   212.19946\\\\\n",
       "\tSUMMER &   198.14201\\\\\n",
       "\tSPRING &   191.36527\\\\\n",
       "\t`7` &   106.75713\\\\\n",
       "\t`23` &   103.80841\\\\\n",
       "\tWIND\\_SPEED &    31.91299\\\\\n",
       "\t`16` &    23.12816\\\\\n",
       "\tVISIBILITY &    21.87164\\\\\n",
       "\t`0` &   -29.29834\\\\\n",
       "\t`15` &  -109.73364\\\\\n",
       "\t`1` &  -116.84675\\\\\n",
       "\tHOLIDAY &  -124.42374\\\\\n",
       "\t`13` &  -191.35423\\\\\n",
       "\t`14` &  -192.44168\\\\\n",
       "\t`6` &  -204.11873\\\\\n",
       "\t`12` &  -208.34133\\\\\n",
       "\t`2` &  -237.21166\\\\\n",
       "\t`10` &  -237.51820\\\\\n",
       "\t`11` &  -247.38341\\\\\n",
       "\t`3` &  -319.87152\\\\\n",
       "\t`5` &  -362.72000\\\\\n",
       "\t`4` &  -386.29281\\\\\n",
       "\tHUMIDITY &  -886.73028\\\\\n",
       "\tRAINFALL & -2064.63754\\\\\n",
       "\\end{tabular}\n"
      ],
      "text/markdown": [
       "\n",
       "A data.frame: 36 × 1\n",
       "\n",
       "| <!--/--> | coefficient &lt;dbl&gt; |\n",
       "|---|---|\n",
       "| `18` |   794.80315 |\n",
       "| TEMPERATURE |   782.65787 |\n",
       "| DEW_POINT_TEMPERATURE |   598.38726 |\n",
       "| `19` |   522.98821 |\n",
       "| `8` |   450.97753 |\n",
       "| `21` |   446.58053 |\n",
       "| `20` |   431.99524 |\n",
       "| AUTUMN |   358.99944 |\n",
       "| `22` |   342.64092 |\n",
       "| `17` |   305.54762 |\n",
       "| SOLAR_RADIATION |   276.88165 |\n",
       "| SNOWFALL |   260.97330 |\n",
       "| (Intercept) |   212.19946 |\n",
       "| SUMMER |   198.14201 |\n",
       "| SPRING |   191.36527 |\n",
       "| `7` |   106.75713 |\n",
       "| `23` |   103.80841 |\n",
       "| WIND_SPEED |    31.91299 |\n",
       "| `16` |    23.12816 |\n",
       "| VISIBILITY |    21.87164 |\n",
       "| `0` |   -29.29834 |\n",
       "| `15` |  -109.73364 |\n",
       "| `1` |  -116.84675 |\n",
       "| HOLIDAY |  -124.42374 |\n",
       "| `13` |  -191.35423 |\n",
       "| `14` |  -192.44168 |\n",
       "| `6` |  -204.11873 |\n",
       "| `12` |  -208.34133 |\n",
       "| `2` |  -237.21166 |\n",
       "| `10` |  -237.51820 |\n",
       "| `11` |  -247.38341 |\n",
       "| `3` |  -319.87152 |\n",
       "| `5` |  -362.72000 |\n",
       "| `4` |  -386.29281 |\n",
       "| HUMIDITY |  -886.73028 |\n",
       "| RAINFALL | -2064.63754 |\n",
       "\n"
      ],
      "text/plain": [
       "                      coefficient\n",
       "`18`                    794.80315\n",
       "TEMPERATURE             782.65787\n",
       "DEW_POINT_TEMPERATURE   598.38726\n",
       "`19`                    522.98821\n",
       "`8`                     450.97753\n",
       "`21`                    446.58053\n",
       "`20`                    431.99524\n",
       "AUTUMN                  358.99944\n",
       "`22`                    342.64092\n",
       "`17`                    305.54762\n",
       "SOLAR_RADIATION         276.88165\n",
       "SNOWFALL                260.97330\n",
       "(Intercept)             212.19946\n",
       "SUMMER                  198.14201\n",
       "SPRING                  191.36527\n",
       "`7`                     106.75713\n",
       "`23`                    103.80841\n",
       "WIND_SPEED               31.91299\n",
       "`16`                     23.12816\n",
       "VISIBILITY               21.87164\n",
       "`0`                     -29.29834\n",
       "`15`                   -109.73364\n",
       "`1`                    -116.84675\n",
       "HOLIDAY                -124.42374\n",
       "`13`                   -191.35423\n",
       "`14`                   -192.44168\n",
       "`6`                    -204.11873\n",
       "`12`                   -208.34133\n",
       "`2`                    -237.21166\n",
       "`10`                   -237.51820\n",
       "`11`                   -247.38341\n",
       "`3`                    -319.87152\n",
       "`5`                    -362.72000\n",
       "`4`                    -386.29281\n",
       "HUMIDITY               -886.73028\n",
       "RAINFALL              -2064.63754"
      ]
     },
     "metadata": {},
     "output_type": "display_data"
    },
    {
     "data": {
      "text/html": [
       "<style>\n",
       ".list-inline {list-style: none; margin:0; padding: 0}\n",
       ".list-inline>li {display: inline-block}\n",
       ".list-inline>li:not(:last-child)::after {content: \"\\00b7\"; padding: 0 .5ex}\n",
       "</style>\n",
       "<ol class=list-inline><li>`18`</li><li>TEMPERATURE</li><li>DEW_POINT_TEMPERATURE</li><li>`19`</li><li>`8`</li><li>`21`</li><li>`20`</li><li>AUTUMN</li><li>`22`</li><li>`17`</li><li>SOLAR_RADIATION</li><li>SNOWFALL</li><li>(Intercept)</li><li>SUMMER</li><li>SPRING</li><li>`7`</li><li>`23`</li><li>WIND_SPEED</li><li>`16`</li><li>VISIBILITY</li><li>`0`</li><li>`15`</li><li>`1`</li><li>HOLIDAY</li><li>`13`</li><li>`14`</li><li>`6`</li><li>`12`</li><li>`2`</li><li>`10`</li><li>`11`</li><li>`3`</li><li>`5`</li><li>`4`</li><li>HUMIDITY</li><li>RAINFALL</li></ol>\n",
       "\n",
       "<details>\n",
       "\t<summary style=display:list-item;cursor:pointer>\n",
       "\t\t<strong>Levels</strong>:\n",
       "\t</summary>\n",
       "\t<style>\n",
       "\t.list-inline {list-style: none; margin:0; padding: 0}\n",
       "\t.list-inline>li {display: inline-block}\n",
       "\t.list-inline>li:not(:last-child)::after {content: \"\\00b7\"; padding: 0 .5ex}\n",
       "\t</style>\n",
       "\t<ol class=list-inline><li>'(Intercept)'</li><li>'`0`'</li><li>'`1`'</li><li>'`10`'</li><li>'`11`'</li><li>'`12`'</li><li>'`13`'</li><li>'`14`'</li><li>'`15`'</li><li>'`16`'</li><li>'`17`'</li><li>'`18`'</li><li>'`19`'</li><li>'`2`'</li><li>'`20`'</li><li>'`21`'</li><li>'`22`'</li><li>'`23`'</li><li>'`3`'</li><li>'`4`'</li><li>'`5`'</li><li>'`6`'</li><li>'`7`'</li><li>'`8`'</li><li>'AUTUMN'</li><li>'DEW_POINT_TEMPERATURE'</li><li>'HOLIDAY'</li><li>'HUMIDITY'</li><li>'RAINFALL'</li><li>'SNOWFALL'</li><li>'SOLAR_RADIATION'</li><li>'SPRING'</li><li>'SUMMER'</li><li>'TEMPERATURE'</li><li>'VISIBILITY'</li><li>'WIND_SPEED'</li></ol>\n",
       "</details>"
      ],
      "text/latex": [
       "\\begin{enumerate*}\n",
       "\\item `18`\n",
       "\\item TEMPERATURE\n",
       "\\item DEW\\_POINT\\_TEMPERATURE\n",
       "\\item `19`\n",
       "\\item `8`\n",
       "\\item `21`\n",
       "\\item `20`\n",
       "\\item AUTUMN\n",
       "\\item `22`\n",
       "\\item `17`\n",
       "\\item SOLAR\\_RADIATION\n",
       "\\item SNOWFALL\n",
       "\\item (Intercept)\n",
       "\\item SUMMER\n",
       "\\item SPRING\n",
       "\\item `7`\n",
       "\\item `23`\n",
       "\\item WIND\\_SPEED\n",
       "\\item `16`\n",
       "\\item VISIBILITY\n",
       "\\item `0`\n",
       "\\item `15`\n",
       "\\item `1`\n",
       "\\item HOLIDAY\n",
       "\\item `13`\n",
       "\\item `14`\n",
       "\\item `6`\n",
       "\\item `12`\n",
       "\\item `2`\n",
       "\\item `10`\n",
       "\\item `11`\n",
       "\\item `3`\n",
       "\\item `5`\n",
       "\\item `4`\n",
       "\\item HUMIDITY\n",
       "\\item RAINFALL\n",
       "\\end{enumerate*}\n",
       "\n",
       "\\emph{Levels}: \\begin{enumerate*}\n",
       "\\item '(Intercept)'\n",
       "\\item '`0`'\n",
       "\\item '`1`'\n",
       "\\item '`10`'\n",
       "\\item '`11`'\n",
       "\\item '`12`'\n",
       "\\item '`13`'\n",
       "\\item '`14`'\n",
       "\\item '`15`'\n",
       "\\item '`16`'\n",
       "\\item '`17`'\n",
       "\\item '`18`'\n",
       "\\item '`19`'\n",
       "\\item '`2`'\n",
       "\\item '`20`'\n",
       "\\item '`21`'\n",
       "\\item '`22`'\n",
       "\\item '`23`'\n",
       "\\item '`3`'\n",
       "\\item '`4`'\n",
       "\\item '`5`'\n",
       "\\item '`6`'\n",
       "\\item '`7`'\n",
       "\\item '`8`'\n",
       "\\item 'AUTUMN'\n",
       "\\item 'DEW\\_POINT\\_TEMPERATURE'\n",
       "\\item 'HOLIDAY'\n",
       "\\item 'HUMIDITY'\n",
       "\\item 'RAINFALL'\n",
       "\\item 'SNOWFALL'\n",
       "\\item 'SOLAR\\_RADIATION'\n",
       "\\item 'SPRING'\n",
       "\\item 'SUMMER'\n",
       "\\item 'TEMPERATURE'\n",
       "\\item 'VISIBILITY'\n",
       "\\item 'WIND\\_SPEED'\n",
       "\\end{enumerate*}\n"
      ],
      "text/markdown": [
       "1. `18`\n",
       "2. TEMPERATURE\n",
       "3. DEW_POINT_TEMPERATURE\n",
       "4. `19`\n",
       "5. `8`\n",
       "6. `21`\n",
       "7. `20`\n",
       "8. AUTUMN\n",
       "9. `22`\n",
       "10. `17`\n",
       "11. SOLAR_RADIATION\n",
       "12. SNOWFALL\n",
       "13. (Intercept)\n",
       "14. SUMMER\n",
       "15. SPRING\n",
       "16. `7`\n",
       "17. `23`\n",
       "18. WIND_SPEED\n",
       "19. `16`\n",
       "20. VISIBILITY\n",
       "21. `0`\n",
       "22. `15`\n",
       "23. `1`\n",
       "24. HOLIDAY\n",
       "25. `13`\n",
       "26. `14`\n",
       "27. `6`\n",
       "28. `12`\n",
       "29. `2`\n",
       "30. `10`\n",
       "31. `11`\n",
       "32. `3`\n",
       "33. `5`\n",
       "34. `4`\n",
       "35. HUMIDITY\n",
       "36. RAINFALL\n",
       "\n",
       "\n",
       "\n",
       "**Levels**: 1. '(Intercept)'\n",
       "2. '`0`'\n",
       "3. '`1`'\n",
       "4. '`10`'\n",
       "5. '`11`'\n",
       "6. '`12`'\n",
       "7. '`13`'\n",
       "8. '`14`'\n",
       "9. '`15`'\n",
       "10. '`16`'\n",
       "11. '`17`'\n",
       "12. '`18`'\n",
       "13. '`19`'\n",
       "14. '`2`'\n",
       "15. '`20`'\n",
       "16. '`21`'\n",
       "17. '`22`'\n",
       "18. '`23`'\n",
       "19. '`3`'\n",
       "20. '`4`'\n",
       "21. '`5`'\n",
       "22. '`6`'\n",
       "23. '`7`'\n",
       "24. '`8`'\n",
       "25. 'AUTUMN'\n",
       "26. 'DEW_POINT_TEMPERATURE'\n",
       "27. 'HOLIDAY'\n",
       "28. 'HUMIDITY'\n",
       "29. 'RAINFALL'\n",
       "30. 'SNOWFALL'\n",
       "31. 'SOLAR_RADIATION'\n",
       "32. 'SPRING'\n",
       "33. 'SUMMER'\n",
       "34. 'TEMPERATURE'\n",
       "35. 'VISIBILITY'\n",
       "36. 'WIND_SPEED'\n",
       "\n",
       "\n"
      ],
      "text/plain": [
       " [1] `18`                  TEMPERATURE           DEW_POINT_TEMPERATURE\n",
       " [4] `19`                  `8`                   `21`                 \n",
       " [7] `20`                  AUTUMN                `22`                 \n",
       "[10] `17`                  SOLAR_RADIATION       SNOWFALL             \n",
       "[13] (Intercept)           SUMMER                SPRING               \n",
       "[16] `7`                   `23`                  WIND_SPEED           \n",
       "[19] `16`                  VISIBILITY            `0`                  \n",
       "[22] `15`                  `1`                   HOLIDAY              \n",
       "[25] `13`                  `14`                  `6`                  \n",
       "[28] `12`                  `2`                   `10`                 \n",
       "[31] `11`                  `3`                   `5`                  \n",
       "[34] `4`                   HUMIDITY              RAINFALL             \n",
       "36 Levels: (Intercept) `0` `1` `10` `11` `12` `13` `14` `15` `16` `17` ... WIND_SPEED"
      ]
     },
     "metadata": {},
     "output_type": "display_data"
    }
   ],
   "source": [
    "# Sort coefficient list\n",
    "coefficient<-sort(lm_model_all$fit$coefficients, decreasing=TRUE)\n",
    "coefficients_df <- data.frame(coefficient)\n",
    "\n",
    "variables <- factor(row.names(coefficients_df))\n",
    "coefficients_df\n",
    "variables"
   ]
  },
  {
   "cell_type": "code",
   "execution_count": 22,
   "metadata": {
    "vscode": {
     "languageId": "r"
    }
   },
   "outputs": [
    {
     "data": {
      "image/png": "[encoded data removed]",
      "text/plain": [
       "plot without title"
      ]
     },
     "metadata": {
      "image/png": {
       "height": 420,
       "width": 420
      }
     },
     "output_type": "display_data"
    }
   ],
   "source": [
    "ggplot(coefficients_df, aes(x = coefficient, y = reorder(variables, coefficient))) +\n",
    "    geom_col()"
   ]
  },
  {
   "cell_type": "markdown",
   "metadata": {},
   "source": [
    "- `TEMPERATURE` and `DEW_POINT_TEMPERATURE` seem to predict increased bike demand.\n",
    "- `HUMIDITY` and `RAINFALL` seem to predict reduced bike demand."
   ]
  }
 ],
 "metadata": {
  "kernelspec": {
   "display_name": "R",
   "language": "R",
   "name": "ir"
  },
  "language_info": {
   "codemirror_mode": "r",
   "file_extension": ".r",
   "mimetype": "text/x-r-source",
   "name": "R",
   "pygments_lexer": "r",
   "version": "3.6.1"
  }
 },
 "nbformat": 4,
 "nbformat_minor": 4
}
