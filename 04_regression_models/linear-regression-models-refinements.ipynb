{
 "cells": [
  {
   "cell_type": "markdown",
   "metadata": {},
   "source": [
    "# Refine the Baseline Regression Models"
   ]
  },
  {
   "cell_type": "markdown",
   "metadata": {},
   "source": [
    "The baseline linear regression model has reasonably good RMSE and R-squared values. However, it can be improved upon by using methods like adding polynomial and interaction terms, regularisation, etc.\n",
    "\n",
    "`tidymodels` is used to improve the performance of baseline model:\n",
    "\n",
    "- Add polynomial terms.\n",
    "- Add interactions terms.\n",
    "- Add regularisation terms.\n",
    "- Experiment to search for improved models."
   ]
  },
  {
   "cell_type": "markdown",
   "metadata": {},
   "source": [
    "## Load the dataset. Perform a test-train split."
   ]
  },
  {
   "cell_type": "markdown",
   "metadata": {},
   "source": [
    "Install and import necessary libraries."
   ]
  },
  {
   "cell_type": "code",
   "execution_count": 1,
   "metadata": {
    "vscode": {
     "languageId": "r"
    }
   },
   "outputs": [
    {
     "name": "stderr",
     "output_type": "stream",
     "text": [
      "-- \u001b[1mAttaching packages\u001b[22m -------------------------------------- tidymodels 1.0.0 --\n",
      "\n",
      "\u001b[32mv\u001b[39m \u001b[34mbroom       \u001b[39m 1.0.3     \u001b[32mv\u001b[39m \u001b[34mrecipes     \u001b[39m 1.0.5\n",
      "\u001b[32mv\u001b[39m \u001b[34mdials       \u001b[39m 1.1.0     \u001b[32mv\u001b[39m \u001b[34mrsample     \u001b[39m 1.1.1\n",
      "\u001b[32mv\u001b[39m \u001b[34mdplyr       \u001b[39m 1.1.0     \u001b[32mv\u001b[39m \u001b[34mtibble      \u001b[39m 3.1.8\n",
      "\u001b[32mv\u001b[39m \u001b[34mggplot2     \u001b[39m 3.4.0     \u001b[32mv\u001b[39m \u001b[34mtidyr       \u001b[39m 1.3.0\n",
      "\u001b[32mv\u001b[39m \u001b[34minfer       \u001b[39m 1.0.4     \u001b[32mv\u001b[39m \u001b[34mtune        \u001b[39m 1.0.1\n",
      "\u001b[32mv\u001b[39m \u001b[34mmodeldata   \u001b[39m 1.1.0     \u001b[32mv\u001b[39m \u001b[34mworkflows   \u001b[39m 1.1.3\n",
      "\u001b[32mv\u001b[39m \u001b[34mparsnip     \u001b[39m 1.0.4     \u001b[32mv\u001b[39m \u001b[34mworkflowsets\u001b[39m 1.0.0\n",
      "\u001b[32mv\u001b[39m \u001b[34mpurrr       \u001b[39m 1.0.1     \u001b[32mv\u001b[39m \u001b[34myardstick   \u001b[39m 1.1.0\n",
      "\n",
      "-- \u001b[1mConflicts\u001b[22m ----------------------------------------- tidymodels_conflicts() --\n",
      "\u001b[31mx\u001b[39m \u001b[34mpurrr\u001b[39m::\u001b[32mdiscard()\u001b[39m masks \u001b[34mscales\u001b[39m::discard()\n",
      "\u001b[31mx\u001b[39m \u001b[34mdplyr\u001b[39m::\u001b[32mfilter()\u001b[39m  masks \u001b[34mstats\u001b[39m::filter()\n",
      "\u001b[31mx\u001b[39m \u001b[34mdplyr\u001b[39m::\u001b[32mlag()\u001b[39m     masks \u001b[34mstats\u001b[39m::lag()\n",
      "\u001b[31mx\u001b[39m \u001b[34mrecipes\u001b[39m::\u001b[32mstep()\u001b[39m  masks \u001b[34mstats\u001b[39m::step()\n",
      "\u001b[34m*\u001b[39m Use suppressPackageStartupMessages() to eliminate package startup messages\n",
      "\n",
      "-- \u001b[1mAttaching packages\u001b[22m --------------------------------------- tidyverse 1.3.2 --\n",
      "\u001b[32mv\u001b[39m \u001b[34mreadr  \u001b[39m 2.1.3     \u001b[32mv\u001b[39m \u001b[34mforcats\u001b[39m 1.0.0\n",
      "\u001b[32mv\u001b[39m \u001b[34mstringr\u001b[39m 1.5.0     \n",
      "-- \u001b[1mConflicts\u001b[22m ------------------------------------------ tidyverse_conflicts() --\n",
      "\u001b[31mx\u001b[39m \u001b[34mreadr\u001b[39m::\u001b[32mcol_factor()\u001b[39m masks \u001b[34mscales\u001b[39m::col_factor()\n",
      "\u001b[31mx\u001b[39m \u001b[34mpurrr\u001b[39m::\u001b[32mdiscard()\u001b[39m    masks \u001b[34mscales\u001b[39m::discard()\n",
      "\u001b[31mx\u001b[39m \u001b[34mdplyr\u001b[39m::\u001b[32mfilter()\u001b[39m     masks \u001b[34mstats\u001b[39m::filter()\n",
      "\u001b[31mx\u001b[39m \u001b[34mstringr\u001b[39m::\u001b[32mfixed()\u001b[39m    masks \u001b[34mrecipes\u001b[39m::fixed()\n",
      "\u001b[31mx\u001b[39m \u001b[34mdplyr\u001b[39m::\u001b[32mlag()\u001b[39m        masks \u001b[34mstats\u001b[39m::lag()\n",
      "\u001b[31mx\u001b[39m \u001b[34mreadr\u001b[39m::\u001b[32mspec()\u001b[39m       masks \u001b[34myardstick\u001b[39m::spec()\n"
     ]
    }
   ],
   "source": [
    "library(\"tidymodels\")\n",
    "library(\"tidyverse\")\n",
    "library(\"stringr\")"
   ]
  },
  {
   "cell_type": "markdown",
   "metadata": {},
   "source": [
    "Download the processed and normalised dataset from the following URL:\\\n",
    "https://cf-courses-data.s3.us.cloud-object-storage.appdomain.cloud/IBMDeveloperSkillsNetwork-RP0321EN-SkillsNetwork/labs/datasets/seoul_bike_sharing_converted_normalized.csv"
   ]
  },
  {
   "cell_type": "code",
   "execution_count": 2,
   "metadata": {
    "vscode": {
     "languageId": "r"
    }
   },
   "outputs": [
    {
     "name": "stderr",
     "output_type": "stream",
     "text": [
      "\u001b[1mRows: \u001b[22m\u001b[34m8465\u001b[39m \u001b[1mColumns: \u001b[22m\u001b[34m41\u001b[39m\n",
      "\u001b[36m--\u001b[39m \u001b[1mColumn specification\u001b[22m \u001b[36m--------------------------------------------------------\u001b[39m\n",
      "\u001b[1mDelimiter:\u001b[22m \",\"\n",
      "\u001b[31mchr\u001b[39m  (2): DATE, FUNCTIONING_DAY\n",
      "\u001b[32mdbl\u001b[39m (39): RENTED_BIKE_COUNT, TEMPERATURE, HUMIDITY, WIND_SPEED, VISIBILITY, ...\n",
      "\n",
      "\u001b[36mi\u001b[39m Use `spec()` to retrieve the full column specification for this data.\n",
      "\u001b[36mi\u001b[39m Specify the column types or set `show_col_types = FALSE` to quiet this message.\n"
     ]
    },
    {
     "data": {
      "text/plain": [
       "cols(\n",
       "  DATE = \u001b[31mcol_character()\u001b[39m,\n",
       "  RENTED_BIKE_COUNT = \u001b[32mcol_double()\u001b[39m,\n",
       "  TEMPERATURE = \u001b[32mcol_double()\u001b[39m,\n",
       "  HUMIDITY = \u001b[32mcol_double()\u001b[39m,\n",
       "  WIND_SPEED = \u001b[32mcol_double()\u001b[39m,\n",
       "  VISIBILITY = \u001b[32mcol_double()\u001b[39m,\n",
       "  DEW_POINT_TEMPERATURE = \u001b[32mcol_double()\u001b[39m,\n",
       "  SOLAR_RADIATION = \u001b[32mcol_double()\u001b[39m,\n",
       "  RAINFALL = \u001b[32mcol_double()\u001b[39m,\n",
       "  SNOWFALL = \u001b[32mcol_double()\u001b[39m,\n",
       "  FUNCTIONING_DAY = \u001b[31mcol_character()\u001b[39m,\n",
       "  `0` = \u001b[32mcol_double()\u001b[39m,\n",
       "  `1` = \u001b[32mcol_double()\u001b[39m,\n",
       "  `10` = \u001b[32mcol_double()\u001b[39m,\n",
       "  `11` = \u001b[32mcol_double()\u001b[39m,\n",
       "  `12` = \u001b[32mcol_double()\u001b[39m,\n",
       "  `13` = \u001b[32mcol_double()\u001b[39m,\n",
       "  `14` = \u001b[32mcol_double()\u001b[39m,\n",
       "  `15` = \u001b[32mcol_double()\u001b[39m,\n",
       "  `16` = \u001b[32mcol_double()\u001b[39m,\n",
       "  `17` = \u001b[32mcol_double()\u001b[39m,\n",
       "  `18` = \u001b[32mcol_double()\u001b[39m,\n",
       "  `19` = \u001b[32mcol_double()\u001b[39m,\n",
       "  `2` = \u001b[32mcol_double()\u001b[39m,\n",
       "  `20` = \u001b[32mcol_double()\u001b[39m,\n",
       "  `21` = \u001b[32mcol_double()\u001b[39m,\n",
       "  `22` = \u001b[32mcol_double()\u001b[39m,\n",
       "  `23` = \u001b[32mcol_double()\u001b[39m,\n",
       "  `3` = \u001b[32mcol_double()\u001b[39m,\n",
       "  `4` = \u001b[32mcol_double()\u001b[39m,\n",
       "  `5` = \u001b[32mcol_double()\u001b[39m,\n",
       "  `6` = \u001b[32mcol_double()\u001b[39m,\n",
       "  `7` = \u001b[32mcol_double()\u001b[39m,\n",
       "  `8` = \u001b[32mcol_double()\u001b[39m,\n",
       "  `9` = \u001b[32mcol_double()\u001b[39m,\n",
       "  AUTUMN = \u001b[32mcol_double()\u001b[39m,\n",
       "  SPRING = \u001b[32mcol_double()\u001b[39m,\n",
       "  SUMMER = \u001b[32mcol_double()\u001b[39m,\n",
       "  WINTER = \u001b[32mcol_double()\u001b[39m,\n",
       "  HOLIDAY = \u001b[32mcol_double()\u001b[39m,\n",
       "  NO_HOLIDAY = \u001b[32mcol_double()\u001b[39m\n",
       ")"
      ]
     },
     "metadata": {},
     "output_type": "display_data"
    }
   ],
   "source": [
    "# Dataset URL\n",
    "dataset_url <- \"https://cf-courses-data.s3.us.cloud-object-storage.appdomain.cloud/IBMDeveloperSkillsNetwork-RP0321EN-SkillsNetwork/labs/datasets/seoul_bike_sharing_converted_normalized.csv\"\n",
    "bike_sharing_df <- read_csv(dataset_url)\n",
    "spec(bike_sharing_df)"
   ]
  },
  {
   "cell_type": "markdown",
   "metadata": {},
   "source": [
    "As with the baseline models:\n",
    "- The `DATE` column is dropped as it acts as an index.\n",
    "- The `FUNCTIONAL DAY` column is dropped, as it has only one distinct value (`YES`) remaining after removing missing values."
   ]
  },
  {
   "cell_type": "code",
   "execution_count": 3,
   "metadata": {
    "vscode": {
     "languageId": "r"
    }
   },
   "outputs": [],
   "source": [
    "bike_sharing_df <- bike_sharing_df %>% \n",
    "                   select(-DATE, -FUNCTIONING_DAY)"
   ]
  },
  {
   "cell_type": "markdown",
   "metadata": {},
   "source": [
    "Define a linear regression model specification.\n"
   ]
  },
  {
   "cell_type": "code",
   "execution_count": 4,
   "metadata": {
    "vscode": {
     "languageId": "r"
    }
   },
   "outputs": [],
   "source": [
    "lm_spec <- linear_reg() %>%\n",
    "  set_engine(\"lm\") %>% \n",
    "  set_mode(\"regression\")"
   ]
  },
  {
   "cell_type": "markdown",
   "metadata": {},
   "source": [
    "Split the data into training and testing datasets.\n"
   ]
  },
  {
   "cell_type": "code",
   "execution_count": 5,
   "metadata": {
    "vscode": {
     "languageId": "r"
    }
   },
   "outputs": [],
   "source": [
    "set.seed(1234)\n",
    "data_split <- initial_split(bike_sharing_df, prop = 4/5)\n",
    "train_data <- training(data_split)\n",
    "test_data <- testing(data_split)"
   ]
  },
  {
   "cell_type": "markdown",
   "metadata": {},
   "source": [
    "## Refinement: Add polynomial terms"
   ]
  },
  {
   "cell_type": "markdown",
   "metadata": {},
   "source": [
    "Linear regression models are suitable models to capture the linear correlations. However, in real world data, many relationships may be non-linear."
   ]
  },
  {
   "cell_type": "markdown",
   "metadata": {},
   "source": [
    "The correlation between `RENTED_BIKE_COUNT` and `TEMPERATURE` does not look linear."
   ]
  },
  {
   "cell_type": "code",
   "execution_count": 6,
   "metadata": {
    "vscode": {
     "languageId": "r"
    }
   },
   "outputs": [
    {
     "data": {
      "image/png": "[encoded data removed]",
      "text/plain": [
       "plot without title"
      ]
     },
     "metadata": {
      "image/png": {
       "height": 420,
       "width": 420
      }
     },
     "output_type": "display_data"
    }
   ],
   "source": [
    "ggplot(data = train_data, aes(RENTED_BIKE_COUNT, TEMPERATURE)) + \n",
    "    geom_point(color = \"slategray\", alpha = 0.2)"
   ]
  },
  {
   "cell_type": "markdown",
   "metadata": {},
   "source": [
    "**Polynomial regression** can by used to handle non-linearity by adding polynomial terms. Higher order polynomials are better than the first order polynomial.  "
   ]
  },
  {
   "cell_type": "code",
   "execution_count": 7,
   "metadata": {
    "vscode": {
     "languageId": "r"
    }
   },
   "outputs": [
    {
     "data": {
      "image/png": "[encoded data removed]",
      "text/plain": [
       "plot without title"
      ]
     },
     "metadata": {
      "image/png": {
       "height": 420,
       "width": 420
      }
     },
     "output_type": "display_data"
    }
   ],
   "source": [
    "# Plot the higher order polynomial fits\n",
    "ggplot(data=train_data, aes(RENTED_BIKE_COUNT, TEMPERATURE)) + \n",
    "    geom_point(color = \"slategray\", alpha = 0.2)  + \n",
    "    geom_smooth(method = \"lm\", formula = y ~ x, color=\"red\") + \n",
    "    geom_smooth(method = \"lm\", formula = y ~ poly(x, 2), color=\"yellow\") + \n",
    "    geom_smooth(method = \"lm\", formula = y ~ poly(x, 4), color=\"green\") + \n",
    "    geom_smooth(method = \"lm\", formula = y ~ poly(x, 6), color=\"blue\")"
   ]
  },
  {
   "cell_type": "markdown",
   "metadata": {},
   "source": [
    "Fit a linear regression model `lm_poly`, adding higher order polynomial terms on the important variables (larger coefficients) found in the baseline model."
   ]
  },
  {
   "cell_type": "code",
   "execution_count": 8,
   "metadata": {
    "vscode": {
     "languageId": "r"
    }
   },
   "outputs": [],
   "source": [
    "# Fit a linear model with higher order polynomial on some important variables \n",
    "# The poly() function is used to build polynomial terms\n",
    "lm_poly <- RENTED_BIKE_COUNT ~ poly(TEMPERATURE, 6) + poly(HUMIDITY, 4) + poly(WIND_SPEED, 4) + poly(VISIBILITY, 3) + \n",
    "                               poly(DEW_POINT_TEMPERATURE,6)+ poly(SOLAR_RADIATION, 5) + poly(RAINFALL, 6) + poly(SNOWFALL, 4) + \n",
    "                               `0` + `1` + `10` + `11` + `12` + `13` + `14` + `15` + `16` + `17` + `18` + `19` + `2` + `20` + \n",
    "                               `21` + `22` + `23` + `3` + `4` + `5` + `6` + `7` + `8`+ `9` +\n",
    "                                AUTUMN + SPRING + SUMMER + WINTER + HOLIDAY + NO_HOLIDAY \n",
    "\n",
    "train_fit_1 <- lm_spec %>%\n",
    "    fit(lm_poly,  data=train_data)"
   ]
  },
  {
   "cell_type": "markdown",
   "metadata": {},
   "source": [
    "Review the model summary."
   ]
  },
  {
   "cell_type": "code",
   "execution_count": 9,
   "metadata": {
    "vscode": {
     "languageId": "r"
    }
   },
   "outputs": [
    {
     "data": {
      "text/plain": [
       "\n",
       "Call:\n",
       "stats::lm(formula = RENTED_BIKE_COUNT ~ poly(TEMPERATURE, 6) + \n",
       "    poly(HUMIDITY, 4) + poly(WIND_SPEED, 4) + poly(VISIBILITY, \n",
       "    3) + poly(DEW_POINT_TEMPERATURE, 6) + poly(SOLAR_RADIATION, \n",
       "    5) + poly(RAINFALL, 6) + poly(SNOWFALL, 4) + `0` + `1` + \n",
       "    `10` + `11` + `12` + `13` + `14` + `15` + `16` + `17` + `18` + \n",
       "    `19` + `2` + `20` + `21` + `22` + `23` + `3` + `4` + `5` + \n",
       "    `6` + `7` + `8` + `9` + AUTUMN + SPRING + SUMMER + WINTER + \n",
       "    HOLIDAY + NO_HOLIDAY, data = data)\n",
       "\n",
       "Residuals:\n",
       "     Min       1Q   Median       3Q      Max \n",
       "-1757.15  -181.70     5.75   169.19  1270.33 \n",
       "\n",
       "Coefficients: (3 not defined because of singularities)\n",
       "                                  Estimate Std. Error t value Pr(>|t|)    \n",
       "(Intercept)                        282.568     25.798  10.953  < 2e-16 ***\n",
       "poly(TEMPERATURE, 6)1            38738.270   4225.839   9.167  < 2e-16 ***\n",
       "poly(TEMPERATURE, 6)2             8906.079    715.622  12.445  < 2e-16 ***\n",
       "poly(TEMPERATURE, 6)3           -10774.841    456.179 -23.620  < 2e-16 ***\n",
       "poly(TEMPERATURE, 6)4            -7106.160    432.869 -16.416  < 2e-16 ***\n",
       "poly(TEMPERATURE, 6)5              160.618    373.366   0.430 0.667071    \n",
       "poly(TEMPERATURE, 6)6             1943.270    359.324   5.408 6.59e-08 ***\n",
       "poly(HUMIDITY, 4)1                -161.714   2015.242  -0.080 0.936044    \n",
       "poly(HUMIDITY, 4)2               -3199.049    509.739  -6.276 3.69e-10 ***\n",
       "poly(HUMIDITY, 4)3               -2232.296    379.661  -5.880 4.31e-09 ***\n",
       "poly(HUMIDITY, 4)4               -1163.142    435.234  -2.672 0.007548 ** \n",
       "poly(WIND_SPEED, 4)1              -335.020    378.121  -0.886 0.375643    \n",
       "poly(WIND_SPEED, 4)2             -1452.933    325.725  -4.461 8.31e-06 ***\n",
       "poly(WIND_SPEED, 4)3              -899.938    320.050  -2.812 0.004940 ** \n",
       "poly(WIND_SPEED, 4)4               359.187    317.094   1.133 0.257361    \n",
       "poly(VISIBILITY, 3)1             -1143.656    442.872  -2.582 0.009834 ** \n",
       "poly(VISIBILITY, 3)2               377.522    349.032   1.082 0.279458    \n",
       "poly(VISIBILITY, 3)3             -1431.597    328.813  -4.354 1.36e-05 ***\n",
       "poly(DEW_POINT_TEMPERATURE, 6)1 -23011.199   4966.246  -4.634 3.66e-06 ***\n",
       "poly(DEW_POINT_TEMPERATURE, 6)2 -14240.359    729.712 -19.515  < 2e-16 ***\n",
       "poly(DEW_POINT_TEMPERATURE, 6)3  -2068.786    463.348  -4.465 8.14e-06 ***\n",
       "poly(DEW_POINT_TEMPERATURE, 6)4    737.127    419.192   1.758 0.078717 .  \n",
       "poly(DEW_POINT_TEMPERATURE, 6)5    605.486    368.499   1.643 0.100405    \n",
       "poly(DEW_POINT_TEMPERATURE, 6)6   1056.097    330.676   3.194 0.001411 ** \n",
       "poly(SOLAR_RADIATION, 5)1        12738.043    931.635  13.673  < 2e-16 ***\n",
       "poly(SOLAR_RADIATION, 5)2       -11559.127    491.898 -23.499  < 2e-16 ***\n",
       "poly(SOLAR_RADIATION, 5)3         6124.973    388.353  15.772  < 2e-16 ***\n",
       "poly(SOLAR_RADIATION, 5)4        -2926.017    351.685  -8.320  < 2e-16 ***\n",
       "poly(SOLAR_RADIATION, 5)5         2702.583    337.881   7.999 1.47e-15 ***\n",
       "poly(RAINFALL, 6)1               -3984.306    370.961 -10.740  < 2e-16 ***\n",
       "poly(RAINFALL, 6)2                2782.242    342.775   8.117 5.65e-16 ***\n",
       "poly(RAINFALL, 6)3               -1654.178    333.717  -4.957 7.34e-07 ***\n",
       "poly(RAINFALL, 6)4                2789.653    324.824   8.588  < 2e-16 ***\n",
       "poly(RAINFALL, 6)5               -1839.186    320.323  -5.742 9.79e-09 ***\n",
       "poly(RAINFALL, 6)6                1771.229    318.529   5.561 2.79e-08 ***\n",
       "poly(SNOWFALL, 4)1                -669.919    353.720  -1.894 0.058278 .  \n",
       "poly(SNOWFALL, 4)2                 704.107    330.873   2.128 0.033371 *  \n",
       "poly(SNOWFALL, 4)3                 -26.497    337.295  -0.079 0.937387    \n",
       "poly(SNOWFALL, 4)4                -486.156    336.330  -1.445 0.148371    \n",
       "`0`                                332.955     32.740  10.170  < 2e-16 ***\n",
       "`1`                                219.699     32.540   6.752 1.58e-11 ***\n",
       "`10`                              -235.941     26.495  -8.905  < 2e-16 ***\n",
       "`11`                              -180.229     27.623  -6.525 7.31e-11 ***\n",
       "`12`                               -73.614     28.066  -2.623 0.008740 ** \n",
       "`13`                               -65.279     28.709  -2.274 0.023009 *  \n",
       "`14`                               -55.855     27.963  -1.997 0.045813 *  \n",
       "`15`                                -9.043     27.949  -0.324 0.746276    \n",
       "`16`                                91.223     27.629   3.302 0.000966 ***\n",
       "`17`                               373.487     27.594  13.535  < 2e-16 ***\n",
       "`18`                               922.632     28.286  32.618  < 2e-16 ***\n",
       "`19`                               770.661     29.887  25.786  < 2e-16 ***\n",
       "`2`                                111.061     32.548   3.412 0.000648 ***\n",
       "`20`                               794.824     32.520  24.441  < 2e-16 ***\n",
       "`21`                               824.588     33.032  24.963  < 2e-16 ***\n",
       "`22`                               704.725     32.848  21.454  < 2e-16 ***\n",
       "`23`                               460.152     32.695  14.074  < 2e-16 ***\n",
       "`3`                                 44.109     32.656   1.351 0.176832    \n",
       "`4`                                -32.522     32.512  -1.000 0.317208    \n",
       "`5`                                -10.348     32.210  -0.321 0.748010    \n",
       "`6`                                132.509     31.954   4.147 3.41e-05 ***\n",
       "`7`                                327.928     29.487  11.121  < 2e-16 ***\n",
       "`8`                                518.212     26.944  19.233  < 2e-16 ***\n",
       "`9`                                     NA         NA      NA       NA    \n",
       "AUTUMN                             361.591     19.514  18.530  < 2e-16 ***\n",
       "SPRING                             189.479     19.025   9.959  < 2e-16 ***\n",
       "SUMMER                             293.109     24.775  11.831  < 2e-16 ***\n",
       "WINTER                                  NA         NA      NA       NA    \n",
       "HOLIDAY                           -104.319     18.713  -5.575 2.58e-08 ***\n",
       "NO_HOLIDAY                              NA         NA      NA       NA    \n",
       "---\n",
       "Signif. codes:  0 '***' 0.001 '**' 0.01 '*' 0.05 '.' 0.1 ' ' 1\n",
       "\n",
       "Residual standard error: 313 on 6706 degrees of freedom\n",
       "Multiple R-squared:  0.7664,\tAdjusted R-squared:  0.7641 \n",
       "F-statistic: 338.5 on 65 and 6706 DF,  p-value: < 2.2e-16\n"
      ]
     },
     "metadata": {},
     "output_type": "display_data"
    }
   ],
   "source": [
    "# Print model summary\n",
    "summary(train_fit_1$fit)"
   ]
  },
  {
   "cell_type": "markdown",
   "metadata": {},
   "source": [
    "Make predictions on the test dataset using the `lm_poly` model."
   ]
  },
  {
   "cell_type": "code",
   "execution_count": 10,
   "metadata": {
    "vscode": {
     "languageId": "r"
    }
   },
   "outputs": [
    {
     "name": "stderr",
     "output_type": "stream",
     "text": [
      "Warning message in predict.lm(object = object$fit, newdata = new_data, type = \"response\"):\n",
      "\"prediction from a rank-deficient fit may be misleading\"\n"
     ]
    },
    {
     "data": {
      "text/html": [
       "<table class=\"dataframe\">\n",
       "<caption>A tibble: 6 × 2</caption>\n",
       "<thead>\n",
       "\t<tr><th scope=col>.pred</th><th scope=col>truth</th></tr>\n",
       "\t<tr><th scope=col>&lt;dbl&gt;</th><th scope=col>&lt;dbl&gt;</th></tr>\n",
       "</thead>\n",
       "<tbody>\n",
       "\t<tr><td>-233.99270</td><td>100</td></tr>\n",
       "\t<tr><td>-107.80354</td><td>181</td></tr>\n",
       "\t<tr><td>  62.71672</td><td>360</td></tr>\n",
       "\t<tr><td> 684.66018</td><td>405</td></tr>\n",
       "\t<tr><td> 126.18219</td><td>328</td></tr>\n",
       "\t<tr><td> 305.09211</td><td>479</td></tr>\n",
       "</tbody>\n",
       "</table>\n"
      ],
      "text/latex": [
       "A tibble: 6 × 2\n",
       "\\begin{tabular}{ll}\n",
       " .pred & truth\\\\\n",
       " <dbl> & <dbl>\\\\\n",
       "\\hline\n",
       "\t -233.99270 & 100\\\\\n",
       "\t -107.80354 & 181\\\\\n",
       "\t   62.71672 & 360\\\\\n",
       "\t  684.66018 & 405\\\\\n",
       "\t  126.18219 & 328\\\\\n",
       "\t  305.09211 & 479\\\\\n",
       "\\end{tabular}\n"
      ],
      "text/markdown": [
       "\n",
       "A tibble: 6 × 2\n",
       "\n",
       "| .pred &lt;dbl&gt; | truth &lt;dbl&gt; |\n",
       "|---|---|\n",
       "| -233.99270 | 100 |\n",
       "| -107.80354 | 181 |\n",
       "|   62.71672 | 360 |\n",
       "|  684.66018 | 405 |\n",
       "|  126.18219 | 328 |\n",
       "|  305.09211 | 479 |\n",
       "\n"
      ],
      "text/plain": [
       "  .pred      truth\n",
       "1 -233.99270 100  \n",
       "2 -107.80354 181  \n",
       "3   62.71672 360  \n",
       "4  684.66018 405  \n",
       "5  126.18219 328  \n",
       "6  305.09211 479  "
      ]
     },
     "metadata": {},
     "output_type": "display_data"
    }
   ],
   "source": [
    "# Use predict() to generate test results for `lm_poly`\n",
    "test_results <- train_fit_1 %>%\n",
    "    predict(new_data = test_data) %>% # Make the predictions and save the predicted values\n",
    "    mutate(truth = test_data$RENTED_BIKE_COUNT) # Create a new column to save the true values\n",
    "\n",
    "head(test_results)"
   ]
  },
  {
   "cell_type": "markdown",
   "metadata": {},
   "source": [
    "A minor improvement is to convert all negative prediction results to zero, because negative rented bike counts are not possible."
   ]
  },
  {
   "cell_type": "code",
   "execution_count": 11,
   "metadata": {
    "vscode": {
     "languageId": "r"
    }
   },
   "outputs": [
    {
     "data": {
      "text/html": [
       "<table class=\"dataframe\">\n",
       "<caption>A tibble: 6 × 2</caption>\n",
       "<thead>\n",
       "\t<tr><th scope=col>.pred</th><th scope=col>truth</th></tr>\n",
       "\t<tr><th scope=col>&lt;dbl&gt;</th><th scope=col>&lt;dbl&gt;</th></tr>\n",
       "</thead>\n",
       "<tbody>\n",
       "\t<tr><td>  0.00000</td><td>100</td></tr>\n",
       "\t<tr><td>  0.00000</td><td>181</td></tr>\n",
       "\t<tr><td> 62.71672</td><td>360</td></tr>\n",
       "\t<tr><td>684.66018</td><td>405</td></tr>\n",
       "\t<tr><td>126.18219</td><td>328</td></tr>\n",
       "\t<tr><td>305.09211</td><td>479</td></tr>\n",
       "</tbody>\n",
       "</table>\n"
      ],
      "text/latex": [
       "A tibble: 6 × 2\n",
       "\\begin{tabular}{ll}\n",
       " .pred & truth\\\\\n",
       " <dbl> & <dbl>\\\\\n",
       "\\hline\n",
       "\t   0.00000 & 100\\\\\n",
       "\t   0.00000 & 181\\\\\n",
       "\t  62.71672 & 360\\\\\n",
       "\t 684.66018 & 405\\\\\n",
       "\t 126.18219 & 328\\\\\n",
       "\t 305.09211 & 479\\\\\n",
       "\\end{tabular}\n"
      ],
      "text/markdown": [
       "\n",
       "A tibble: 6 × 2\n",
       "\n",
       "| .pred &lt;dbl&gt; | truth &lt;dbl&gt; |\n",
       "|---|---|\n",
       "|   0.00000 | 100 |\n",
       "|   0.00000 | 181 |\n",
       "|  62.71672 | 360 |\n",
       "| 684.66018 | 405 |\n",
       "| 126.18219 | 328 |\n",
       "| 305.09211 | 479 |\n",
       "\n"
      ],
      "text/plain": [
       "  .pred     truth\n",
       "1   0.00000 100  \n",
       "2   0.00000 181  \n",
       "3  62.71672 360  \n",
       "4 684.66018 405  \n",
       "5 126.18219 328  \n",
       "6 305.09211 479  "
      ]
     },
     "metadata": {},
     "output_type": "display_data"
    }
   ],
   "source": [
    "test_results[test_results<0] <- 0\n",
    "\n",
    "head(test_results)"
   ]
  },
  {
   "cell_type": "markdown",
   "metadata": {},
   "source": [
    "Calculate R-squared and RMSE for the test results generated by the `lm_poly` model."
   ]
  },
  {
   "cell_type": "code",
   "execution_count": 12,
   "metadata": {
    "vscode": {
     "languageId": "r"
    }
   },
   "outputs": [
    {
     "data": {
      "text/html": [
       "<dl>\n",
       "\t<dt>$.metric</dt>\n",
       "\t\t<dd>'rsq'</dd>\n",
       "\t<dt>$.estimator</dt>\n",
       "\t\t<dd>'standard'</dd>\n",
       "\t<dt>$.estimate</dt>\n",
       "\t\t<dd>0.77722196072491</dd>\n",
       "\t<dt>$.metric</dt>\n",
       "\t\t<dd>'rmse'</dd>\n",
       "\t<dt>$.estimator</dt>\n",
       "\t\t<dd>'standard'</dd>\n",
       "\t<dt>$.estimate</dt>\n",
       "\t\t<dd>300.179037275748</dd>\n",
       "</dl>\n"
      ],
      "text/latex": [
       "\\begin{description}\n",
       "\\item[\\$.metric] 'rsq'\n",
       "\\item[\\$.estimator] 'standard'\n",
       "\\item[\\$.estimate] 0.77722196072491\n",
       "\\item[\\$.metric] 'rmse'\n",
       "\\item[\\$.estimator] 'standard'\n",
       "\\item[\\$.estimate] 300.179037275748\n",
       "\\end{description}\n"
      ],
      "text/markdown": [
       "$.metric\n",
       ":   'rsq'\n",
       "$.estimator\n",
       ":   'standard'\n",
       "$.estimate\n",
       ":   0.77722196072491\n",
       "$.metric\n",
       ":   'rmse'\n",
       "$.estimator\n",
       ":   'standard'\n",
       "$.estimate\n",
       ":   300.179037275748\n",
       "\n",
       "\n"
      ],
      "text/plain": [
       "$.metric\n",
       "[1] \"rsq\"\n",
       "\n",
       "$.estimator\n",
       "[1] \"standard\"\n",
       "\n",
       "$.estimate\n",
       "[1] 0.777222\n",
       "\n",
       "$.metric\n",
       "[1] \"rmse\"\n",
       "\n",
       "$.estimator\n",
       "[1] \"standard\"\n",
       "\n",
       "$.estimate\n",
       "[1] 300.179\n"
      ]
     },
     "metadata": {},
     "output_type": "display_data"
    }
   ],
   "source": [
    "# Calculate R-squared and RMSE from the test results\n",
    "rsq_1 <- rsq(test_results, truth = truth, estimate = .pred)\n",
    "\n",
    "rmse_1 <- rmse(test_results, truth = truth, estimate = .pred)\n",
    "\n",
    "model_1_results <- c(rsq_1, rmse_1)\n",
    "model_1_results"
   ]
  },
  {
   "cell_type": "markdown",
   "metadata": {},
   "source": [
    " `R-squared` is higher and `RMSE` lower than for the linear baseline model, demonstrating an improvement."
   ]
  },
  {
   "cell_type": "markdown",
   "metadata": {},
   "source": [
    "## Refinement: Add interaction terms"
   ]
  },
  {
   "cell_type": "markdown",
   "metadata": {},
   "source": [
    "In real-world scenarios, in addition to non-linear relationships between response and predictor variables, there may be other relationships among variables, called **interaction effects**.\n",
    "\n",
    "For example, the effect of the predictor variable `TEMPERATURE` on `RENTED_BIKE_COUNT` may also depend on other variables like `HUMIDITY`, `RAINFALL`, or both (they **interact**), and the effect of `SEASON` on `RENTED_BIKE_COUNT` may also depend on `HOLIDAY`, `HOUR`, or both.\n",
    "\n",
    "To capture such interaction effects, **interaction terms** such as `RAINFALL*HUMIDITY` can be added to the polynomial regression model to improve its model performance."
   ]
  },
  {
   "cell_type": "code",
   "execution_count": 13,
   "metadata": {
    "vscode": {
     "languageId": "r"
    }
   },
   "outputs": [
    {
     "data": {
      "text/plain": [
       "parsnip model object\n",
       "\n",
       "\n",
       "Call:\n",
       "stats::lm(formula = RENTED_BIKE_COUNT ~ `18` * TEMPERATURE * \n",
       "    DEW_POINT_TEMPERATURE + RAINFALL * HUMIDITY * `4` + SOLAR_RADIATION * \n",
       "    SNOWFALL + WIND_SPEED * VISIBILITY + `18` * TEMPERATURE * \n",
       "    +poly(TEMPERATURE, 6) + poly(HUMIDITY, 4) + poly(WIND_SPEED, \n",
       "    4) + poly(VISIBILITY, 3) + poly(DEW_POINT_TEMPERATURE, 6) + \n",
       "    poly(SOLAR_RADIATION, 5) + poly(RAINFALL, 6) + poly(SNOWFALL, \n",
       "    4) + `0` + `1` + `10` + `11` + `12` + `13` + `14` + `15` + \n",
       "    `16` + `17` + `19` + `2` + `20` + `21` + `22` + `23` + `3` + \n",
       "    `5` + `6` + `7` + `8` + `9` + AUTUMN + SPRING + SUMMER + \n",
       "    WINTER + HOLIDAY + NO_HOLIDAY, data = data)\n",
       "\n",
       "Coefficients:\n",
       "                           (Intercept)                                    `18`  \n",
       "                              2282.970                                 425.465  \n",
       "                           TEMPERATURE                   DEW_POINT_TEMPERATURE  \n",
       "                             -2423.675                               -8694.180  \n",
       "                              RAINFALL                                HUMIDITY  \n",
       "                            -14306.955                                 775.441  \n",
       "                                   `4`                         SOLAR_RADIATION  \n",
       "                               -54.733                                 519.881  \n",
       "                              SNOWFALL                              WIND_SPEED  \n",
       "                              -134.434                                -147.862  \n",
       "                            VISIBILITY                   poly(TEMPERATURE, 6)1  \n",
       "                               -74.844                                      NA  \n",
       "                 poly(TEMPERATURE, 6)2                   poly(TEMPERATURE, 6)3  \n",
       "                            -13090.128                              -10969.980  \n",
       "                 poly(TEMPERATURE, 6)4                   poly(TEMPERATURE, 6)5  \n",
       "                             -6769.025                                -624.950  \n",
       "                 poly(TEMPERATURE, 6)6                      poly(HUMIDITY, 4)1  \n",
       "                               102.610                                      NA  \n",
       "                    poly(HUMIDITY, 4)2                      poly(HUMIDITY, 4)3  \n",
       "                             -1016.587                               -4027.237  \n",
       "                    poly(HUMIDITY, 4)4                    poly(WIND_SPEED, 4)1  \n",
       "                              -880.521                                      NA  \n",
       "                  poly(WIND_SPEED, 4)2                    poly(WIND_SPEED, 4)3  \n",
       "                             -1395.733                                -810.982  \n",
       "                  poly(WIND_SPEED, 4)4                    poly(VISIBILITY, 3)1  \n",
       "                               278.404                                      NA  \n",
       "                  poly(VISIBILITY, 3)2                    poly(VISIBILITY, 3)3  \n",
       "                               367.878                               -1415.040  \n",
       "       poly(DEW_POINT_TEMPERATURE, 6)1         poly(DEW_POINT_TEMPERATURE, 6)2  \n",
       "                                    NA                              -39068.757  \n",
       "       poly(DEW_POINT_TEMPERATURE, 6)3         poly(DEW_POINT_TEMPERATURE, 6)4  \n",
       "                             -1600.890                                 573.468  \n",
       "       poly(DEW_POINT_TEMPERATURE, 6)5         poly(DEW_POINT_TEMPERATURE, 6)6  \n",
       "                               481.801                                1239.922  \n",
       "             poly(SOLAR_RADIATION, 5)1               poly(SOLAR_RADIATION, 5)2  \n",
       "                                    NA                               -9433.235  \n",
       "             poly(SOLAR_RADIATION, 5)3               poly(SOLAR_RADIATION, 5)4  \n",
       "                              4916.490                               -2361.406  \n",
       "             poly(SOLAR_RADIATION, 5)5                      poly(RAINFALL, 6)1  \n",
       "                              2567.627                                      NA  \n",
       "                    poly(RAINFALL, 6)2                      poly(RAINFALL, 6)3  \n",
       "                              2531.784                               -1139.644  \n",
       "                    poly(RAINFALL, 6)4                      poly(RAINFALL, 6)5  \n",
       "                              2748.188                               -2000.437  \n",
       "                    poly(RAINFALL, 6)6                      poly(SNOWFALL, 4)1  \n",
       "                              1647.216                                      NA  \n",
       "                    poly(SNOWFALL, 4)2                      poly(SNOWFALL, 4)3  \n",
       "                               605.371                                  -5.815  \n",
       "                    poly(SNOWFALL, 4)4                                     `0`  \n",
       "                              -487.602                                 257.968  \n",
       "                                   `1`                                    `10`  \n",
       "                               142.094                                -227.141  \n",
       "                                  `11`                                    `12`  \n",
       "                              -172.711                                 -67.012  \n",
       "                                  `13`                                    `14`  \n",
       "                               -59.753                                 -46.496  \n",
       "                                  `15`                                    `16`  \n",
       "                                 5.360                                 103.974  \n",
       "                                  `17`                                    `19`  \n",
       "                               380.984                                 727.341  \n",
       "                                   `2`                                    `20`  \n",
       "                                33.373                                 727.613  \n",
       "                                  `21`                                    `22`  \n",
       "                               750.392                                 630.236  \n",
       "                                  `23`                                     `3`  \n",
       "                               384.788                                 -32.593  \n",
       "                                   `5`                                     `6`  \n",
       "                               -87.139                                  58.150  \n",
       "                                   `7`                                     `8`  \n",
       "                               272.136                                 494.675  \n",
       "                                   `9`                                  AUTUMN  \n",
       "                                    NA                                 350.962  \n",
       "                                SPRING                                  SUMMER  \n",
       "                               184.201                                 295.526  \n",
       "                                WINTER                                 HOLIDAY  \n",
       "                                    NA                                -102.312  \n",
       "                            NO_HOLIDAY                        `18`:TEMPERATURE  \n",
       "                                    NA                                1292.613  \n",
       "            `18`:DEW_POINT_TEMPERATURE       TEMPERATURE:DEW_POINT_TEMPERATURE  \n",
       "                             -1152.681                               11141.043  \n",
       "                     RAINFALL:HUMIDITY                            RAINFALL:`4`  \n",
       "                             12913.745                                4018.708  \n",
       "                          HUMIDITY:`4`                SOLAR_RADIATION:SNOWFALL  \n",
       "                               -96.196                                -559.127  \n",
       "                 WIND_SPEED:VISIBILITY              `18`:poly(TEMPERATURE, 6)1  \n",
       "                               155.221                                      NA  \n",
       "            `18`:poly(TEMPERATURE, 6)2              `18`:poly(TEMPERATURE, 6)3  \n",
       "                             -7316.039                               -4991.217  \n",
       "            `18`:poly(TEMPERATURE, 6)4              `18`:poly(TEMPERATURE, 6)5  \n",
       "                             -1566.650                                3327.694  \n",
       "            `18`:poly(TEMPERATURE, 6)6       TEMPERATURE:poly(TEMPERATURE, 6)1  \n",
       "                              -377.614                                      NA  \n",
       "     TEMPERATURE:poly(TEMPERATURE, 6)2       TEMPERATURE:poly(TEMPERATURE, 6)3  \n",
       "                                    NA                                      NA  \n",
       "     TEMPERATURE:poly(TEMPERATURE, 6)4       TEMPERATURE:poly(TEMPERATURE, 6)5  \n",
       "                                    NA                                      NA  \n",
       "     TEMPERATURE:poly(TEMPERATURE, 6)6  `18`:TEMPERATURE:DEW_POINT_TEMPERATURE  \n",
       "                              3389.809                                1126.978  \n",
       "                 RAINFALL:HUMIDITY:`4`  `18`:TEMPERATURE:poly(TEMPERATURE, 6)1  \n",
       "                             -1765.804                                      NA  \n",
       "`18`:TEMPERATURE:poly(TEMPERATURE, 6)2  `18`:TEMPERATURE:poly(TEMPERATURE, 6)3  \n",
       "                                    NA                                      NA  \n",
       "`18`:TEMPERATURE:poly(TEMPERATURE, 6)4  `18`:TEMPERATURE:poly(TEMPERATURE, 6)5  \n",
       "                                    NA                                      NA  \n",
       "`18`:TEMPERATURE:poly(TEMPERATURE, 6)6  \n",
       "                               396.589  \n"
      ]
     },
     "metadata": {},
     "output_type": "display_data"
    }
   ],
   "source": [
    "# Add interaction terms to the poly regression built in previous step\n",
    "\n",
    "# Use the `*` operator to create interaction terms such as HUMIDITY*TEMPERATURE\n",
    "lm_interaction <- RENTED_BIKE_COUNT ~ `18`*TEMPERATURE*DEW_POINT_TEMPERATURE + RAINFALL*HUMIDITY*`4` + SOLAR_RADIATION*SNOWFALL +\n",
    "                                      WIND_SPEED*VISIBILITY +`18`*TEMPERATURE* + poly(TEMPERATURE, 6) + poly(HUMIDITY, 4) +\n",
    "                                      poly(WIND_SPEED, 4) + poly(VISIBILITY, 3) + poly(DEW_POINT_TEMPERATURE,6)+ poly(SOLAR_RADIATION, 5) +\n",
    "                                      poly(RAINFALL, 6)+ poly(SNOWFALL, 4) +\n",
    "                                      `0` + `1` + `10` + `11` + `12` + `13` + `14` + `15` + `16` + `17`  + `19` + `2` + `20` +\n",
    "                                      `21` + `22` + `23` + `3`  + `5` + `6` + `7` + `8`+ `9` +\n",
    "                                      AUTUMN + SPRING + SUMMER + WINTER + HOLIDAY + NO_HOLIDAY \n",
    "\n",
    "train_fit_2 <- lm_spec %>% \n",
    "  fit(lm_interaction,  data=train_data)\n",
    "\n",
    "train_fit_2"
   ]
  },
  {
   "cell_type": "markdown",
   "metadata": {},
   "source": [
    "Review the model summary."
   ]
  },
  {
   "cell_type": "code",
   "execution_count": 14,
   "metadata": {
    "vscode": {
     "languageId": "r"
    }
   },
   "outputs": [
    {
     "data": {
      "text/plain": [
       "\n",
       "Call:\n",
       "stats::lm(formula = RENTED_BIKE_COUNT ~ `18` * TEMPERATURE * \n",
       "    DEW_POINT_TEMPERATURE + RAINFALL * HUMIDITY * `4` + SOLAR_RADIATION * \n",
       "    SNOWFALL + WIND_SPEED * VISIBILITY + `18` * TEMPERATURE * \n",
       "    +poly(TEMPERATURE, 6) + poly(HUMIDITY, 4) + poly(WIND_SPEED, \n",
       "    4) + poly(VISIBILITY, 3) + poly(DEW_POINT_TEMPERATURE, 6) + \n",
       "    poly(SOLAR_RADIATION, 5) + poly(RAINFALL, 6) + poly(SNOWFALL, \n",
       "    4) + `0` + `1` + `10` + `11` + `12` + `13` + `14` + `15` + \n",
       "    `16` + `17` + `19` + `2` + `20` + `21` + `22` + `23` + `3` + \n",
       "    `5` + `6` + `7` + `8` + `9` + AUTUMN + SPRING + SUMMER + \n",
       "    WINTER + HOLIDAY + NO_HOLIDAY, data = data)\n",
       "\n",
       "Residuals:\n",
       "     Min       1Q   Median       3Q      Max \n",
       "-1967.17  -176.78     5.39   166.77  1265.46 \n",
       "\n",
       "Coefficients: (22 not defined because of singularities)\n",
       "                                         Estimate Std. Error t value Pr(>|t|)\n",
       "(Intercept)                              2282.970    774.652   2.947 0.003219\n",
       "`18`                                      425.465    284.395   1.496 0.134692\n",
       "TEMPERATURE                             -2423.675   1469.049  -1.650 0.099026\n",
       "DEW_POINT_TEMPERATURE                   -8694.180   2474.516  -3.513 0.000445\n",
       "RAINFALL                               -14306.955   6137.288  -2.331 0.019775\n",
       "HUMIDITY                                  775.441    298.094   2.601 0.009307\n",
       "`4`                                       -54.733     78.747  -0.695 0.487052\n",
       "SOLAR_RADIATION                           519.881     45.621  11.396  < 2e-16\n",
       "SNOWFALL                                 -134.434    101.854  -1.320 0.186923\n",
       "WIND_SPEED                               -147.862     80.554  -1.836 0.066467\n",
       "VISIBILITY                                -74.844     26.969  -2.775 0.005533\n",
       "poly(TEMPERATURE, 6)1                          NA         NA      NA       NA\n",
       "poly(TEMPERATURE, 6)2                  -13090.128   6730.432  -1.945 0.051827\n",
       "poly(TEMPERATURE, 6)3                  -10969.980    492.352 -22.281  < 2e-16\n",
       "poly(TEMPERATURE, 6)4                   -6769.025    437.233 -15.482  < 2e-16\n",
       "poly(TEMPERATURE, 6)5                    -624.950    499.833  -1.250 0.211228\n",
       "poly(TEMPERATURE, 6)6                     102.610    778.826   0.132 0.895186\n",
       "poly(HUMIDITY, 4)1                             NA         NA      NA       NA\n",
       "poly(HUMIDITY, 4)2                      -1016.587    972.168  -1.046 0.295742\n",
       "poly(HUMIDITY, 4)3                      -4027.237    637.451  -6.318 2.82e-10\n",
       "poly(HUMIDITY, 4)4                       -880.521    466.857  -1.886 0.059330\n",
       "poly(WIND_SPEED, 4)1                           NA         NA      NA       NA\n",
       "poly(WIND_SPEED, 4)2                    -1395.733    326.088  -4.280 1.89e-05\n",
       "poly(WIND_SPEED, 4)3                     -810.982    316.777  -2.560 0.010486\n",
       "poly(WIND_SPEED, 4)4                      278.404    312.902   0.890 0.373633\n",
       "poly(VISIBILITY, 3)1                           NA         NA      NA       NA\n",
       "poly(VISIBILITY, 3)2                      367.878    346.138   1.063 0.287908\n",
       "poly(VISIBILITY, 3)3                    -1415.040    324.344  -4.363 1.30e-05\n",
       "poly(DEW_POINT_TEMPERATURE, 6)1                NA         NA      NA       NA\n",
       "poly(DEW_POINT_TEMPERATURE, 6)2        -39068.757   8357.640  -4.675 3.00e-06\n",
       "poly(DEW_POINT_TEMPERATURE, 6)3         -1600.890    498.476  -3.212 0.001326\n",
       "poly(DEW_POINT_TEMPERATURE, 6)4           573.468    415.288   1.381 0.167358\n",
       "poly(DEW_POINT_TEMPERATURE, 6)5           481.801    365.937   1.317 0.188010\n",
       "poly(DEW_POINT_TEMPERATURE, 6)6          1239.922    334.732   3.704 0.000214\n",
       "poly(SOLAR_RADIATION, 5)1                      NA         NA      NA       NA\n",
       "poly(SOLAR_RADIATION, 5)2               -9433.235    512.252 -18.415  < 2e-16\n",
       "poly(SOLAR_RADIATION, 5)3                4916.490    394.047  12.477  < 2e-16\n",
       "poly(SOLAR_RADIATION, 5)4               -2361.406    348.960  -6.767 1.43e-11\n",
       "poly(SOLAR_RADIATION, 5)5                2567.627    333.803   7.692 1.66e-14\n",
       "poly(RAINFALL, 6)1                             NA         NA      NA       NA\n",
       "poly(RAINFALL, 6)2                       2531.784    386.480   6.551 6.15e-11\n",
       "poly(RAINFALL, 6)3                      -1139.644    357.403  -3.189 0.001436\n",
       "poly(RAINFALL, 6)4                       2748.188    322.637   8.518  < 2e-16\n",
       "poly(RAINFALL, 6)5                      -2000.437    324.500  -6.165 7.47e-10\n",
       "poly(RAINFALL, 6)6                       1647.216    316.946   5.197 2.08e-07\n",
       "poly(SNOWFALL, 4)1                             NA         NA      NA       NA\n",
       "poly(SNOWFALL, 4)2                        605.371    330.604   1.831 0.067130\n",
       "poly(SNOWFALL, 4)3                         -5.815    333.013  -0.017 0.986069\n",
       "poly(SNOWFALL, 4)4                       -487.602    335.240  -1.454 0.145859\n",
       "`0`                                       257.968     32.675   7.895 3.37e-15\n",
       "`1`                                       142.094     32.496   4.373 1.25e-05\n",
       "`10`                                     -227.141     26.097  -8.704  < 2e-16\n",
       "`11`                                     -172.711     27.220  -6.345 2.37e-10\n",
       "`12`                                      -67.012     27.742  -2.416 0.015737\n",
       "`13`                                      -59.753     28.351  -2.108 0.035102\n",
       "`14`                                      -46.496     27.619  -1.683 0.092327\n",
       "`15`                                        5.360     27.628   0.194 0.846177\n",
       "`16`                                      103.974     27.297   3.809 0.000141\n",
       "`17`                                      380.984     27.230  13.991  < 2e-16\n",
       "`19`                                      727.341     29.585  24.585  < 2e-16\n",
       "`2`                                        33.373     32.513   1.026 0.304715\n",
       "`20`                                      727.613     32.388  22.466  < 2e-16\n",
       "`21`                                      750.392     32.943  22.779  < 2e-16\n",
       "`22`                                      630.236     32.773  19.230  < 2e-16\n",
       "`23`                                      384.788     32.637  11.790  < 2e-16\n",
       "`3`                                       -32.593     32.608  -1.000 0.317573\n",
       "`5`                                       -87.139     32.179  -2.708 0.006787\n",
       "`6`                                        58.150     31.903   1.823 0.068387\n",
       "`7`                                       272.136     29.297   9.289  < 2e-16\n",
       "`8`                                       494.675     26.574  18.615  < 2e-16\n",
       "`9`                                            NA         NA      NA       NA\n",
       "AUTUMN                                    350.962     19.358  18.130  < 2e-16\n",
       "SPRING                                    184.201     18.817   9.789  < 2e-16\n",
       "SUMMER                                    295.526     24.648  11.990  < 2e-16\n",
       "WINTER                                         NA         NA      NA       NA\n",
       "HOLIDAY                                  -102.312     18.471  -5.539 3.16e-08\n",
       "NO_HOLIDAY                                     NA         NA      NA       NA\n",
       "`18`:TEMPERATURE                         1292.613    612.436   2.111 0.034843\n",
       "`18`:DEW_POINT_TEMPERATURE              -1152.681    738.338  -1.561 0.118527\n",
       "TEMPERATURE:DEW_POINT_TEMPERATURE       11141.043   3601.181   3.094 0.001985\n",
       "RAINFALL:HUMIDITY                       12913.745   6247.697   2.067 0.038776\n",
       "RAINFALL:`4`                             4018.708  22557.204   0.178 0.858606\n",
       "HUMIDITY:`4`                              -96.196    103.313  -0.931 0.351831\n",
       "SOLAR_RADIATION:SNOWFALL                 -559.127    871.015  -0.642 0.520943\n",
       "WIND_SPEED:VISIBILITY                     155.221     99.015   1.568 0.117011\n",
       "`18`:poly(TEMPERATURE, 6)1                     NA         NA      NA       NA\n",
       "`18`:poly(TEMPERATURE, 6)2              -7316.039   5480.266  -1.335 0.181929\n",
       "`18`:poly(TEMPERATURE, 6)3              -4991.217   3257.200  -1.532 0.125480\n",
       "`18`:poly(TEMPERATURE, 6)4              -1566.650   3416.974  -0.458 0.646615\n",
       "`18`:poly(TEMPERATURE, 6)5               3327.694   2505.238   1.328 0.184126\n",
       "`18`:poly(TEMPERATURE, 6)6               -377.614   7431.949  -0.051 0.959479\n",
       "TEMPERATURE:poly(TEMPERATURE, 6)1              NA         NA      NA       NA\n",
       "TEMPERATURE:poly(TEMPERATURE, 6)2              NA         NA      NA       NA\n",
       "TEMPERATURE:poly(TEMPERATURE, 6)3              NA         NA      NA       NA\n",
       "TEMPERATURE:poly(TEMPERATURE, 6)4              NA         NA      NA       NA\n",
       "TEMPERATURE:poly(TEMPERATURE, 6)5              NA         NA      NA       NA\n",
       "TEMPERATURE:poly(TEMPERATURE, 6)6        3389.809   1326.185   2.556 0.010608\n",
       "`18`:TEMPERATURE:DEW_POINT_TEMPERATURE   1126.978   1210.728   0.931 0.351977\n",
       "RAINFALL:HUMIDITY:`4`                   -1765.804  22852.982  -0.077 0.938413\n",
       "`18`:TEMPERATURE:poly(TEMPERATURE, 6)1         NA         NA      NA       NA\n",
       "`18`:TEMPERATURE:poly(TEMPERATURE, 6)2         NA         NA      NA       NA\n",
       "`18`:TEMPERATURE:poly(TEMPERATURE, 6)3         NA         NA      NA       NA\n",
       "`18`:TEMPERATURE:poly(TEMPERATURE, 6)4         NA         NA      NA       NA\n",
       "`18`:TEMPERATURE:poly(TEMPERATURE, 6)5         NA         NA      NA       NA\n",
       "`18`:TEMPERATURE:poly(TEMPERATURE, 6)6    396.589   9696.265   0.041 0.967376\n",
       "                                          \n",
       "(Intercept)                            ** \n",
       "`18`                                      \n",
       "TEMPERATURE                            .  \n",
       "DEW_POINT_TEMPERATURE                  ***\n",
       "RAINFALL                               *  \n",
       "HUMIDITY                               ** \n",
       "`4`                                       \n",
       "SOLAR_RADIATION                        ***\n",
       "SNOWFALL                                  \n",
       "WIND_SPEED                             .  \n",
       "VISIBILITY                             ** \n",
       "poly(TEMPERATURE, 6)1                     \n",
       "poly(TEMPERATURE, 6)2                  .  \n",
       "poly(TEMPERATURE, 6)3                  ***\n",
       "poly(TEMPERATURE, 6)4                  ***\n",
       "poly(TEMPERATURE, 6)5                     \n",
       "poly(TEMPERATURE, 6)6                     \n",
       "poly(HUMIDITY, 4)1                        \n",
       "poly(HUMIDITY, 4)2                        \n",
       "poly(HUMIDITY, 4)3                     ***\n",
       "poly(HUMIDITY, 4)4                     .  \n",
       "poly(WIND_SPEED, 4)1                      \n",
       "poly(WIND_SPEED, 4)2                   ***\n",
       "poly(WIND_SPEED, 4)3                   *  \n",
       "poly(WIND_SPEED, 4)4                      \n",
       "poly(VISIBILITY, 3)1                      \n",
       "poly(VISIBILITY, 3)2                      \n",
       "poly(VISIBILITY, 3)3                   ***\n",
       "poly(DEW_POINT_TEMPERATURE, 6)1           \n",
       "poly(DEW_POINT_TEMPERATURE, 6)2        ***\n",
       "poly(DEW_POINT_TEMPERATURE, 6)3        ** \n",
       "poly(DEW_POINT_TEMPERATURE, 6)4           \n",
       "poly(DEW_POINT_TEMPERATURE, 6)5           \n",
       "poly(DEW_POINT_TEMPERATURE, 6)6        ***\n",
       "poly(SOLAR_RADIATION, 5)1                 \n",
       "poly(SOLAR_RADIATION, 5)2              ***\n",
       "poly(SOLAR_RADIATION, 5)3              ***\n",
       "poly(SOLAR_RADIATION, 5)4              ***\n",
       "poly(SOLAR_RADIATION, 5)5              ***\n",
       "poly(RAINFALL, 6)1                        \n",
       "poly(RAINFALL, 6)2                     ***\n",
       "poly(RAINFALL, 6)3                     ** \n",
       "poly(RAINFALL, 6)4                     ***\n",
       "poly(RAINFALL, 6)5                     ***\n",
       "poly(RAINFALL, 6)6                     ***\n",
       "poly(SNOWFALL, 4)1                        \n",
       "poly(SNOWFALL, 4)2                     .  \n",
       "poly(SNOWFALL, 4)3                        \n",
       "poly(SNOWFALL, 4)4                        \n",
       "`0`                                    ***\n",
       "`1`                                    ***\n",
       "`10`                                   ***\n",
       "`11`                                   ***\n",
       "`12`                                   *  \n",
       "`13`                                   *  \n",
       "`14`                                   .  \n",
       "`15`                                      \n",
       "`16`                                   ***\n",
       "`17`                                   ***\n",
       "`19`                                   ***\n",
       "`2`                                       \n",
       "`20`                                   ***\n",
       "`21`                                   ***\n",
       "`22`                                   ***\n",
       "`23`                                   ***\n",
       "`3`                                       \n",
       "`5`                                    ** \n",
       "`6`                                    .  \n",
       "`7`                                    ***\n",
       "`8`                                    ***\n",
       "`9`                                       \n",
       "AUTUMN                                 ***\n",
       "SPRING                                 ***\n",
       "SUMMER                                 ***\n",
       "WINTER                                    \n",
       "HOLIDAY                                ***\n",
       "NO_HOLIDAY                                \n",
       "`18`:TEMPERATURE                       *  \n",
       "`18`:DEW_POINT_TEMPERATURE                \n",
       "TEMPERATURE:DEW_POINT_TEMPERATURE      ** \n",
       "RAINFALL:HUMIDITY                      *  \n",
       "RAINFALL:`4`                              \n",
       "HUMIDITY:`4`                              \n",
       "SOLAR_RADIATION:SNOWFALL                  \n",
       "WIND_SPEED:VISIBILITY                     \n",
       "`18`:poly(TEMPERATURE, 6)1                \n",
       "`18`:poly(TEMPERATURE, 6)2                \n",
       "`18`:poly(TEMPERATURE, 6)3                \n",
       "`18`:poly(TEMPERATURE, 6)4                \n",
       "`18`:poly(TEMPERATURE, 6)5                \n",
       "`18`:poly(TEMPERATURE, 6)6                \n",
       "TEMPERATURE:poly(TEMPERATURE, 6)1         \n",
       "TEMPERATURE:poly(TEMPERATURE, 6)2         \n",
       "TEMPERATURE:poly(TEMPERATURE, 6)3         \n",
       "TEMPERATURE:poly(TEMPERATURE, 6)4         \n",
       "TEMPERATURE:poly(TEMPERATURE, 6)5         \n",
       "TEMPERATURE:poly(TEMPERATURE, 6)6      *  \n",
       "`18`:TEMPERATURE:DEW_POINT_TEMPERATURE    \n",
       "RAINFALL:HUMIDITY:`4`                     \n",
       "`18`:TEMPERATURE:poly(TEMPERATURE, 6)1    \n",
       "`18`:TEMPERATURE:poly(TEMPERATURE, 6)2    \n",
       "`18`:TEMPERATURE:poly(TEMPERATURE, 6)3    \n",
       "`18`:TEMPERATURE:poly(TEMPERATURE, 6)4    \n",
       "`18`:TEMPERATURE:poly(TEMPERATURE, 6)5    \n",
       "`18`:TEMPERATURE:poly(TEMPERATURE, 6)6    \n",
       "---\n",
       "Signif. codes:  0 '***' 0.001 '**' 0.01 '*' 0.05 '.' 0.1 ' ' 1\n",
       "\n",
       "Residual standard error: 308 on 6689 degrees of freedom\n",
       "Multiple R-squared:  0.7744,\tAdjusted R-squared:  0.7716 \n",
       "F-statistic:   280 on 82 and 6689 DF,  p-value: < 2.2e-16\n"
      ]
     },
     "metadata": {},
     "output_type": "display_data"
    }
   ],
   "source": [
    "# Print model summary\n",
    "summary(train_fit_2$fit)"
   ]
  },
  {
   "cell_type": "code",
   "execution_count": 15,
   "metadata": {
    "vscode": {
     "languageId": "r"
    }
   },
   "outputs": [
    {
     "name": "stderr",
     "output_type": "stream",
     "text": [
      "Warning message in predict.lm(object = object$fit, newdata = new_data, type = \"response\"):\n",
      "\"prediction from a rank-deficient fit may be misleading\"\n"
     ]
    },
    {
     "data": {
      "text/html": [
       "<table class=\"dataframe\">\n",
       "<caption>A tibble: 6 × 2</caption>\n",
       "<thead>\n",
       "\t<tr><th scope=col>.pred</th><th scope=col>truth</th></tr>\n",
       "\t<tr><th scope=col>&lt;dbl&gt;</th><th scope=col>&lt;dbl&gt;</th></tr>\n",
       "</thead>\n",
       "<tbody>\n",
       "\t<tr><td>-241.84214</td><td>100</td></tr>\n",
       "\t<tr><td>-111.95731</td><td>181</td></tr>\n",
       "\t<tr><td>  70.52095</td><td>360</td></tr>\n",
       "\t<tr><td> 686.25512</td><td>405</td></tr>\n",
       "\t<tr><td> 124.27863</td><td>328</td></tr>\n",
       "\t<tr><td> 311.03548</td><td>479</td></tr>\n",
       "</tbody>\n",
       "</table>\n"
      ],
      "text/latex": [
       "A tibble: 6 × 2\n",
       "\\begin{tabular}{ll}\n",
       " .pred & truth\\\\\n",
       " <dbl> & <dbl>\\\\\n",
       "\\hline\n",
       "\t -241.84214 & 100\\\\\n",
       "\t -111.95731 & 181\\\\\n",
       "\t   70.52095 & 360\\\\\n",
       "\t  686.25512 & 405\\\\\n",
       "\t  124.27863 & 328\\\\\n",
       "\t  311.03548 & 479\\\\\n",
       "\\end{tabular}\n"
      ],
      "text/markdown": [
       "\n",
       "A tibble: 6 × 2\n",
       "\n",
       "| .pred &lt;dbl&gt; | truth &lt;dbl&gt; |\n",
       "|---|---|\n",
       "| -241.84214 | 100 |\n",
       "| -111.95731 | 181 |\n",
       "|   70.52095 | 360 |\n",
       "|  686.25512 | 405 |\n",
       "|  124.27863 | 328 |\n",
       "|  311.03548 | 479 |\n",
       "\n"
      ],
      "text/plain": [
       "  .pred      truth\n",
       "1 -241.84214 100  \n",
       "2 -111.95731 181  \n",
       "3   70.52095 360  \n",
       "4  686.25512 405  \n",
       "5  124.27863 328  \n",
       "6  311.03548 479  "
      ]
     },
     "metadata": {},
     "output_type": "display_data"
    }
   ],
   "source": [
    "test_results_2 <- train_fit_2 %>%\n",
    "    predict(new_data = test_data) %>% # Make the predictions and save the predicted values\n",
    "    mutate(truth = test_data$RENTED_BIKE_COUNT) # Create a new column to save the true values\n",
    "\n",
    "head(test_results_2)"
   ]
  },
  {
   "cell_type": "code",
   "execution_count": 16,
   "metadata": {
    "vscode": {
     "languageId": "r"
    }
   },
   "outputs": [
    {
     "data": {
      "text/html": [
       "<table class=\"dataframe\">\n",
       "<caption>A tibble: 6 × 2</caption>\n",
       "<thead>\n",
       "\t<tr><th scope=col>.pred</th><th scope=col>truth</th></tr>\n",
       "\t<tr><th scope=col>&lt;dbl&gt;</th><th scope=col>&lt;dbl&gt;</th></tr>\n",
       "</thead>\n",
       "<tbody>\n",
       "\t<tr><td>  0.00000</td><td>100</td></tr>\n",
       "\t<tr><td>  0.00000</td><td>181</td></tr>\n",
       "\t<tr><td> 70.52095</td><td>360</td></tr>\n",
       "\t<tr><td>686.25512</td><td>405</td></tr>\n",
       "\t<tr><td>124.27863</td><td>328</td></tr>\n",
       "\t<tr><td>311.03548</td><td>479</td></tr>\n",
       "</tbody>\n",
       "</table>\n"
      ],
      "text/latex": [
       "A tibble: 6 × 2\n",
       "\\begin{tabular}{ll}\n",
       " .pred & truth\\\\\n",
       " <dbl> & <dbl>\\\\\n",
       "\\hline\n",
       "\t   0.00000 & 100\\\\\n",
       "\t   0.00000 & 181\\\\\n",
       "\t  70.52095 & 360\\\\\n",
       "\t 686.25512 & 405\\\\\n",
       "\t 124.27863 & 328\\\\\n",
       "\t 311.03548 & 479\\\\\n",
       "\\end{tabular}\n"
      ],
      "text/markdown": [
       "\n",
       "A tibble: 6 × 2\n",
       "\n",
       "| .pred &lt;dbl&gt; | truth &lt;dbl&gt; |\n",
       "|---|---|\n",
       "|   0.00000 | 100 |\n",
       "|   0.00000 | 181 |\n",
       "|  70.52095 | 360 |\n",
       "| 686.25512 | 405 |\n",
       "| 124.27863 | 328 |\n",
       "| 311.03548 | 479 |\n",
       "\n"
      ],
      "text/plain": [
       "  .pred     truth\n",
       "1   0.00000 100  \n",
       "2   0.00000 181  \n",
       "3  70.52095 360  \n",
       "4 686.25512 405  \n",
       "5 124.27863 328  \n",
       "6 311.03548 479  "
      ]
     },
     "metadata": {},
     "output_type": "display_data"
    }
   ],
   "source": [
    "test_results_2[test_results_2<0] <- 0\n",
    "head(test_results_2)"
   ]
  },
  {
   "cell_type": "markdown",
   "metadata": {},
   "source": [
    "Calculate R-squared and RMSE for the test results generated by the `lm_interaction` model."
   ]
  },
  {
   "cell_type": "code",
   "execution_count": 17,
   "metadata": {
    "vscode": {
     "languageId": "r"
    }
   },
   "outputs": [
    {
     "data": {
      "text/html": [
       "<dl>\n",
       "\t<dt>$.metric</dt>\n",
       "\t\t<dd>'rsq'</dd>\n",
       "\t<dt>$.estimator</dt>\n",
       "\t\t<dd>'standard'</dd>\n",
       "\t<dt>$.estimate</dt>\n",
       "\t\t<dd>0.782835750379053</dd>\n",
       "\t<dt>$.metric</dt>\n",
       "\t\t<dd>'rmse'</dd>\n",
       "\t<dt>$.estimator</dt>\n",
       "\t\t<dd>'standard'</dd>\n",
       "\t<dt>$.estimate</dt>\n",
       "\t\t<dd>296.271068156204</dd>\n",
       "</dl>\n"
      ],
      "text/latex": [
       "\\begin{description}\n",
       "\\item[\\$.metric] 'rsq'\n",
       "\\item[\\$.estimator] 'standard'\n",
       "\\item[\\$.estimate] 0.782835750379053\n",
       "\\item[\\$.metric] 'rmse'\n",
       "\\item[\\$.estimator] 'standard'\n",
       "\\item[\\$.estimate] 296.271068156204\n",
       "\\end{description}\n"
      ],
      "text/markdown": [
       "$.metric\n",
       ":   'rsq'\n",
       "$.estimator\n",
       ":   'standard'\n",
       "$.estimate\n",
       ":   0.782835750379053\n",
       "$.metric\n",
       ":   'rmse'\n",
       "$.estimator\n",
       ":   'standard'\n",
       "$.estimate\n",
       ":   296.271068156204\n",
       "\n",
       "\n"
      ],
      "text/plain": [
       "$.metric\n",
       "[1] \"rsq\"\n",
       "\n",
       "$.estimator\n",
       "[1] \"standard\"\n",
       "\n",
       "$.estimate\n",
       "[1] 0.7828358\n",
       "\n",
       "$.metric\n",
       "[1] \"rmse\"\n",
       "\n",
       "$.estimator\n",
       "[1] \"standard\"\n",
       "\n",
       "$.estimate\n",
       "[1] 296.2711\n"
      ]
     },
     "metadata": {},
     "output_type": "display_data"
    }
   ],
   "source": [
    "# Calculate R-squared and RMSE for the new model to see if performance has improved\n",
    "rsq_2 <- rsq(test_results_2, truth = truth, estimate = .pred)\n",
    "\n",
    "rmse_2 <- rmse(test_results_2, truth = truth, estimate = .pred)\n",
    "\n",
    "model_2_results <- c(rsq_2, rmse_2)\n",
    "model_2_results"
   ]
  },
  {
   "cell_type": "markdown",
   "metadata": {},
   "source": [
    "## Refinement: Add regularisation"
   ]
  },
  {
   "cell_type": "markdown",
   "metadata": {},
   "source": [
    "Although adding polynominal and interaction terms to the model improves performance, it also makes the model more complicated, more difficult to explain, and more likely to suffer from overfitting\n",
    "\n",
    "A solution is to add **regularisation terms** to the model."
   ]
  },
  {
   "cell_type": "markdown",
   "metadata": {},
   "source": [
    "Instead of the basic `lm` engine, a more advanced and generalised `glmnet` engine is used. It provides a generalised linear model with Lasso, Ridge, and Elastic Net regularisations.\n",
    "\n",
    "Generally, using `glmnet` can enhance models in the following ways:\n",
    "- Address overfitting by shrinking the coefficients.\n",
    "- Address predictor variable collinearity by selecting only one variable from each group of collinear variables (by shrinking their coefficients to zero).\n",
    "- Models are made more interpretable due to simplification (fewer variables in the outcome models)."
   ]
  },
  {
   "cell_type": "markdown",
   "metadata": {},
   "source": [
    "Define a linear regression model specification `glmnet_spec` using `glmnet` engine."
   ]
  },
  {
   "cell_type": "code",
   "execution_count": 18,
   "metadata": {
    "vscode": {
     "languageId": "r"
    }
   },
   "outputs": [],
   "source": [
    "# Use linear_reg() with two parameters: penalty and mixture\n",
    "## penalty: controls the intensity of model regularisation\n",
    "## mixture: controls the tradeoff between L1 and L2 regularisations\n",
    "\n",
    "# Different parameter combinations can be tried manually or grid search can be used to find optimal combinations."
   ]
  },
  {
   "cell_type": "markdown",
   "metadata": {},
   "source": [
    "Fit a glmnet model using the `fit()` function. For the formula, keep the polynominal and interaction terms already used."
   ]
  },
  {
   "cell_type": "code",
   "execution_count": 19,
   "metadata": {
    "vscode": {
     "languageId": "r"
    }
   },
   "outputs": [
    {
     "name": "stdout",
     "output_type": "stream",
     "text": [
      "package 'glmnet' successfully unpacked and MD5 sums checked\n",
      "\n",
      "The downloaded binary packages are in\n",
      "\tC:\\Users\\djtal\\AppData\\Local\\Temp\\RtmpkTcNhs\\downloaded_packages\n"
     ]
    },
    {
     "name": "stderr",
     "output_type": "stream",
     "text": [
      "Loading required package: Matrix\n",
      "\n",
      "\n",
      "Attaching package: 'Matrix'\n",
      "\n",
      "\n",
      "The following objects are masked from 'package:tidyr':\n",
      "\n",
      "    expand, pack, unpack\n",
      "\n",
      "\n",
      "Loaded glmnet 4.1-6\n",
      "\n"
     ]
    }
   ],
   "source": [
    "install.packages('glmnet')\n",
    "library('glmnet')"
   ]
  },
  {
   "cell_type": "code",
   "execution_count": 20,
   "metadata": {
    "vscode": {
     "languageId": "r"
    }
   },
   "outputs": [],
   "source": [
    "# Fit a glmnet model using the fit() function\n",
    "glmnet_spec <- linear_reg(penalty = 0.2, mixture = 0.5) %>%\n",
    "  set_engine(\"glmnet\") %>%\n",
    "  set_mode(\"regression\")"
   ]
  },
  {
   "cell_type": "code",
   "execution_count": 21,
   "metadata": {
    "vscode": {
     "languageId": "r"
    }
   },
   "outputs": [],
   "source": [
    "glmnet_fit <- glmnet_spec %>%\n",
    "    fit(RENTED_BIKE_COUNT ~ `18`*TEMPERATURE*DEW_POINT_TEMPERATURE + RAINFALL*HUMIDITY*`4` + SOLAR_RADIATION*SNOWFALL +\n",
    "                            poly(DEW_POINT_TEMPERATURE,6) + poly(SOLAR_RADIATION, 5) + poly(RAINFALL, 6) + poly(SNOWFALL, 4) +\n",
    "                            `0` + `1` + `10` + `11` + `12` + `13` + `14` + `15` + `16` + `17`  + `19` + `2` + `20` +\n",
    "                            `21` + `22` + `23` + `3`  + `5` + `6` + `7` + `8`+ `9` + AUTUMN+ SPRING + SUMMER + WINTER + HOLIDAY + NO_HOLIDAY,\n",
    "        data = train_data)"
   ]
  },
  {
   "cell_type": "code",
   "execution_count": 22,
   "metadata": {
    "vscode": {
     "languageId": "r"
    }
   },
   "outputs": [
    {
     "data": {
      "text/html": [
       "<table class=\"dataframe\">\n",
       "<caption>A tibble: 6 × 2</caption>\n",
       "<thead>\n",
       "\t<tr><th scope=col>.pred</th><th scope=col>truth</th></tr>\n",
       "\t<tr><th scope=col>&lt;dbl&gt;</th><th scope=col>&lt;dbl&gt;</th></tr>\n",
       "</thead>\n",
       "<tbody>\n",
       "\t<tr><td>-222.49628</td><td>100</td></tr>\n",
       "\t<tr><td> -79.87442</td><td>181</td></tr>\n",
       "\t<tr><td> 267.31530</td><td>360</td></tr>\n",
       "\t<tr><td> 597.35678</td><td>405</td></tr>\n",
       "\t<tr><td>  64.69997</td><td>328</td></tr>\n",
       "\t<tr><td> 385.33371</td><td>479</td></tr>\n",
       "</tbody>\n",
       "</table>\n"
      ],
      "text/latex": [
       "A tibble: 6 × 2\n",
       "\\begin{tabular}{ll}\n",
       " .pred & truth\\\\\n",
       " <dbl> & <dbl>\\\\\n",
       "\\hline\n",
       "\t -222.49628 & 100\\\\\n",
       "\t  -79.87442 & 181\\\\\n",
       "\t  267.31530 & 360\\\\\n",
       "\t  597.35678 & 405\\\\\n",
       "\t   64.69997 & 328\\\\\n",
       "\t  385.33371 & 479\\\\\n",
       "\\end{tabular}\n"
      ],
      "text/markdown": [
       "\n",
       "A tibble: 6 × 2\n",
       "\n",
       "| .pred &lt;dbl&gt; | truth &lt;dbl&gt; |\n",
       "|---|---|\n",
       "| -222.49628 | 100 |\n",
       "|  -79.87442 | 181 |\n",
       "|  267.31530 | 360 |\n",
       "|  597.35678 | 405 |\n",
       "|   64.69997 | 328 |\n",
       "|  385.33371 | 479 |\n",
       "\n"
      ],
      "text/plain": [
       "  .pred      truth\n",
       "1 -222.49628 100  \n",
       "2  -79.87442 181  \n",
       "3  267.31530 360  \n",
       "4  597.35678 405  \n",
       "5   64.69997 328  \n",
       "6  385.33371 479  "
      ]
     },
     "metadata": {},
     "output_type": "display_data"
    }
   ],
   "source": [
    "test_results_glmnet <- glmnet_fit %>%\n",
    "    predict(new_data = test_data) %>% # Make the predictions and save the predicted values\n",
    "    mutate(truth = test_data$RENTED_BIKE_COUNT) # Create a new column to save the true values\n",
    "\n",
    "head(test_results_glmnet)     "
   ]
  },
  {
   "cell_type": "markdown",
   "metadata": {},
   "source": [
    "Calculate R-squared and RMSE for the test results generated by the `glmnet` model."
   ]
  },
  {
   "cell_type": "code",
   "execution_count": 23,
   "metadata": {
    "vscode": {
     "languageId": "r"
    }
   },
   "outputs": [
    {
     "data": {
      "text/html": [
       "<dl>\n",
       "\t<dt>$.metric</dt>\n",
       "\t\t<dd>'rsq'</dd>\n",
       "\t<dt>$.estimator</dt>\n",
       "\t\t<dd>'standard'</dd>\n",
       "\t<dt>$.estimate</dt>\n",
       "\t\t<dd>0.717708715723113</dd>\n",
       "\t<dt>$.metric</dt>\n",
       "\t\t<dd>'rmse'</dd>\n",
       "\t<dt>$.estimator</dt>\n",
       "\t\t<dd>'standard'</dd>\n",
       "\t<dt>$.estimate</dt>\n",
       "\t\t<dd>336.281003585349</dd>\n",
       "</dl>\n"
      ],
      "text/latex": [
       "\\begin{description}\n",
       "\\item[\\$.metric] 'rsq'\n",
       "\\item[\\$.estimator] 'standard'\n",
       "\\item[\\$.estimate] 0.717708715723113\n",
       "\\item[\\$.metric] 'rmse'\n",
       "\\item[\\$.estimator] 'standard'\n",
       "\\item[\\$.estimate] 336.281003585349\n",
       "\\end{description}\n"
      ],
      "text/markdown": [
       "$.metric\n",
       ":   'rsq'\n",
       "$.estimator\n",
       ":   'standard'\n",
       "$.estimate\n",
       ":   0.717708715723113\n",
       "$.metric\n",
       ":   'rmse'\n",
       "$.estimator\n",
       ":   'standard'\n",
       "$.estimate\n",
       ":   336.281003585349\n",
       "\n",
       "\n"
      ],
      "text/plain": [
       "$.metric\n",
       "[1] \"rsq\"\n",
       "\n",
       "$.estimator\n",
       "[1] \"standard\"\n",
       "\n",
       "$.estimate\n",
       "[1] 0.7177087\n",
       "\n",
       "$.metric\n",
       "[1] \"rmse\"\n",
       "\n",
       "$.estimator\n",
       "[1] \"standard\"\n",
       "\n",
       "$.estimate\n",
       "[1] 336.281\n"
      ]
     },
     "metadata": {},
     "output_type": "display_data"
    }
   ],
   "source": [
    "# Report rsq and rmse of the `lm_glmnet` model\n",
    "rsq_3 <- rsq(test_results_glmnet, truth = truth, estimate = .pred)\n",
    "\n",
    "rmse_3 <-rmse(test_results_glmnet, truth = truth, estimate = .pred)\n",
    "\n",
    "model_3_results <- c(rsq_3, rmse_3)\n",
    "model_3_results"
   ]
  },
  {
   "cell_type": "markdown",
   "metadata": {},
   "source": [
    "## Experiment to search for improved models."
   ]
  },
  {
   "cell_type": "markdown",
   "metadata": {},
   "source": [
    "Experiment by building and testing at least five different models. For each experiment, include polynomial terms, interaction terms, and one of the three regularisations introduced."
   ]
  },
  {
   "cell_type": "code",
   "execution_count": 24,
   "metadata": {
    "vscode": {
     "languageId": "r"
    }
   },
   "outputs": [],
   "source": [
    "model_prediction <- function(model_fit, test_data)\n",
    "{\n",
    "    test_results <- model_fit %>%\n",
    "        predict(new_data = test_data) %>%\n",
    "        mutate(truth = test_data$RENTED_BIKE_COUNT)\n",
    "    test_results[test_results<0] <- 0\n",
    "    return(test_results)\n",
    "}"
   ]
  },
  {
   "cell_type": "code",
   "execution_count": 25,
   "metadata": {
    "vscode": {
     "languageId": "r"
    }
   },
   "outputs": [],
   "source": [
    "model_evaluation <- function(test_results)\n",
    "{\n",
    "    rsq_model <- rsq(test_results, truth = truth, estimate = .pred)\n",
    "    rmse_model <- rmse(test_results, truth = truth, estimate = .pred)\n",
    "    results <- c(rsq_model, rmse_model)\n",
    "    return(results)\n",
    "}"
   ]
  },
  {
   "cell_type": "code",
   "execution_count": 26,
   "metadata": {
    "vscode": {
     "languageId": "r"
    }
   },
   "outputs": [],
   "source": [
    "# Build at least five different models using polynomial terms, interaction terms, and regularizations.\n",
    "# Save their rmse and rsq values.\n",
    "# Since 3 models have already been built, 2 more are built below."
   ]
  },
  {
   "cell_type": "markdown",
   "metadata": {},
   "source": [
    "### Model 4"
   ]
  },
  {
   "cell_type": "code",
   "execution_count": 27,
   "metadata": {
    "vscode": {
     "languageId": "r"
    }
   },
   "outputs": [
    {
     "name": "stderr",
     "output_type": "stream",
     "text": [
      "Warning message in predict.lm(object = object$fit, newdata = new_data, type = \"response\"):\n",
      "\"prediction from a rank-deficient fit may be misleading\"\n"
     ]
    },
    {
     "data": {
      "text/html": [
       "<dl>\n",
       "\t<dt>$.metric</dt>\n",
       "\t\t<dd>'rsq'</dd>\n",
       "\t<dt>$.estimator</dt>\n",
       "\t\t<dd>'standard'</dd>\n",
       "\t<dt>$.estimate</dt>\n",
       "\t\t<dd>0.797129096757231</dd>\n",
       "\t<dt>$.metric</dt>\n",
       "\t\t<dd>'rmse'</dd>\n",
       "\t<dt>$.estimator</dt>\n",
       "\t\t<dd>'standard'</dd>\n",
       "\t<dt>$.estimate</dt>\n",
       "\t\t<dd>285.700742790544</dd>\n",
       "</dl>\n"
      ],
      "text/latex": [
       "\\begin{description}\n",
       "\\item[\\$.metric] 'rsq'\n",
       "\\item[\\$.estimator] 'standard'\n",
       "\\item[\\$.estimate] 0.797129096757231\n",
       "\\item[\\$.metric] 'rmse'\n",
       "\\item[\\$.estimator] 'standard'\n",
       "\\item[\\$.estimate] 285.700742790544\n",
       "\\end{description}\n"
      ],
      "text/markdown": [
       "$.metric\n",
       ":   'rsq'\n",
       "$.estimator\n",
       ":   'standard'\n",
       "$.estimate\n",
       ":   0.797129096757231\n",
       "$.metric\n",
       ":   'rmse'\n",
       "$.estimator\n",
       ":   'standard'\n",
       "$.estimate\n",
       ":   285.700742790544\n",
       "\n",
       "\n"
      ],
      "text/plain": [
       "$.metric\n",
       "[1] \"rsq\"\n",
       "\n",
       "$.estimator\n",
       "[1] \"standard\"\n",
       "\n",
       "$.estimate\n",
       "[1] 0.7971291\n",
       "\n",
       "$.metric\n",
       "[1] \"rmse\"\n",
       "\n",
       "$.estimator\n",
       "[1] \"standard\"\n",
       "\n",
       "$.estimate\n",
       "[1] 285.7007\n"
      ]
     },
     "metadata": {},
     "output_type": "display_data"
    }
   ],
   "source": [
    "# model_4\n",
    "lm_spec <- linear_reg() %>%\n",
    "    set_engine(\"lm\") %>%\n",
    "    set_mode(\"regression\")\n",
    "\n",
    "model_4_fit <- lm_spec %>%\n",
    "    fit(RENTED_BIKE_COUNT ~ `18`*TEMPERATURE*DEW_POINT_TEMPERATURE + RAINFALL*HUMIDITY*`4` +SOLAR_RADIATION*SNOWFALL +\n",
    "                            WIND_SPEED*VISIBILITY +`18`*TEMPERATURE+RAINFALL*HUMIDITY*`18` + poly(TEMPERATURE, 6) + poly(HUMIDITY, 6) +\n",
    "                            poly(WIND_SPEED, 2) + poly(VISIBILITY, 3) + poly(DEW_POINT_TEMPERATURE,6) + poly(SOLAR_RADIATION, 5) +\n",
    "                            poly(RAINFALL, 6) + poly(SNOWFALL, 2) +\n",
    "                            `18`+`4` + `0` + `1` + `10` + `11` + `12` + `13` + `14` + `15` + `16` + `17`  + `19` + `2` + `20` +\n",
    "                            `21` + `22` + `23` + `3`  + `5` + `6` + `7` + `8`+ `9` +\n",
    "                            AUTUMN + SPRING + SUMMER + WINTER + HOLIDAY + NO_HOLIDAY + AUTUMN*SPRING*SUMMER*WINTER*HOLIDAY*`18`*`4`*`19`,\n",
    "        data = train_data)\n",
    "\n",
    "pred_model_4 <- model_prediction(model_4_fit, test_data)\n",
    "model_4_results <- model_evaluation(pred_model_4)\n",
    "model_4_results"
   ]
  },
  {
   "cell_type": "markdown",
   "metadata": {},
   "source": [
    "### Model 5"
   ]
  },
  {
   "cell_type": "code",
   "execution_count": 28,
   "metadata": {
    "vscode": {
     "languageId": "r"
    }
   },
   "outputs": [
    {
     "data": {
      "text/html": [
       "<dl>\n",
       "\t<dt>$.metric</dt>\n",
       "\t\t<dd>'rsq'</dd>\n",
       "\t<dt>$.estimator</dt>\n",
       "\t\t<dd>'standard'</dd>\n",
       "\t<dt>$.estimate</dt>\n",
       "\t\t<dd>0.796342772262308</dd>\n",
       "\t<dt>$.metric</dt>\n",
       "\t\t<dd>'rmse'</dd>\n",
       "\t<dt>$.estimator</dt>\n",
       "\t\t<dd>'standard'</dd>\n",
       "\t<dt>$.estimate</dt>\n",
       "\t\t<dd>286.318492471431</dd>\n",
       "</dl>\n"
      ],
      "text/latex": [
       "\\begin{description}\n",
       "\\item[\\$.metric] 'rsq'\n",
       "\\item[\\$.estimator] 'standard'\n",
       "\\item[\\$.estimate] 0.796342772262308\n",
       "\\item[\\$.metric] 'rmse'\n",
       "\\item[\\$.estimator] 'standard'\n",
       "\\item[\\$.estimate] 286.318492471431\n",
       "\\end{description}\n"
      ],
      "text/markdown": [
       "$.metric\n",
       ":   'rsq'\n",
       "$.estimator\n",
       ":   'standard'\n",
       "$.estimate\n",
       ":   0.796342772262308\n",
       "$.metric\n",
       ":   'rmse'\n",
       "$.estimator\n",
       ":   'standard'\n",
       "$.estimate\n",
       ":   286.318492471431\n",
       "\n",
       "\n"
      ],
      "text/plain": [
       "$.metric\n",
       "[1] \"rsq\"\n",
       "\n",
       "$.estimator\n",
       "[1] \"standard\"\n",
       "\n",
       "$.estimate\n",
       "[1] 0.7963428\n",
       "\n",
       "$.metric\n",
       "[1] \"rmse\"\n",
       "\n",
       "$.estimator\n",
       "[1] \"standard\"\n",
       "\n",
       "$.estimate\n",
       "[1] 286.3185\n"
      ]
     },
     "metadata": {},
     "output_type": "display_data"
    }
   ],
   "source": [
    "#model_5\n",
    "# Fit a glmnet model using the fit() function\n",
    "glmnet_spec <- linear_reg(penalty = 0.2, mixture = 0.5) %>%\n",
    "    set_engine(\"glmnet\") %>%\n",
    "    set_mode(\"regression\")\n",
    "\n",
    "#model_5\n",
    "glmnet_fit <- glmnet_spec %>%\n",
    "    fit(RENTED_BIKE_COUNT ~ `18`*TEMPERATURE*DEW_POINT_TEMPERATURE + RAINFALL*HUMIDITY*`4` + SOLAR_RADIATION*SNOWFALL +\n",
    "                            WIND_SPEED*VISIBILITY +`18`*TEMPERATURE+RAINFALL*HUMIDITY*`18` + poly(TEMPERATURE, 6) + poly(HUMIDITY, 6) +\n",
    "                            poly(WIND_SPEED, 2) + poly(VISIBILITY, 3) + poly(DEW_POINT_TEMPERATURE,6) + poly(SOLAR_RADIATION, 5) +\n",
    "                            poly(RAINFALL, 6) + poly(SNOWFALL, 2) +\n",
    "                            `18`+`4`+ `0` + `1` + `10` + `11` + `12` + `13` + `14` + `15` + `16` + `17`  + `19` +\n",
    "                            `2` + `20` + `21` + `22` + `23` + `3`  + `5` + `6` + `7` + `8`+ `9` +\n",
    "                            AUTUMN + SPRING + SUMMER + WINTER + HOLIDAY + NO_HOLIDAY + AUTUMN*SPRING*SUMMER*WINTER*HOLIDAY*`18`*`4`*`19`,\n",
    "        data = train_data)\n",
    "\n",
    "pred_model_5 <- model_prediction(glmnet_fit, test_data)\n",
    "model_5_results <- model_evaluation(pred_model_5)\n",
    "model_5_results"
   ]
  },
  {
   "cell_type": "markdown",
   "metadata": {},
   "source": [
    "### Generate a dataframe of model results"
   ]
  },
  {
   "cell_type": "code",
   "execution_count": 29,
   "metadata": {
    "vscode": {
     "languageId": "r"
    }
   },
   "outputs": [
    {
     "data": {
      "text/html": [
       "<table class=\"dataframe\">\n",
       "<caption>A data.frame: 5 × 8</caption>\n",
       "<thead>\n",
       "\t<tr><th scope=col>.metric</th><th scope=col>.estimator</th><th scope=col>Rsquared</th><th scope=col>.metric.1</th><th scope=col>.estimator.1</th><th scope=col>RMSE</th><th scope=col>model</th><th scope=col>model_factor</th></tr>\n",
       "\t<tr><th scope=col>&lt;chr&gt;</th><th scope=col>&lt;chr&gt;</th><th scope=col>&lt;dbl&gt;</th><th scope=col>&lt;chr&gt;</th><th scope=col>&lt;chr&gt;</th><th scope=col>&lt;dbl&gt;</th><th scope=col>&lt;chr&gt;</th><th scope=col>&lt;fct&gt;</th></tr>\n",
       "</thead>\n",
       "<tbody>\n",
       "\t<tr><td>rsq</td><td>standard</td><td>0.7772220</td><td>rmse</td><td>standard</td><td>300.1790</td><td>m1_poly         </td><td>m1_poly         </td></tr>\n",
       "\t<tr><td>rsq</td><td>standard</td><td>0.7828358</td><td>rmse</td><td>standard</td><td>296.2711</td><td>m2_interaction  </td><td>m2_interaction  </td></tr>\n",
       "\t<tr><td>rsq</td><td>standard</td><td>0.7177087</td><td>rmse</td><td>standard</td><td>336.2810</td><td>m3_glmnet       </td><td>m3_glmnet       </td></tr>\n",
       "\t<tr><td>rsq</td><td>standard</td><td>0.7971291</td><td>rmse</td><td>standard</td><td>285.7007</td><td>m4_higher_poly  </td><td>m4_higher_poly  </td></tr>\n",
       "\t<tr><td>rsq</td><td>standard</td><td>0.7963428</td><td>rmse</td><td>standard</td><td>286.3185</td><td>m5_higher_glmnet</td><td>m5_higher_glmnet</td></tr>\n",
       "</tbody>\n",
       "</table>\n"
      ],
      "text/latex": [
       "A data.frame: 5 × 8\n",
       "\\begin{tabular}{llllllll}\n",
       " .metric & .estimator & Rsquared & .metric.1 & .estimator.1 & RMSE & model & model\\_factor\\\\\n",
       " <chr> & <chr> & <dbl> & <chr> & <chr> & <dbl> & <chr> & <fct>\\\\\n",
       "\\hline\n",
       "\t rsq & standard & 0.7772220 & rmse & standard & 300.1790 & m1\\_poly          & m1\\_poly         \\\\\n",
       "\t rsq & standard & 0.7828358 & rmse & standard & 296.2711 & m2\\_interaction   & m2\\_interaction  \\\\\n",
       "\t rsq & standard & 0.7177087 & rmse & standard & 336.2810 & m3\\_glmnet        & m3\\_glmnet       \\\\\n",
       "\t rsq & standard & 0.7971291 & rmse & standard & 285.7007 & m4\\_higher\\_poly   & m4\\_higher\\_poly  \\\\\n",
       "\t rsq & standard & 0.7963428 & rmse & standard & 286.3185 & m5\\_higher\\_glmnet & m5\\_higher\\_glmnet\\\\\n",
       "\\end{tabular}\n"
      ],
      "text/markdown": [
       "\n",
       "A data.frame: 5 × 8\n",
       "\n",
       "| .metric &lt;chr&gt; | .estimator &lt;chr&gt; | Rsquared &lt;dbl&gt; | .metric.1 &lt;chr&gt; | .estimator.1 &lt;chr&gt; | RMSE &lt;dbl&gt; | model &lt;chr&gt; | model_factor &lt;fct&gt; |\n",
       "|---|---|---|---|---|---|---|---|\n",
       "| rsq | standard | 0.7772220 | rmse | standard | 300.1790 | m1_poly          | m1_poly          |\n",
       "| rsq | standard | 0.7828358 | rmse | standard | 296.2711 | m2_interaction   | m2_interaction   |\n",
       "| rsq | standard | 0.7177087 | rmse | standard | 336.2810 | m3_glmnet        | m3_glmnet        |\n",
       "| rsq | standard | 0.7971291 | rmse | standard | 285.7007 | m4_higher_poly   | m4_higher_poly   |\n",
       "| rsq | standard | 0.7963428 | rmse | standard | 286.3185 | m5_higher_glmnet | m5_higher_glmnet |\n",
       "\n"
      ],
      "text/plain": [
       "  .metric .estimator Rsquared  .metric.1 .estimator.1 RMSE     model           \n",
       "1 rsq     standard   0.7772220 rmse      standard     300.1790 m1_poly         \n",
       "2 rsq     standard   0.7828358 rmse      standard     296.2711 m2_interaction  \n",
       "3 rsq     standard   0.7177087 rmse      standard     336.2810 m3_glmnet       \n",
       "4 rsq     standard   0.7971291 rmse      standard     285.7007 m4_higher_poly  \n",
       "5 rsq     standard   0.7963428 rmse      standard     286.3185 m5_higher_glmnet\n",
       "  model_factor    \n",
       "1 m1_poly         \n",
       "2 m2_interaction  \n",
       "3 m3_glmnet       \n",
       "4 m4_higher_poly  \n",
       "5 m5_higher_glmnet"
      ]
     },
     "metadata": {},
     "output_type": "display_data"
    }
   ],
   "source": [
    "# Report the best performing model in terms of rmse and rsq\n",
    "rsq_rmse_data <- data.frame(model_1_results)\n",
    "rsq_rmse_data <- rbind(rsq_rmse_data, model_2_results, model_3_results, model_4_results, model_5_results)\n",
    "\n",
    "rsq_rmse_data['model'] <- c(\"m1_poly\", \"m2_interaction\", \"m3_glmnet\", \"m4_higher_poly\", \"m5_higher_glmnet\")\n",
    "colnames(rsq_rmse_data)[6] <- \"RMSE\"\n",
    "colnames(rsq_rmse_data)[3] <- \"Rsquared\"\n",
    "\n",
    "rsq_rmse_data$model_factor <- as.factor(rsq_rmse_data$model)\n",
    "rsq_rmse_data"
   ]
  },
  {
   "cell_type": "markdown",
   "metadata": {},
   "source": [
    "Performance requirements for the best model:\n",
    "- The RMSE should be less than 330 (roughly 10% of the max value in test dataset)\n",
    "- R-squared should be greater than 0.72"
   ]
  },
  {
   "cell_type": "markdown",
   "metadata": {},
   "source": [
    "### Visualize the saved RMSE and R-squared values using a grouped barchart"
   ]
  },
  {
   "cell_type": "code",
   "execution_count": 30,
   "metadata": {
    "tags": [],
    "vscode": {
     "languageId": "r"
    }
   },
   "outputs": [
    {
     "data": {
      "image/png": "[encoded data removed]",
      "text/plain": [
       "plot without title"
      ]
     },
     "metadata": {
      "image/png": {
       "height": 420,
       "width": 420
      }
     },
     "output_type": "display_data"
    }
   ],
   "source": [
    "ggplot(rsq_rmse_data, aes(x = model_factor, y = Rsquared, fill = RMSE)) +\n",
    "    geom_bar(position=\"dodge\", stat=\"identity\") +\n",
    "    geom_text(aes(label = format(round(Rsquared, 3), nsmall = 2)), vjust = -0.2, size = 4) +\n",
    "    labs(y = \"R-squared\", title = \"RMSE and R-squared by model\") "
   ]
  },
  {
   "cell_type": "code",
   "execution_count": 31,
   "metadata": {
    "vscode": {
     "languageId": "r"
    }
   },
   "outputs": [
    {
     "data": {
      "image/png": "[encoded data removed]",
      "text/plain": [
       "plot without title"
      ]
     },
     "metadata": {
      "image/png": {
       "height": 420,
       "width": 420
      }
     },
     "output_type": "display_data"
    }
   ],
   "source": [
    "ggplot(rsq_rmse_data, aes(x = model_factor, y = Rsquared, fill = model_factor)) +\n",
    "    geom_bar(position=\"dodge\", stat=\"identity\") +\n",
    "    geom_text(aes(label = format(round(Rsquared, 5), nsmall = 2)), vjust = -0.2, size = 4) +\n",
    "    labs(y = \"R-squared\", title = \"R-squared by model\") "
   ]
  },
  {
   "cell_type": "code",
   "execution_count": 32,
   "metadata": {
    "vscode": {
     "languageId": "r"
    }
   },
   "outputs": [
    {
     "data": {
      "image/png": "[encoded data removed]",
      "text/plain": [
       "plot without title"
      ]
     },
     "metadata": {
      "image/png": {
       "height": 420,
       "width": 420
      }
     },
     "output_type": "display_data"
    }
   ],
   "source": [
    "ggplot(rsq_rmse_data, aes(x = model_factor, y = RMSE, fill = model_factor)) +\n",
    "    geom_bar(position=\"dodge\", stat=\"identity\") +\n",
    "    geom_text(aes(label = format(round(RMSE, 5), nsmall = 2)), vjust = -0.2, size = 4) +\n",
    "    labs(y = \"RMSE\", title = \"RMSE\") "
   ]
  },
  {
   "cell_type": "markdown",
   "metadata": {},
   "source": [
    " The **Polynomial Regression model with added terms** has the highest R-squared (0.79713) and the lowest RMSE (285.7007) and is therefore the best performing model."
   ]
  },
  {
   "cell_type": "markdown",
   "metadata": {},
   "source": [
    "### Q-Q plot of the best performing model"
   ]
  },
  {
   "cell_type": "markdown",
   "metadata": {},
   "source": [
    "Create a **Q-Q plot** by plotting the distribution difference between the predictions generated by the best model and the true values on the test dataset."
   ]
  },
  {
   "cell_type": "code",
   "execution_count": 34,
   "metadata": {
    "vscode": {
     "languageId": "r"
    }
   },
   "outputs": [
    {
     "data": {
      "image/png": "[encoded data removed]",
      "text/plain": [
       "plot without title"
      ]
     },
     "metadata": {
      "image/png": {
       "height": 420,
       "width": 420
      }
     },
     "output_type": "display_data"
    }
   ],
   "source": [
    "ggplot(pred_model_4) +\n",
    "    stat_qq(aes(sample=truth), color='green') +\n",
    "    stat_qq(aes(sample=.pred), color='red')"
   ]
  },
  {
   "cell_type": "markdown",
   "metadata": {},
   "source": [
    "## Additional possible model improvment methods"
   ]
  },
  {
   "cell_type": "markdown",
   "metadata": {},
   "source": [
    "The following methods can be used to further explore model performance improvement:\n",
    " - **Remove potential redundant variables:** Highly correlated variables may possibly be redundant.\n",
    " - **Remove some outliers:** Linear regression models are very sensitive to outliers.\n",
    " - **Apply logarithm transformation:** For variable distributions that are not normal distributions, e.g. **log-normal distribution**, log transformation can be applied to the variable to make it look more like a normal distribution. Log transformation helps capture the non-linear relationship."
   ]
  }
 ],
 "metadata": {
  "kernelspec": {
   "display_name": "R",
   "language": "R",
   "name": "ir"
  },
  "language_info": {
   "codemirror_mode": "r",
   "file_extension": ".r",
   "mimetype": "text/x-r-source",
   "name": "R",
   "pygments_lexer": "r",
   "version": "3.6.1"
  }
 },
 "nbformat": 4,
 "nbformat_minor": 4
}
